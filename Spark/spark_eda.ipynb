{
 "cells": [
  {
   "cell_type": "markdown",
   "id": "e547c21d-1bfc-4fe4-9653-3db9dda2a5c1",
   "metadata": {},
   "source": [
    "# Spark eda\n",
    "\n",
    "In this demo, we will use spark to do EDA (Exploratory Data Analysis) on all 911 calls of san francisco of the last 10 year"
   ]
  },
  {
   "cell_type": "code",
   "execution_count": 22,
   "id": "f7c9563a-7328-40f6-bf0a-fc886a1eeff4",
   "metadata": {},
   "outputs": [
    {
     "data": {
      "text/html": [
       "        <script type=\"text/javascript\">\n",
       "        window.PlotlyConfig = {MathJaxConfig: 'local'};\n",
       "        if (window.MathJax && window.MathJax.Hub && window.MathJax.Hub.Config) {window.MathJax.Hub.Config({SVG: {font: \"STIX-Web\"}});}\n",
       "        if (typeof require !== 'undefined') {\n",
       "        require.undef(\"plotly\");\n",
       "        requirejs.config({\n",
       "            paths: {\n",
       "                'plotly': ['https://cdn.plot.ly/plotly-2.14.0.min']\n",
       "            }\n",
       "        });\n",
       "        require(['plotly'], function(Plotly) {\n",
       "            window._Plotly = Plotly;\n",
       "        });\n",
       "        }\n",
       "        </script>\n",
       "        "
      ]
     },
     "metadata": {},
     "output_type": "display_data"
    }
   ],
   "source": [
    "import os\n",
    "from pyspark.sql import SparkSession\n",
    "from pyspark.sql.functions import count, col\n",
    "\n",
    "from pyspark.sql.types import IntegerType\n",
    "import numpy as np # linear algebra\n",
    "import chart_studio.plotly as py\n",
    "from plotly.offline import init_notebook_mode, iplot\n",
    "init_notebook_mode(connected=True)\n",
    "import plotly.graph_objs as go"
   ]
  },
  {
   "cell_type": "code",
   "execution_count": 3,
   "id": "8973a496-e41a-4a70-bffc-8edbefa76db9",
   "metadata": {},
   "outputs": [
    {
     "name": "stderr",
     "output_type": "stream",
     "text": [
      "2022-10-26 12:05:31,697 WARN util.NativeCodeLoader: Unable to load native-hadoop library for your platform... using builtin-java classes where applicable\n",
      "2022-10-26 12:05:32,095 INFO spark.SparkContext: Running Spark version 3.3.0\n",
      "2022-10-26 12:05:32,161 INFO resource.ResourceUtils: ==============================================================\n",
      "2022-10-26 12:05:32,162 INFO resource.ResourceUtils: No custom resources configured for spark.driver.\n",
      "2022-10-26 12:05:32,162 INFO resource.ResourceUtils: ==============================================================\n",
      "2022-10-26 12:05:32,163 INFO spark.SparkContext: Submitted application: spark_data_eda\n",
      "2022-10-26 12:05:32,184 INFO resource.ResourceProfile: Default ResourceProfile created, executor resources: Map(cores -> name: cores, amount: 1, script: , vendor: , memory -> name: memory, amount: 2048, script: , vendor: , offHeap -> name: offHeap, amount: 0, script: , vendor: ), task resources: Map(cpus -> name: cpus, amount: 1.0)\n",
      "2022-10-26 12:05:32,198 INFO resource.ResourceProfile: Limiting resource is cpus at 1 tasks per executor\n",
      "2022-10-26 12:05:32,199 INFO resource.ResourceProfileManager: Added ResourceProfile id: 0\n",
      "2022-10-26 12:05:32,264 INFO spark.SecurityManager: Changing view acls to: jovyan\n",
      "2022-10-26 12:05:32,264 INFO spark.SecurityManager: Changing modify acls to: jovyan\n",
      "2022-10-26 12:05:32,265 INFO spark.SecurityManager: Changing view acls groups to: \n",
      "2022-10-26 12:05:32,265 INFO spark.SecurityManager: Changing modify acls groups to: \n",
      "2022-10-26 12:05:32,265 INFO spark.SecurityManager: SecurityManager: authentication disabled; ui acls disabled; users  with view permissions: Set(jovyan); groups with view permissions: Set(); users  with modify permissions: Set(jovyan); groups with modify permissions: Set()\n",
      "2022-10-26 12:05:32,618 INFO util.Utils: Successfully started service 'sparkDriver' on port 44363.\n",
      "2022-10-26 12:05:32,652 INFO spark.SparkEnv: Registering MapOutputTracker\n",
      "2022-10-26 12:05:32,687 INFO spark.SparkEnv: Registering BlockManagerMaster\n",
      "2022-10-26 12:05:32,703 INFO storage.BlockManagerMasterEndpoint: Using org.apache.spark.storage.DefaultTopologyMapper for getting topology information\n",
      "2022-10-26 12:05:32,704 INFO storage.BlockManagerMasterEndpoint: BlockManagerMasterEndpoint up\n",
      "2022-10-26 12:05:32,707 INFO spark.SparkEnv: Registering BlockManagerMasterHeartbeat\n",
      "2022-10-26 12:05:32,726 INFO storage.DiskBlockManager: Created local directory at /tmp/blockmgr-dfbbc9fb-a519-4342-bba2-2e50a5086ac6\n",
      "2022-10-26 12:05:32,740 INFO memory.MemoryStore: MemoryStore started with capacity 1048.8 MiB\n",
      "2022-10-26 12:05:32,755 INFO spark.SparkEnv: Registering OutputCommitCoordinator\n",
      "2022-10-26 12:05:32,814 INFO util.log: Logging initialized @3225ms to org.sparkproject.jetty.util.log.Slf4jLog\n",
      "2022-10-26 12:05:32,985 INFO server.Server: jetty-9.4.46.v20220331; built: 2022-03-31T16:38:08.030Z; git: bc17a0369a11ecf40bb92c839b9ef0a8ac50ea18; jvm 11.0.16+8-post-Ubuntu-0ubuntu120.04\n",
      "2022-10-26 12:05:33,014 INFO server.Server: Started @3426ms\n",
      "2022-10-26 12:05:33,060 INFO server.AbstractConnector: Started ServerConnector@1e9df986{HTTP/1.1, (http/1.1)}{0.0.0.0:4040}\n",
      "2022-10-26 12:05:33,060 INFO util.Utils: Successfully started service 'SparkUI' on port 4040.\n",
      "2022-10-26 12:05:33,092 INFO handler.ContextHandler: Started o.s.j.s.ServletContextHandler@434a223e{/,null,AVAILABLE,@Spark}\n",
      "2022-10-26 12:05:33,209 INFO k8s.SparkKubernetesClientFactory: Auto-configuring K8S client using current context from users K8S config file\n",
      "2022-10-26 12:05:35,616 INFO util.Utils: Using initial executors = 4, max of spark.dynamicAllocation.initialExecutors, spark.dynamicAllocation.minExecutors and spark.executor.instances\n",
      "2022-10-26 12:05:35,805 INFO k8s.ExecutorPodsAllocator: Going to request 4 executors from Kubernetes for ResourceProfile Id: 0, target: 4, known: 0, sharedSlotFromPendingPods: 2147483647.\n",
      "2022-10-26 12:05:35,902 INFO submit.KubernetesClientUtils: Spark configuration files loaded from Some(/opt/spark/conf) : spark-env.sh\n",
      "2022-10-26 12:05:35,903 INFO submit.KubernetesClientUtils: Spark configuration files loaded from Some(/opt/spark/conf) : spark-env.sh\n",
      "2022-10-26 12:05:35,922 INFO features.BasicExecutorFeatureStep: Decommissioning not enabled, skipping shutdown script\n",
      "2022-10-26 12:05:36,018 INFO util.Utils: Successfully started service 'org.apache.spark.network.netty.NettyBlockTransferService' on port 40795.\n",
      "2022-10-26 12:05:36,018 INFO netty.NettyBlockTransferService: Server created on jupyter-772792-0.jupyter-772792.user-pengfei.svc.cluster.local:40795\n",
      "2022-10-26 12:05:36,020 INFO storage.BlockManager: Using org.apache.spark.storage.RandomBlockReplicationPolicy for block replication policy\n",
      "2022-10-26 12:05:36,027 INFO storage.BlockManagerMaster: Registering BlockManager BlockManagerId(driver, jupyter-772792-0.jupyter-772792.user-pengfei.svc.cluster.local, 40795, None)\n",
      "2022-10-26 12:05:36,031 INFO storage.BlockManagerMasterEndpoint: Registering block manager jupyter-772792-0.jupyter-772792.user-pengfei.svc.cluster.local:40795 with 1048.8 MiB RAM, BlockManagerId(driver, jupyter-772792-0.jupyter-772792.user-pengfei.svc.cluster.local, 40795, None)\n",
      "2022-10-26 12:05:36,034 INFO storage.BlockManagerMaster: Registered BlockManager BlockManagerId(driver, jupyter-772792-0.jupyter-772792.user-pengfei.svc.cluster.local, 40795, None)\n",
      "2022-10-26 12:05:36,036 INFO storage.BlockManager: Initialized BlockManager: BlockManagerId(driver, jupyter-772792-0.jupyter-772792.user-pengfei.svc.cluster.local, 40795, None)\n",
      "2022-10-26 12:05:36,074 INFO submit.KubernetesClientUtils: Spark configuration files loaded from Some(/opt/spark/conf) : spark-env.sh\n",
      "2022-10-26 12:05:36,077 INFO features.BasicExecutorFeatureStep: Decommissioning not enabled, skipping shutdown script\n",
      "2022-10-26 12:05:36,080 INFO util.Utils: Using initial executors = 4, max of spark.dynamicAllocation.initialExecutors, spark.dynamicAllocation.minExecutors and spark.executor.instances\n",
      "2022-10-26 12:05:36,081 INFO spark.ExecutorAllocationManager: Dynamic allocation is enabled without a shuffle service.\n",
      "2022-10-26 12:05:36,163 INFO submit.KubernetesClientUtils: Spark configuration files loaded from Some(/opt/spark/conf) : spark-env.sh\n",
      "2022-10-26 12:05:36,170 INFO features.BasicExecutorFeatureStep: Decommissioning not enabled, skipping shutdown script\n",
      "2022-10-26 12:05:36,205 INFO handler.ContextHandler: Stopped o.s.j.s.ServletContextHandler@434a223e{/,null,STOPPED,@Spark}\n",
      "2022-10-26 12:05:36,211 INFO handler.ContextHandler: Started o.s.j.s.ServletContextHandler@3868da35{/jobs,null,AVAILABLE,@Spark}\n",
      "2022-10-26 12:05:36,213 INFO handler.ContextHandler: Started o.s.j.s.ServletContextHandler@46658b8d{/jobs/json,null,AVAILABLE,@Spark}\n",
      "2022-10-26 12:05:36,217 INFO handler.ContextHandler: Started o.s.j.s.ServletContextHandler@7fcf5c2e{/jobs/job,null,AVAILABLE,@Spark}\n",
      "2022-10-26 12:05:36,218 INFO submit.KubernetesClientUtils: Spark configuration files loaded from Some(/opt/spark/conf) : spark-env.sh\n",
      "2022-10-26 12:05:36,220 INFO handler.ContextHandler: Started o.s.j.s.ServletContextHandler@3f99597e{/jobs/job/json,null,AVAILABLE,@Spark}\n",
      "2022-10-26 12:05:36,221 INFO handler.ContextHandler: Started o.s.j.s.ServletContextHandler@4b78622a{/stages,null,AVAILABLE,@Spark}\n",
      "2022-10-26 12:05:36,221 INFO handler.ContextHandler: Started o.s.j.s.ServletContextHandler@7dd90538{/stages/json,null,AVAILABLE,@Spark}\n",
      "2022-10-26 12:05:36,223 INFO handler.ContextHandler: Started o.s.j.s.ServletContextHandler@6859ffe3{/stages/stage,null,AVAILABLE,@Spark}\n",
      "2022-10-26 12:05:36,224 INFO handler.ContextHandler: Started o.s.j.s.ServletContextHandler@74f0909f{/stages/stage/json,null,AVAILABLE,@Spark}\n",
      "2022-10-26 12:05:36,225 INFO handler.ContextHandler: Started o.s.j.s.ServletContextHandler@7baf15c6{/stages/pool,null,AVAILABLE,@Spark}\n",
      "2022-10-26 12:05:36,226 INFO handler.ContextHandler: Started o.s.j.s.ServletContextHandler@1d8783ee{/stages/pool/json,null,AVAILABLE,@Spark}\n",
      "2022-10-26 12:05:36,226 INFO handler.ContextHandler: Started o.s.j.s.ServletContextHandler@307f1172{/storage,null,AVAILABLE,@Spark}\n",
      "2022-10-26 12:05:36,227 INFO handler.ContextHandler: Started o.s.j.s.ServletContextHandler@60a1b830{/storage/json,null,AVAILABLE,@Spark}\n",
      "2022-10-26 12:05:36,228 INFO handler.ContextHandler: Started o.s.j.s.ServletContextHandler@72a5f739{/storage/rdd,null,AVAILABLE,@Spark}\n",
      "2022-10-26 12:05:36,229 INFO features.BasicExecutorFeatureStep: Decommissioning not enabled, skipping shutdown script\n",
      "2022-10-26 12:05:36,230 INFO handler.ContextHandler: Started o.s.j.s.ServletContextHandler@186f546c{/storage/rdd/json,null,AVAILABLE,@Spark}\n",
      "2022-10-26 12:05:36,233 INFO handler.ContextHandler: Started o.s.j.s.ServletContextHandler@33ed91f6{/environment,null,AVAILABLE,@Spark}\n",
      "2022-10-26 12:05:36,234 INFO handler.ContextHandler: Started o.s.j.s.ServletContextHandler@34525306{/environment/json,null,AVAILABLE,@Spark}\n",
      "2022-10-26 12:05:36,236 INFO handler.ContextHandler: Started o.s.j.s.ServletContextHandler@6031d308{/executors,null,AVAILABLE,@Spark}\n",
      "2022-10-26 12:05:36,237 INFO handler.ContextHandler: Started o.s.j.s.ServletContextHandler@751e35ad{/executors/json,null,AVAILABLE,@Spark}\n",
      "2022-10-26 12:05:36,242 INFO handler.ContextHandler: Started o.s.j.s.ServletContextHandler@40375602{/executors/threadDump,null,AVAILABLE,@Spark}\n",
      "2022-10-26 12:05:36,260 INFO handler.ContextHandler: Started o.s.j.s.ServletContextHandler@380c192{/executors/threadDump/json,null,AVAILABLE,@Spark}\n",
      "2022-10-26 12:05:36,279 INFO handler.ContextHandler: Started o.s.j.s.ServletContextHandler@546a7e72{/static,null,AVAILABLE,@Spark}\n",
      "2022-10-26 12:05:36,280 INFO handler.ContextHandler: Started o.s.j.s.ServletContextHandler@68d9841e{/,null,AVAILABLE,@Spark}\n",
      "2022-10-26 12:05:36,290 INFO handler.ContextHandler: Started o.s.j.s.ServletContextHandler@1e67c949{/api,null,AVAILABLE,@Spark}\n",
      "2022-10-26 12:05:36,291 INFO handler.ContextHandler: Started o.s.j.s.ServletContextHandler@a9ddc74{/jobs/job/kill,null,AVAILABLE,@Spark}\n",
      "2022-10-26 12:05:36,292 INFO handler.ContextHandler: Started o.s.j.s.ServletContextHandler@674dc638{/stages/stage/kill,null,AVAILABLE,@Spark}\n",
      "2022-10-26 12:05:36,314 INFO handler.ContextHandler: Started o.s.j.s.ServletContextHandler@7201144a{/metrics/json,null,AVAILABLE,@Spark}\n",
      "2022-10-26 12:05:41,453 INFO k8s.KubernetesClusterSchedulerBackend$KubernetesDriverEndpoint: Registered executor NettyRpcEndpointRef(spark-client://Executor) (10.233.116.82:46286) with ID 3,  ResourceProfileId 0\n",
      "2022-10-26 12:05:41,462 INFO dynalloc.ExecutorMonitor: New executor 3 has registered (new total is 1)\n",
      "2022-10-26 12:05:41,637 INFO storage.BlockManagerMasterEndpoint: Registering block manager 10.233.116.82:39211 with 1007.8 MiB RAM, BlockManagerId(3, 10.233.116.82, 39211, None)\n",
      "2022-10-26 12:05:42,510 INFO k8s.KubernetesClusterSchedulerBackend$KubernetesDriverEndpoint: Registered executor NettyRpcEndpointRef(spark-client://Executor) (10.233.110.119:55448) with ID 4,  ResourceProfileId 0\n",
      "2022-10-26 12:05:42,510 INFO dynalloc.ExecutorMonitor: New executor 4 has registered (new total is 2)\n",
      "2022-10-26 12:05:42,701 INFO storage.BlockManagerMasterEndpoint: Registering block manager 10.233.110.119:35879 with 1007.8 MiB RAM, BlockManagerId(4, 10.233.110.119, 35879, None)\n",
      "2022-10-26 12:05:43,286 INFO k8s.KubernetesClusterSchedulerBackend$KubernetesDriverEndpoint: Registered executor NettyRpcEndpointRef(spark-client://Executor) (10.233.103.98:56972) with ID 1,  ResourceProfileId 0\n",
      "2022-10-26 12:05:43,287 INFO dynalloc.ExecutorMonitor: New executor 1 has registered (new total is 3)\n",
      "2022-10-26 12:05:43,538 INFO storage.BlockManagerMasterEndpoint: Registering block manager 10.233.103.98:36231 with 1007.8 MiB RAM, BlockManagerId(1, 10.233.103.98, 36231, None)\n",
      "2022-10-26 12:05:44,086 INFO k8s.KubernetesClusterSchedulerBackend$KubernetesDriverEndpoint: Registered executor NettyRpcEndpointRef(spark-client://Executor) (10.233.103.99:35460) with ID 2,  ResourceProfileId 0\n",
      "2022-10-26 12:05:44,087 INFO dynalloc.ExecutorMonitor: New executor 2 has registered (new total is 4)\n",
      "2022-10-26 12:05:44,179 INFO k8s.KubernetesClusterSchedulerBackend: SchedulerBackend is ready for scheduling beginning after reached minRegisteredResourcesRatio: 0.8\n",
      "2022-10-26 12:05:44,256 INFO storage.BlockManagerMasterEndpoint: Registering block manager 10.233.103.99:39261 with 1007.8 MiB RAM, BlockManagerId(2, 10.233.103.99, 39261, None)\n"
     ]
    }
   ],
   "source": [
    "local=False\n",
    "if local:\n",
    "    spark=SparkSession.builder.master(\"local[4]\") \\\n",
    "                  .appName(\"spark_eda\").getOrCreate()\n",
    "else:\n",
    "    spark=SparkSession.builder \\\n",
    "                      .master(\"k8s://https://kubernetes.default.svc:443\") \\\n",
    "                      .appName(\"spark_data_eda\") \\\n",
    "                      .config(\"spark.kubernetes.container.image\",os.environ[\"IMAGE_NAME\"]) \\\n",
    "                      .config(\"spark.kubernetes.authenticate.driver.serviceAccountName\",os.environ['KUBERNETES_SERVICE_ACCOUNT']) \\\n",
    "                      .config(\"spark.kubernetes.namespace\", os.environ['KUBERNETES_NAMESPACE']) \\\n",
    "                      .config(\"spark.executor.instances\", \"4\") \\\n",
    "                      .config(\"spark.executor.memory\",\"2g\") \\\n",
    "                      .config(\"spark.driver.memory\",\"2g\") \\\n",
    "                      .enableHiveSupport() \\\n",
    "                      .getOrCreate()"
   ]
  },
  {
   "cell_type": "code",
   "execution_count": 8,
   "id": "543c89a7-940f-488d-824f-7444a002099a",
   "metadata": {},
   "outputs": [],
   "source": [
    "def set_log_level(spark_session,log_level:str):\n",
    "    logger = spark_session.sparkContext._jvm.org.apache.log4j\n",
    "    if log_level==\"INFO\":\n",
    "        logger_level = logger.Level.INFO\n",
    "    elif log_level==\"WARN\":\n",
    "        logger_level = logger.Level.WARN\n",
    "    elif log_level==\"ERROR\":\n",
    "        logger_level = logger.Level.ERROR\n",
    "    else:\n",
    "        raise ValueError(\"The log_level must be INFO, WARN or ERROR\")\n",
    "    logger.LogManager.getLogger(\"org\").setLevel(logger_level)\n",
    "    logger.LogManager.getLogger(\"akka\").setLevel(logger_level)\n",
    "    \n",
    "set_log_level(spark,\"ERROR\")"
   ]
  },
  {
   "cell_type": "markdown",
   "id": "97f50447-c1f2-4132-8c9a-fd0a2dec465a",
   "metadata": {},
   "source": [
    "## Check worker number\n",
    "\n",
    "### Check the worker number via Spark UI\n",
    "\n",
    "To check how many workers with gpu has been deoployed. You can use the spark UI to view the status of all the workers.\n",
    "\n",
    "### Check the worker number via kubectl\n",
    "You can also use below command to check your spark worker number"
   ]
  },
  {
   "cell_type": "code",
   "execution_count": 9,
   "id": "52597aa0-4e63-4266-972f-8acc24420fe1",
   "metadata": {},
   "outputs": [
    {
     "name": "stdout",
     "output_type": "stream",
     "text": [
      "NAME                                     READY   STATUS    RESTARTS   AGE\n",
      "spark-data-eda-b1280284142ef788-exec-2   1/1     Running   0          2m37s\n"
     ]
    }
   ],
   "source": [
    "! kubectl get pods -l spark-role=executor"
   ]
  },
  {
   "cell_type": "markdown",
   "id": "4a4fe398-01ea-461f-9e7a-e1085791f9fb",
   "metadata": {},
   "source": [
    "## Do some analysis"
   ]
  },
  {
   "cell_type": "code",
   "execution_count": 5,
   "id": "969eea74-cf7a-48d0-837c-caf7a74c8e00",
   "metadata": {},
   "outputs": [],
   "source": [
    "work_dir=\"s3a://pengfei\"\n",
    "parquet_file_name=\"onyxia_demo/sf_fire\"\n",
    "data_path=f\"{work_dir}/{parquet_file_name}\""
   ]
  },
  {
   "cell_type": "code",
   "execution_count": 10,
   "id": "a55ed2ec-e866-4d75-ae67-99e98cb2cf5c",
   "metadata": {},
   "outputs": [],
   "source": [
    "df_raw=spark.read.parquet(data_path)"
   ]
  },
  {
   "cell_type": "code",
   "execution_count": 11,
   "id": "6ed6a72e-9aac-45fd-918c-23ba2834ed14",
   "metadata": {},
   "outputs": [
    {
     "name": "stderr",
     "output_type": "stream",
     "text": [
      "[Stage 2:===============================================>           (4 + 1) / 5]\r"
     ]
    },
    {
     "name": "stdout",
     "output_type": "stream",
     "text": [
      "data frame has : 5500519 rows and 34 columns\n"
     ]
    },
    {
     "name": "stderr",
     "output_type": "stream",
     "text": [
      "                                                                                \r"
     ]
    }
   ],
   "source": [
    "row_nb=df_raw.count()\n",
    "col_nb=len(df_raw.columns)\n",
    "\n",
    "print(f\"data frame has : {row_nb} rows and {col_nb} columns\")"
   ]
  },
  {
   "cell_type": "code",
   "execution_count": 12,
   "id": "64c3d1c2-2d12-43be-a53e-471d0f43f8cb",
   "metadata": {},
   "outputs": [
    {
     "name": "stdout",
     "output_type": "stream",
     "text": [
      "root\n",
      " |-- CallNumber: integer (nullable = true)\n",
      " |-- UnitID: string (nullable = true)\n",
      " |-- IncidentNumber: integer (nullable = true)\n",
      " |-- CallType: string (nullable = true)\n",
      " |-- CallDate: string (nullable = true)\n",
      " |-- WatchDate: string (nullable = true)\n",
      " |-- ReceivedDtTm: string (nullable = true)\n",
      " |-- EntryDtTm: string (nullable = true)\n",
      " |-- DispatchDtTm: string (nullable = true)\n",
      " |-- ResponseDtTm: string (nullable = true)\n",
      " |-- OnSceneDtTm: string (nullable = true)\n",
      " |-- TransportDtTm: string (nullable = true)\n",
      " |-- HospitalDtTm: string (nullable = true)\n",
      " |-- CallFinalDisposition: string (nullable = true)\n",
      " |-- AvailableDtTm: string (nullable = true)\n",
      " |-- Address: string (nullable = true)\n",
      " |-- City: string (nullable = true)\n",
      " |-- ZipcodeofIncident: integer (nullable = true)\n",
      " |-- Battalion: string (nullable = true)\n",
      " |-- StationArea: string (nullable = true)\n",
      " |-- Box: string (nullable = true)\n",
      " |-- OriginalPriority: string (nullable = true)\n",
      " |-- Priority: string (nullable = true)\n",
      " |-- FinalPriority: integer (nullable = true)\n",
      " |-- ALSUnit: boolean (nullable = true)\n",
      " |-- CallTypeGroup: string (nullable = true)\n",
      " |-- NumberofAlarms: integer (nullable = true)\n",
      " |-- UnitType: string (nullable = true)\n",
      " |-- Unitsequenceincalldispatch: integer (nullable = true)\n",
      " |-- FirePreventionDistrict: string (nullable = true)\n",
      " |-- SupervisorDistrict: string (nullable = true)\n",
      " |-- NeighborhoodDistrict: string (nullable = true)\n",
      " |-- Location: string (nullable = true)\n",
      " |-- RowID: string (nullable = true)\n",
      "\n"
     ]
    }
   ],
   "source": [
    "df_raw.printSchema()"
   ]
  },
  {
   "cell_type": "code",
   "execution_count": 15,
   "id": "3fed31bc-44c4-4c39-98bf-708e1bc9c320",
   "metadata": {},
   "outputs": [
    {
     "name": "stderr",
     "output_type": "stream",
     "text": [
      "[Stage 7:>                                                          (0 + 1) / 1]\r"
     ]
    },
    {
     "name": "stdout",
     "output_type": "stream",
     "text": [
      "+----------+------+--------------+--------------------+----------+----------+--------------------+--------------------+--------------------+--------------------+--------------------+-------------+------------+--------------------+--------------------+--------------------+-------------+-----------------+---------+-----------+----+----------------+--------+-------------+-------+-------------+--------------+--------+--------------------------+----------------------+------------------+--------------------+-------------+--------------------+\n",
      "|CallNumber|UnitID|IncidentNumber|            CallType|  CallDate| WatchDate|        ReceivedDtTm|           EntryDtTm|        DispatchDtTm|        ResponseDtTm|         OnSceneDtTm|TransportDtTm|HospitalDtTm|CallFinalDisposition|       AvailableDtTm|             Address|         City|ZipcodeofIncident|Battalion|StationArea| Box|OriginalPriority|Priority|FinalPriority|ALSUnit|CallTypeGroup|NumberofAlarms|UnitType|Unitsequenceincalldispatch|FirePreventionDistrict|SupervisorDistrict|NeighborhoodDistrict|     Location|               RowID|\n",
      "+----------+------+--------------+--------------------+----------+----------+--------------------+--------------------+--------------------+--------------------+--------------------+-------------+------------+--------------------+--------------------+--------------------+-------------+-----------------+---------+-----------+----+----------------+--------+-------------+-------+-------------+--------------+--------+--------------------------+----------------------+------------------+--------------------+-------------+--------------------+\n",
      "| 210391607|   E19|      21017645|              Alarms|02/08/2021|02/08/2021|02/08/2021 01:00:...|02/08/2021 01:01:...|02/08/2021 01:01:...|02/08/2021 01:03:...|02/08/2021 01:05:...|         null|        null|                Fire|02/08/2021 01:18:...|400 Block of SERR...|San Francisco|            94132|      B08|         19|8581|               3|       3|            3|   true|        Alarm|             1|  ENGINE|                         1|                     8|                 7|           Lakeshore|210391607-E19|POINT (-122.48045...|\n",
      "| 210391164|   T04|      21017596|              Alarms|02/08/2021|02/08/2021|02/08/2021 10:54:...|02/08/2021 10:56:...|02/08/2021 10:56:...|02/08/2021 10:57:...|02/08/2021 10:59:...|         null|        null|                Fire|02/08/2021 11:06:...|600 Block of LONG...|San Francisco|            94158|      B03|         04|2264|               3|       3|            3|  false|        Alarm|             1|   TRUCK|                         1|                     3|                 6|         Mission Bay|210391164-T04|POINT (-122.39227...|\n",
      "| 210391034|   E16|      21017578|Citizen Assist / ...|02/08/2021|02/08/2021|02/08/2021 10:18:...|02/08/2021 10:19:...|02/08/2021 10:19:...|02/08/2021 10:20:...|02/08/2021 10:27:...|         null|        null|                Fire|02/08/2021 10:53:...|FRANKLIN ST/FILBE...|San Francisco|            94123|      B04|         16|3233|               3|       3|            3|   true|        Alarm|             1|  ENGINE|                         1|                     4|                 2|              Marina|210391034-E16|POINT (-122.42581...|\n",
      "| 210390767|   T19|      21017552|               Other|02/08/2021|02/08/2021|02/08/2021 08:50:...|02/08/2021 08:54:...|02/08/2021 08:55:...|02/08/2021 08:57:...|                null|         null|        null|                Fire|02/08/2021 09:02:...|CALL BOX: JOHN DA...|    Daly City|             null|      B09|         33|9922|               3|       3|            3|   true|         Fire|             1|   TRUCK|                         9|                  None|              None|                None|210390767-T19|POINT (-122.46239...|\n",
      "| 210382984|   B05|      21017398|              Alarms|02/07/2021|02/07/2021|02/07/2021 09:18:...|02/07/2021 09:20:...|02/07/2021 09:21:...|02/07/2021 09:21:...|02/07/2021 09:25:...|         null|        null|                Fire|02/07/2021 09:35:...|2100 Block of FEL...|San Francisco|            94117|      B05|         12|4554|               3|       3|            3|  false|        Alarm|             1|   CHIEF|                         2|                     5|                 5|   Lone Mountain/USF|210382984-B05|POINT (-122.45328...|\n",
      "+----------+------+--------------+--------------------+----------+----------+--------------------+--------------------+--------------------+--------------------+--------------------+-------------+------------+--------------------+--------------------+--------------------+-------------+-----------------+---------+-----------+----+----------------+--------+-------------+-------+-------------+--------------+--------+--------------------------+----------------------+------------------+--------------------+-------------+--------------------+\n",
      "only showing top 5 rows\n",
      "\n"
     ]
    },
    {
     "name": "stderr",
     "output_type": "stream",
     "text": [
      "                                                                                \r"
     ]
    }
   ],
   "source": [
    "df_raw.show(5)"
   ]
  },
  {
   "cell_type": "markdown",
   "id": "d2d166b9-cb0b-49d8-a798-0d9d6d5cc9ae",
   "metadata": {},
   "source": [
    "## Q1 How many distinct types of calls were made to the Fire Department?\n",
    "\n"
   ]
  },
  {
   "cell_type": "code",
   "execution_count": 27,
   "id": "214541c0-ae7d-4f59-b179-219a10913d58",
   "metadata": {},
   "outputs": [
    {
     "name": "stderr",
     "output_type": "stream",
     "text": [
      "[Stage 36:==============================================>           (4 + 1) / 5]\r"
     ]
    },
    {
     "name": "stdout",
     "output_type": "stream",
     "text": [
      "+--------------------------------------------+\n",
      "|CallType                                    |\n",
      "+--------------------------------------------+\n",
      "|Marine Fire                                 |\n",
      "|Elevator / Escalator Rescue                 |\n",
      "|Aircraft Emergency                          |\n",
      "|Confined Space / Structure Collapse         |\n",
      "|Administrative                              |\n",
      "|Alarms                                      |\n",
      "|Odor (Strange / Unknown)                    |\n",
      "|Lightning Strike (Investigation)            |\n",
      "|Citizen Assist / Service Call               |\n",
      "|HazMat                                      |\n",
      "|Watercraft in Distress                      |\n",
      "|Explosion                                   |\n",
      "|Oil Spill                                   |\n",
      "|Vehicle Fire                                |\n",
      "|Suspicious Package                          |\n",
      "|Extrication / Entrapped (Machinery, Vehicle)|\n",
      "|Other                                       |\n",
      "|Outside Fire                                |\n",
      "|Traffic Collision                           |\n",
      "|Assist Police                               |\n",
      "+--------------------------------------------+\n",
      "only showing top 20 rows\n",
      "\n"
     ]
    },
    {
     "name": "stderr",
     "output_type": "stream",
     "text": [
      "                                                                                \r"
     ]
    }
   ],
   "source": [
    "all_call_type=df_raw.select(\"CallType\").filter(col(\"CallType\").isNotNull()).distinct()\n",
    "\n",
    "all_call_type.show(truncate=False)"
   ]
  },
  {
   "cell_type": "code",
   "execution_count": 28,
   "id": "150085c7-786f-4435-9ea7-5c3156f1a13a",
   "metadata": {},
   "outputs": [
    {
     "name": "stderr",
     "output_type": "stream",
     "text": [
      "[Stage 39:==============================================>           (4 + 1) / 5]\r"
     ]
    },
    {
     "name": "stdout",
     "output_type": "stream",
     "text": [
      "The total number of distinct call types are: 32\n"
     ]
    },
    {
     "name": "stderr",
     "output_type": "stream",
     "text": [
      "                                                                                \r"
     ]
    }
   ],
   "source": [
    "total_num=all_call_type.count()\n",
    "\n",
    "print(f\"The total number of distinct call types are: {total_num}\")"
   ]
  },
  {
   "cell_type": "markdown",
   "id": "773e776c-47e6-4b16-8364-8efec1987953",
   "metadata": {},
   "source": [
    "## Q2 What is the top 10 call type of San Francisco 911 service?"
   ]
  },
  {
   "cell_type": "code",
   "execution_count": 29,
   "id": "4d4cb9a1-6866-40a6-b01d-21067506b963",
   "metadata": {},
   "outputs": [
    {
     "name": "stderr",
     "output_type": "stream",
     "text": [
      "[Stage 45:==============================================>           (4 + 1) / 5]\r"
     ]
    },
    {
     "name": "stdout",
     "output_type": "stream",
     "text": [
      "+-------------------------------+---------------+\n",
      "|CallType                       |incident_number|\n",
      "+-------------------------------+---------------+\n",
      "|Medical Incident               |3596332        |\n",
      "|Structure Fire                 |681179         |\n",
      "|Alarms                         |599263         |\n",
      "|Traffic Collision              |224909         |\n",
      "|Other                          |87468          |\n",
      "|Citizen Assist / Service Call  |82173          |\n",
      "|Outside Fire                   |68491          |\n",
      "|Water Rescue                   |28253          |\n",
      "|Vehicle Fire                   |25512          |\n",
      "|Gas Leak (Natural and LP Gases)|22961          |\n",
      "+-------------------------------+---------------+\n",
      "\n"
     ]
    },
    {
     "name": "stderr",
     "output_type": "stream",
     "text": [
      "                                                                                \r"
     ]
    }
   ],
   "source": [
    "top10CallType=df_raw.groupBy(\"CallType\").agg(count(\"IncidentNumber\").alias(\"incident_number\")).orderBy(col(\"incident_number\").desc()).limit(10)\n",
    "top10CallType.show(20,truncate=False)"
   ]
  },
  {
   "cell_type": "code",
   "execution_count": 30,
   "id": "fb7d695f-0087-4cad-9d1f-a9bd79c12320",
   "metadata": {},
   "outputs": [
    {
     "name": "stderr",
     "output_type": "stream",
     "text": [
      "                                                                                \r"
     ]
    }
   ],
   "source": [
    "callPdf=top10CallType.toPandas()\n",
    "\n",
    "call=callPdf['CallType'].tolist()\n",
    "incident_count=callPdf['incident_number'].tolist()"
   ]
  },
  {
   "cell_type": "code",
   "execution_count": 31,
   "id": "a38a11e0-faa6-4f12-9a07-7e7441d40b6e",
   "metadata": {},
   "outputs": [
    {
     "data": {
      "application/vnd.plotly.v1+json": {
       "config": {
        "linkText": "Export to plot.ly",
        "plotlyServerURL": "https://plot.ly",
        "showLink": false
       },
       "data": [
        {
         "labels": [
          "Medical Incident",
          "Structure Fire",
          "Alarms",
          "Traffic Collision",
          "Other",
          "Citizen Assist / Service Call",
          "Outside Fire",
          "Water Rescue",
          "Vehicle Fire",
          "Gas Leak (Natural and LP Gases)"
         ],
         "marker": {
          "colors": [
           "#25e475",
           "#ee1c96"
          ]
         },
         "type": "pie",
         "values": [
          3596332,
          681179,
          599263,
          224909,
          87468,
          82173,
          68491,
          28253,
          25512,
          22961
         ]
        }
       ],
       "layout": {
        "height": 500,
        "template": {
         "data": {
          "bar": [
           {
            "error_x": {
             "color": "#2a3f5f"
            },
            "error_y": {
             "color": "#2a3f5f"
            },
            "marker": {
             "line": {
              "color": "#E5ECF6",
              "width": 0.5
             },
             "pattern": {
              "fillmode": "overlay",
              "size": 10,
              "solidity": 0.2
             }
            },
            "type": "bar"
           }
          ],
          "barpolar": [
           {
            "marker": {
             "line": {
              "color": "#E5ECF6",
              "width": 0.5
             },
             "pattern": {
              "fillmode": "overlay",
              "size": 10,
              "solidity": 0.2
             }
            },
            "type": "barpolar"
           }
          ],
          "carpet": [
           {
            "aaxis": {
             "endlinecolor": "#2a3f5f",
             "gridcolor": "white",
             "linecolor": "white",
             "minorgridcolor": "white",
             "startlinecolor": "#2a3f5f"
            },
            "baxis": {
             "endlinecolor": "#2a3f5f",
             "gridcolor": "white",
             "linecolor": "white",
             "minorgridcolor": "white",
             "startlinecolor": "#2a3f5f"
            },
            "type": "carpet"
           }
          ],
          "choropleth": [
           {
            "colorbar": {
             "outlinewidth": 0,
             "ticks": ""
            },
            "type": "choropleth"
           }
          ],
          "contour": [
           {
            "colorbar": {
             "outlinewidth": 0,
             "ticks": ""
            },
            "colorscale": [
             [
              0,
              "#0d0887"
             ],
             [
              0.1111111111111111,
              "#46039f"
             ],
             [
              0.2222222222222222,
              "#7201a8"
             ],
             [
              0.3333333333333333,
              "#9c179e"
             ],
             [
              0.4444444444444444,
              "#bd3786"
             ],
             [
              0.5555555555555556,
              "#d8576b"
             ],
             [
              0.6666666666666666,
              "#ed7953"
             ],
             [
              0.7777777777777778,
              "#fb9f3a"
             ],
             [
              0.8888888888888888,
              "#fdca26"
             ],
             [
              1,
              "#f0f921"
             ]
            ],
            "type": "contour"
           }
          ],
          "contourcarpet": [
           {
            "colorbar": {
             "outlinewidth": 0,
             "ticks": ""
            },
            "type": "contourcarpet"
           }
          ],
          "heatmap": [
           {
            "colorbar": {
             "outlinewidth": 0,
             "ticks": ""
            },
            "colorscale": [
             [
              0,
              "#0d0887"
             ],
             [
              0.1111111111111111,
              "#46039f"
             ],
             [
              0.2222222222222222,
              "#7201a8"
             ],
             [
              0.3333333333333333,
              "#9c179e"
             ],
             [
              0.4444444444444444,
              "#bd3786"
             ],
             [
              0.5555555555555556,
              "#d8576b"
             ],
             [
              0.6666666666666666,
              "#ed7953"
             ],
             [
              0.7777777777777778,
              "#fb9f3a"
             ],
             [
              0.8888888888888888,
              "#fdca26"
             ],
             [
              1,
              "#f0f921"
             ]
            ],
            "type": "heatmap"
           }
          ],
          "heatmapgl": [
           {
            "colorbar": {
             "outlinewidth": 0,
             "ticks": ""
            },
            "colorscale": [
             [
              0,
              "#0d0887"
             ],
             [
              0.1111111111111111,
              "#46039f"
             ],
             [
              0.2222222222222222,
              "#7201a8"
             ],
             [
              0.3333333333333333,
              "#9c179e"
             ],
             [
              0.4444444444444444,
              "#bd3786"
             ],
             [
              0.5555555555555556,
              "#d8576b"
             ],
             [
              0.6666666666666666,
              "#ed7953"
             ],
             [
              0.7777777777777778,
              "#fb9f3a"
             ],
             [
              0.8888888888888888,
              "#fdca26"
             ],
             [
              1,
              "#f0f921"
             ]
            ],
            "type": "heatmapgl"
           }
          ],
          "histogram": [
           {
            "marker": {
             "pattern": {
              "fillmode": "overlay",
              "size": 10,
              "solidity": 0.2
             }
            },
            "type": "histogram"
           }
          ],
          "histogram2d": [
           {
            "colorbar": {
             "outlinewidth": 0,
             "ticks": ""
            },
            "colorscale": [
             [
              0,
              "#0d0887"
             ],
             [
              0.1111111111111111,
              "#46039f"
             ],
             [
              0.2222222222222222,
              "#7201a8"
             ],
             [
              0.3333333333333333,
              "#9c179e"
             ],
             [
              0.4444444444444444,
              "#bd3786"
             ],
             [
              0.5555555555555556,
              "#d8576b"
             ],
             [
              0.6666666666666666,
              "#ed7953"
             ],
             [
              0.7777777777777778,
              "#fb9f3a"
             ],
             [
              0.8888888888888888,
              "#fdca26"
             ],
             [
              1,
              "#f0f921"
             ]
            ],
            "type": "histogram2d"
           }
          ],
          "histogram2dcontour": [
           {
            "colorbar": {
             "outlinewidth": 0,
             "ticks": ""
            },
            "colorscale": [
             [
              0,
              "#0d0887"
             ],
             [
              0.1111111111111111,
              "#46039f"
             ],
             [
              0.2222222222222222,
              "#7201a8"
             ],
             [
              0.3333333333333333,
              "#9c179e"
             ],
             [
              0.4444444444444444,
              "#bd3786"
             ],
             [
              0.5555555555555556,
              "#d8576b"
             ],
             [
              0.6666666666666666,
              "#ed7953"
             ],
             [
              0.7777777777777778,
              "#fb9f3a"
             ],
             [
              0.8888888888888888,
              "#fdca26"
             ],
             [
              1,
              "#f0f921"
             ]
            ],
            "type": "histogram2dcontour"
           }
          ],
          "mesh3d": [
           {
            "colorbar": {
             "outlinewidth": 0,
             "ticks": ""
            },
            "type": "mesh3d"
           }
          ],
          "parcoords": [
           {
            "line": {
             "colorbar": {
              "outlinewidth": 0,
              "ticks": ""
             }
            },
            "type": "parcoords"
           }
          ],
          "pie": [
           {
            "automargin": true,
            "type": "pie"
           }
          ],
          "scatter": [
           {
            "fillpattern": {
             "fillmode": "overlay",
             "size": 10,
             "solidity": 0.2
            },
            "type": "scatter"
           }
          ],
          "scatter3d": [
           {
            "line": {
             "colorbar": {
              "outlinewidth": 0,
              "ticks": ""
             }
            },
            "marker": {
             "colorbar": {
              "outlinewidth": 0,
              "ticks": ""
             }
            },
            "type": "scatter3d"
           }
          ],
          "scattercarpet": [
           {
            "marker": {
             "colorbar": {
              "outlinewidth": 0,
              "ticks": ""
             }
            },
            "type": "scattercarpet"
           }
          ],
          "scattergeo": [
           {
            "marker": {
             "colorbar": {
              "outlinewidth": 0,
              "ticks": ""
             }
            },
            "type": "scattergeo"
           }
          ],
          "scattergl": [
           {
            "marker": {
             "colorbar": {
              "outlinewidth": 0,
              "ticks": ""
             }
            },
            "type": "scattergl"
           }
          ],
          "scattermapbox": [
           {
            "marker": {
             "colorbar": {
              "outlinewidth": 0,
              "ticks": ""
             }
            },
            "type": "scattermapbox"
           }
          ],
          "scatterpolar": [
           {
            "marker": {
             "colorbar": {
              "outlinewidth": 0,
              "ticks": ""
             }
            },
            "type": "scatterpolar"
           }
          ],
          "scatterpolargl": [
           {
            "marker": {
             "colorbar": {
              "outlinewidth": 0,
              "ticks": ""
             }
            },
            "type": "scatterpolargl"
           }
          ],
          "scatterternary": [
           {
            "marker": {
             "colorbar": {
              "outlinewidth": 0,
              "ticks": ""
             }
            },
            "type": "scatterternary"
           }
          ],
          "surface": [
           {
            "colorbar": {
             "outlinewidth": 0,
             "ticks": ""
            },
            "colorscale": [
             [
              0,
              "#0d0887"
             ],
             [
              0.1111111111111111,
              "#46039f"
             ],
             [
              0.2222222222222222,
              "#7201a8"
             ],
             [
              0.3333333333333333,
              "#9c179e"
             ],
             [
              0.4444444444444444,
              "#bd3786"
             ],
             [
              0.5555555555555556,
              "#d8576b"
             ],
             [
              0.6666666666666666,
              "#ed7953"
             ],
             [
              0.7777777777777778,
              "#fb9f3a"
             ],
             [
              0.8888888888888888,
              "#fdca26"
             ],
             [
              1,
              "#f0f921"
             ]
            ],
            "type": "surface"
           }
          ],
          "table": [
           {
            "cells": {
             "fill": {
              "color": "#EBF0F8"
             },
             "line": {
              "color": "white"
             }
            },
            "header": {
             "fill": {
              "color": "#C8D4E3"
             },
             "line": {
              "color": "white"
             }
            },
            "type": "table"
           }
          ]
         },
         "layout": {
          "annotationdefaults": {
           "arrowcolor": "#2a3f5f",
           "arrowhead": 0,
           "arrowwidth": 1
          },
          "autotypenumbers": "strict",
          "coloraxis": {
           "colorbar": {
            "outlinewidth": 0,
            "ticks": ""
           }
          },
          "colorscale": {
           "diverging": [
            [
             0,
             "#8e0152"
            ],
            [
             0.1,
             "#c51b7d"
            ],
            [
             0.2,
             "#de77ae"
            ],
            [
             0.3,
             "#f1b6da"
            ],
            [
             0.4,
             "#fde0ef"
            ],
            [
             0.5,
             "#f7f7f7"
            ],
            [
             0.6,
             "#e6f5d0"
            ],
            [
             0.7,
             "#b8e186"
            ],
            [
             0.8,
             "#7fbc41"
            ],
            [
             0.9,
             "#4d9221"
            ],
            [
             1,
             "#276419"
            ]
           ],
           "sequential": [
            [
             0,
             "#0d0887"
            ],
            [
             0.1111111111111111,
             "#46039f"
            ],
            [
             0.2222222222222222,
             "#7201a8"
            ],
            [
             0.3333333333333333,
             "#9c179e"
            ],
            [
             0.4444444444444444,
             "#bd3786"
            ],
            [
             0.5555555555555556,
             "#d8576b"
            ],
            [
             0.6666666666666666,
             "#ed7953"
            ],
            [
             0.7777777777777778,
             "#fb9f3a"
            ],
            [
             0.8888888888888888,
             "#fdca26"
            ],
            [
             1,
             "#f0f921"
            ]
           ],
           "sequentialminus": [
            [
             0,
             "#0d0887"
            ],
            [
             0.1111111111111111,
             "#46039f"
            ],
            [
             0.2222222222222222,
             "#7201a8"
            ],
            [
             0.3333333333333333,
             "#9c179e"
            ],
            [
             0.4444444444444444,
             "#bd3786"
            ],
            [
             0.5555555555555556,
             "#d8576b"
            ],
            [
             0.6666666666666666,
             "#ed7953"
            ],
            [
             0.7777777777777778,
             "#fb9f3a"
            ],
            [
             0.8888888888888888,
             "#fdca26"
            ],
            [
             1,
             "#f0f921"
            ]
           ]
          },
          "colorway": [
           "#636efa",
           "#EF553B",
           "#00cc96",
           "#ab63fa",
           "#FFA15A",
           "#19d3f3",
           "#FF6692",
           "#B6E880",
           "#FF97FF",
           "#FECB52"
          ],
          "font": {
           "color": "#2a3f5f"
          },
          "geo": {
           "bgcolor": "white",
           "lakecolor": "white",
           "landcolor": "#E5ECF6",
           "showlakes": true,
           "showland": true,
           "subunitcolor": "white"
          },
          "hoverlabel": {
           "align": "left"
          },
          "hovermode": "closest",
          "mapbox": {
           "style": "light"
          },
          "paper_bgcolor": "white",
          "plot_bgcolor": "#E5ECF6",
          "polar": {
           "angularaxis": {
            "gridcolor": "white",
            "linecolor": "white",
            "ticks": ""
           },
           "bgcolor": "#E5ECF6",
           "radialaxis": {
            "gridcolor": "white",
            "linecolor": "white",
            "ticks": ""
           }
          },
          "scene": {
           "xaxis": {
            "backgroundcolor": "#E5ECF6",
            "gridcolor": "white",
            "gridwidth": 2,
            "linecolor": "white",
            "showbackground": true,
            "ticks": "",
            "zerolinecolor": "white"
           },
           "yaxis": {
            "backgroundcolor": "#E5ECF6",
            "gridcolor": "white",
            "gridwidth": 2,
            "linecolor": "white",
            "showbackground": true,
            "ticks": "",
            "zerolinecolor": "white"
           },
           "zaxis": {
            "backgroundcolor": "#E5ECF6",
            "gridcolor": "white",
            "gridwidth": 2,
            "linecolor": "white",
            "showbackground": true,
            "ticks": "",
            "zerolinecolor": "white"
           }
          },
          "shapedefaults": {
           "line": {
            "color": "#2a3f5f"
           }
          },
          "ternary": {
           "aaxis": {
            "gridcolor": "white",
            "linecolor": "white",
            "ticks": ""
           },
           "baxis": {
            "gridcolor": "white",
            "linecolor": "white",
            "ticks": ""
           },
           "bgcolor": "#E5ECF6",
           "caxis": {
            "gridcolor": "white",
            "linecolor": "white",
            "ticks": ""
           }
          },
          "title": {
           "x": 0.05
          },
          "xaxis": {
           "automargin": true,
           "gridcolor": "white",
           "linecolor": "white",
           "ticks": "",
           "title": {
            "standoff": 15
           },
           "zerolinecolor": "white",
           "zerolinewidth": 2
          },
          "yaxis": {
           "automargin": true,
           "gridcolor": "white",
           "linecolor": "white",
           "ticks": "",
           "title": {
            "standoff": 15
           },
           "zerolinecolor": "white",
           "zerolinewidth": 2
          }
         }
        },
        "title": {
         "text": "Types of Call"
        },
        "width": 800
       }
      },
      "image/png": "[encoded data removed]",
      "text/html": [
       "<div>                            <div id=\"0de59952-672f-4d5e-8aa5-2b9260b8d9af\" class=\"plotly-graph-div\" style=\"height:500px; width:800px;\"></div>            <script type=\"text/javascript\">                require([\"plotly\"], function(Plotly) {                    window.PLOTLYENV=window.PLOTLYENV || {};                                    if (document.getElementById(\"0de59952-672f-4d5e-8aa5-2b9260b8d9af\")) {                    Plotly.newPlot(                        \"0de59952-672f-4d5e-8aa5-2b9260b8d9af\",                        [{\"labels\":[\"Medical Incident\",\"Structure Fire\",\"Alarms\",\"Traffic Collision\",\"Other\",\"Citizen Assist / Service Call\",\"Outside Fire\",\"Water Rescue\",\"Vehicle Fire\",\"Gas Leak (Natural and LP Gases)\"],\"marker\":{\"colors\":[\"#25e475\",\"#ee1c96\"]},\"values\":[3596332,681179,599263,224909,87468,82173,68491,28253,25512,22961],\"type\":\"pie\"}],                        {\"height\":500,\"template\":{\"data\":{\"barpolar\":[{\"marker\":{\"line\":{\"color\":\"#E5ECF6\",\"width\":0.5},\"pattern\":{\"fillmode\":\"overlay\",\"size\":10,\"solidity\":0.2}},\"type\":\"barpolar\"}],\"bar\":[{\"error_x\":{\"color\":\"#2a3f5f\"},\"error_y\":{\"color\":\"#2a3f5f\"},\"marker\":{\"line\":{\"color\":\"#E5ECF6\",\"width\":0.5},\"pattern\":{\"fillmode\":\"overlay\",\"size\":10,\"solidity\":0.2}},\"type\":\"bar\"}],\"carpet\":[{\"aaxis\":{\"endlinecolor\":\"#2a3f5f\",\"gridcolor\":\"white\",\"linecolor\":\"white\",\"minorgridcolor\":\"white\",\"startlinecolor\":\"#2a3f5f\"},\"baxis\":{\"endlinecolor\":\"#2a3f5f\",\"gridcolor\":\"white\",\"linecolor\":\"white\",\"minorgridcolor\":\"white\",\"startlinecolor\":\"#2a3f5f\"},\"type\":\"carpet\"}],\"choropleth\":[{\"colorbar\":{\"outlinewidth\":0,\"ticks\":\"\"},\"type\":\"choropleth\"}],\"contourcarpet\":[{\"colorbar\":{\"outlinewidth\":0,\"ticks\":\"\"},\"type\":\"contourcarpet\"}],\"contour\":[{\"colorbar\":{\"outlinewidth\":0,\"ticks\":\"\"},\"colorscale\":[[0.0,\"#0d0887\"],[0.1111111111111111,\"#46039f\"],[0.2222222222222222,\"#7201a8\"],[0.3333333333333333,\"#9c179e\"],[0.4444444444444444,\"#bd3786\"],[0.5555555555555556,\"#d8576b\"],[0.6666666666666666,\"#ed7953\"],[0.7777777777777778,\"#fb9f3a\"],[0.8888888888888888,\"#fdca26\"],[1.0,\"#f0f921\"]],\"type\":\"contour\"}],\"heatmapgl\":[{\"colorbar\":{\"outlinewidth\":0,\"ticks\":\"\"},\"colorscale\":[[0.0,\"#0d0887\"],[0.1111111111111111,\"#46039f\"],[0.2222222222222222,\"#7201a8\"],[0.3333333333333333,\"#9c179e\"],[0.4444444444444444,\"#bd3786\"],[0.5555555555555556,\"#d8576b\"],[0.6666666666666666,\"#ed7953\"],[0.7777777777777778,\"#fb9f3a\"],[0.8888888888888888,\"#fdca26\"],[1.0,\"#f0f921\"]],\"type\":\"heatmapgl\"}],\"heatmap\":[{\"colorbar\":{\"outlinewidth\":0,\"ticks\":\"\"},\"colorscale\":[[0.0,\"#0d0887\"],[0.1111111111111111,\"#46039f\"],[0.2222222222222222,\"#7201a8\"],[0.3333333333333333,\"#9c179e\"],[0.4444444444444444,\"#bd3786\"],[0.5555555555555556,\"#d8576b\"],[0.6666666666666666,\"#ed7953\"],[0.7777777777777778,\"#fb9f3a\"],[0.8888888888888888,\"#fdca26\"],[1.0,\"#f0f921\"]],\"type\":\"heatmap\"}],\"histogram2dcontour\":[{\"colorbar\":{\"outlinewidth\":0,\"ticks\":\"\"},\"colorscale\":[[0.0,\"#0d0887\"],[0.1111111111111111,\"#46039f\"],[0.2222222222222222,\"#7201a8\"],[0.3333333333333333,\"#9c179e\"],[0.4444444444444444,\"#bd3786\"],[0.5555555555555556,\"#d8576b\"],[0.6666666666666666,\"#ed7953\"],[0.7777777777777778,\"#fb9f3a\"],[0.8888888888888888,\"#fdca26\"],[1.0,\"#f0f921\"]],\"type\":\"histogram2dcontour\"}],\"histogram2d\":[{\"colorbar\":{\"outlinewidth\":0,\"ticks\":\"\"},\"colorscale\":[[0.0,\"#0d0887\"],[0.1111111111111111,\"#46039f\"],[0.2222222222222222,\"#7201a8\"],[0.3333333333333333,\"#9c179e\"],[0.4444444444444444,\"#bd3786\"],[0.5555555555555556,\"#d8576b\"],[0.6666666666666666,\"#ed7953\"],[0.7777777777777778,\"#fb9f3a\"],[0.8888888888888888,\"#fdca26\"],[1.0,\"#f0f921\"]],\"type\":\"histogram2d\"}],\"histogram\":[{\"marker\":{\"pattern\":{\"fillmode\":\"overlay\",\"size\":10,\"solidity\":0.2}},\"type\":\"histogram\"}],\"mesh3d\":[{\"colorbar\":{\"outlinewidth\":0,\"ticks\":\"\"},\"type\":\"mesh3d\"}],\"parcoords\":[{\"line\":{\"colorbar\":{\"outlinewidth\":0,\"ticks\":\"\"}},\"type\":\"parcoords\"}],\"pie\":[{\"automargin\":true,\"type\":\"pie\"}],\"scatter3d\":[{\"line\":{\"colorbar\":{\"outlinewidth\":0,\"ticks\":\"\"}},\"marker\":{\"colorbar\":{\"outlinewidth\":0,\"ticks\":\"\"}},\"type\":\"scatter3d\"}],\"scattercarpet\":[{\"marker\":{\"colorbar\":{\"outlinewidth\":0,\"ticks\":\"\"}},\"type\":\"scattercarpet\"}],\"scattergeo\":[{\"marker\":{\"colorbar\":{\"outlinewidth\":0,\"ticks\":\"\"}},\"type\":\"scattergeo\"}],\"scattergl\":[{\"marker\":{\"colorbar\":{\"outlinewidth\":0,\"ticks\":\"\"}},\"type\":\"scattergl\"}],\"scattermapbox\":[{\"marker\":{\"colorbar\":{\"outlinewidth\":0,\"ticks\":\"\"}},\"type\":\"scattermapbox\"}],\"scatterpolargl\":[{\"marker\":{\"colorbar\":{\"outlinewidth\":0,\"ticks\":\"\"}},\"type\":\"scatterpolargl\"}],\"scatterpolar\":[{\"marker\":{\"colorbar\":{\"outlinewidth\":0,\"ticks\":\"\"}},\"type\":\"scatterpolar\"}],\"scatter\":[{\"fillpattern\":{\"fillmode\":\"overlay\",\"size\":10,\"solidity\":0.2},\"type\":\"scatter\"}],\"scatterternary\":[{\"marker\":{\"colorbar\":{\"outlinewidth\":0,\"ticks\":\"\"}},\"type\":\"scatterternary\"}],\"surface\":[{\"colorbar\":{\"outlinewidth\":0,\"ticks\":\"\"},\"colorscale\":[[0.0,\"#0d0887\"],[0.1111111111111111,\"#46039f\"],[0.2222222222222222,\"#7201a8\"],[0.3333333333333333,\"#9c179e\"],[0.4444444444444444,\"#bd3786\"],[0.5555555555555556,\"#d8576b\"],[0.6666666666666666,\"#ed7953\"],[0.7777777777777778,\"#fb9f3a\"],[0.8888888888888888,\"#fdca26\"],[1.0,\"#f0f921\"]],\"type\":\"surface\"}],\"table\":[{\"cells\":{\"fill\":{\"color\":\"#EBF0F8\"},\"line\":{\"color\":\"white\"}},\"header\":{\"fill\":{\"color\":\"#C8D4E3\"},\"line\":{\"color\":\"white\"}},\"type\":\"table\"}]},\"layout\":{\"annotationdefaults\":{\"arrowcolor\":\"#2a3f5f\",\"arrowhead\":0,\"arrowwidth\":1},\"autotypenumbers\":\"strict\",\"coloraxis\":{\"colorbar\":{\"outlinewidth\":0,\"ticks\":\"\"}},\"colorscale\":{\"diverging\":[[0,\"#8e0152\"],[0.1,\"#c51b7d\"],[0.2,\"#de77ae\"],[0.3,\"#f1b6da\"],[0.4,\"#fde0ef\"],[0.5,\"#f7f7f7\"],[0.6,\"#e6f5d0\"],[0.7,\"#b8e186\"],[0.8,\"#7fbc41\"],[0.9,\"#4d9221\"],[1,\"#276419\"]],\"sequential\":[[0.0,\"#0d0887\"],[0.1111111111111111,\"#46039f\"],[0.2222222222222222,\"#7201a8\"],[0.3333333333333333,\"#9c179e\"],[0.4444444444444444,\"#bd3786\"],[0.5555555555555556,\"#d8576b\"],[0.6666666666666666,\"#ed7953\"],[0.7777777777777778,\"#fb9f3a\"],[0.8888888888888888,\"#fdca26\"],[1.0,\"#f0f921\"]],\"sequentialminus\":[[0.0,\"#0d0887\"],[0.1111111111111111,\"#46039f\"],[0.2222222222222222,\"#7201a8\"],[0.3333333333333333,\"#9c179e\"],[0.4444444444444444,\"#bd3786\"],[0.5555555555555556,\"#d8576b\"],[0.6666666666666666,\"#ed7953\"],[0.7777777777777778,\"#fb9f3a\"],[0.8888888888888888,\"#fdca26\"],[1.0,\"#f0f921\"]]},\"colorway\":[\"#636efa\",\"#EF553B\",\"#00cc96\",\"#ab63fa\",\"#FFA15A\",\"#19d3f3\",\"#FF6692\",\"#B6E880\",\"#FF97FF\",\"#FECB52\"],\"font\":{\"color\":\"#2a3f5f\"},\"geo\":{\"bgcolor\":\"white\",\"lakecolor\":\"white\",\"landcolor\":\"#E5ECF6\",\"showlakes\":true,\"showland\":true,\"subunitcolor\":\"white\"},\"hoverlabel\":{\"align\":\"left\"},\"hovermode\":\"closest\",\"mapbox\":{\"style\":\"light\"},\"paper_bgcolor\":\"white\",\"plot_bgcolor\":\"#E5ECF6\",\"polar\":{\"angularaxis\":{\"gridcolor\":\"white\",\"linecolor\":\"white\",\"ticks\":\"\"},\"bgcolor\":\"#E5ECF6\",\"radialaxis\":{\"gridcolor\":\"white\",\"linecolor\":\"white\",\"ticks\":\"\"}},\"scene\":{\"xaxis\":{\"backgroundcolor\":\"#E5ECF6\",\"gridcolor\":\"white\",\"gridwidth\":2,\"linecolor\":\"white\",\"showbackground\":true,\"ticks\":\"\",\"zerolinecolor\":\"white\"},\"yaxis\":{\"backgroundcolor\":\"#E5ECF6\",\"gridcolor\":\"white\",\"gridwidth\":2,\"linecolor\":\"white\",\"showbackground\":true,\"ticks\":\"\",\"zerolinecolor\":\"white\"},\"zaxis\":{\"backgroundcolor\":\"#E5ECF6\",\"gridcolor\":\"white\",\"gridwidth\":2,\"linecolor\":\"white\",\"showbackground\":true,\"ticks\":\"\",\"zerolinecolor\":\"white\"}},\"shapedefaults\":{\"line\":{\"color\":\"#2a3f5f\"}},\"ternary\":{\"aaxis\":{\"gridcolor\":\"white\",\"linecolor\":\"white\",\"ticks\":\"\"},\"baxis\":{\"gridcolor\":\"white\",\"linecolor\":\"white\",\"ticks\":\"\"},\"bgcolor\":\"#E5ECF6\",\"caxis\":{\"gridcolor\":\"white\",\"linecolor\":\"white\",\"ticks\":\"\"}},\"title\":{\"x\":0.05},\"xaxis\":{\"automargin\":true,\"gridcolor\":\"white\",\"linecolor\":\"white\",\"ticks\":\"\",\"title\":{\"standoff\":15},\"zerolinecolor\":\"white\",\"zerolinewidth\":2},\"yaxis\":{\"automargin\":true,\"gridcolor\":\"white\",\"linecolor\":\"white\",\"ticks\":\"\",\"title\":{\"standoff\":15},\"zerolinecolor\":\"white\",\"zerolinewidth\":2}}},\"title\":{\"text\":\"Types of Call\"},\"width\":800},                        {\"responsive\": true}                    ).then(function(){\n",
       "                            \n",
       "var gd = document.getElementById('0de59952-672f-4d5e-8aa5-2b9260b8d9af');\n",
       "var x = new MutationObserver(function (mutations, observer) {{\n",
       "        var display = window.getComputedStyle(gd).display;\n",
       "        if (!display || display === 'none') {{\n",
       "            console.log([gd, 'removed!']);\n",
       "            Plotly.purge(gd);\n",
       "            observer.disconnect();\n",
       "        }}\n",
       "}});\n",
       "\n",
       "// Listen for the removal of the full notebook cells\n",
       "var notebookContainer = gd.closest('#notebook-container');\n",
       "if (notebookContainer) {{\n",
       "    x.observe(notebookContainer, {childList: true});\n",
       "}}\n",
       "\n",
       "// Listen for the clearing of the current output cell\n",
       "var outputEl = gd.closest('.output');\n",
       "if (outputEl) {{\n",
       "    x.observe(outputEl, {childList: true});\n",
       "}}\n",
       "\n",
       "                        })                };                });            </script>        </div>"
      ]
     },
     "metadata": {},
     "output_type": "display_data"
    }
   ],
   "source": [
    "pie_visual = go.Pie(labels=call, values=incident_count, marker=dict(colors=['#25e475', '#ee1c96',]))\n",
    "\n",
    "layout = go.Layout(title='Types of Call', width=800, height=500)\n",
    "fig = go.Figure(data=[pie_visual], layout=layout)\n",
    "iplot(fig)"
   ]
  },
  {
   "cell_type": "markdown",
   "id": "12fe5419-09ee-49c6-abd4-c194adbb99c7",
   "metadata": {},
   "source": [
    "## Q3 Find out all response or delayed times greater than 5 mins?\n",
    "\n",
    "1. Rename the column Delay - > ReponseDelayedinMins\n",
    "2. Returns a new DataFrame\n",
    "3. Find out all calls where the response time to the fire site was delayed for more than 5 mins\n",
    "\n",
    "We don't have a column `Delay`, so we need to use \n",
    "- ReceivedDtTm\n",
    "- EntryDtTm\n",
    "- DispatchDtTm\n",
    "- ResponseDtTm\n",
    "- OnSceneDtTm"
   ]
  },
  {
   "cell_type": "code",
   "execution_count": 35,
   "id": "01f89c5f-ad91-4bd7-a1ba-d0f4706ee036",
   "metadata": {},
   "outputs": [
    {
     "name": "stderr",
     "output_type": "stream",
     "text": [
      "[Stage 51:>                                                         (0 + 1) / 1]\r"
     ]
    },
    {
     "name": "stdout",
     "output_type": "stream",
     "text": [
      "+--------------+----------------------+----------------------+----------------------+----------------------+----------------------+\n",
      "|IncidentNumber|ReceivedDtTm          |EntryDtTm             |DispatchDtTm          |ResponseDtTm          |OnSceneDtTm           |\n",
      "+--------------+----------------------+----------------------+----------------------+----------------------+----------------------+\n",
      "|21017645      |02/08/2021 01:00:14 PM|02/08/2021 01:01:36 PM|02/08/2021 01:01:40 PM|02/08/2021 01:03:21 PM|02/08/2021 01:05:44 PM|\n",
      "|21017596      |02/08/2021 10:54:56 AM|02/08/2021 10:56:50 AM|02/08/2021 10:56:57 AM|02/08/2021 10:57:07 AM|02/08/2021 10:59:34 AM|\n",
      "+--------------+----------------------+----------------------+----------------------+----------------------+----------------------+\n",
      "only showing top 2 rows\n",
      "\n"
     ]
    },
    {
     "name": "stderr",
     "output_type": "stream",
     "text": [
      "                                                                                \r"
     ]
    }
   ],
   "source": [
    "df_raw.select(\"IncidentNumber\",\"ReceivedDtTm\",\"EntryDtTm\",\"DispatchDtTm\",\"ResponseDtTm\",\"OnSceneDtTm\").show(2,truncate=False)"
   ]
  },
  {
   "cell_type": "markdown",
   "id": "b9e252cc-02da-45aa-8339-5a1b56e7893c",
   "metadata": {},
   "source": [
    "We could use `OnSeneDTTm-ReceivedDtTm` to evaluate the deplay between a call received by the fire departement and fire fighter on scene. The problem here is"
   ]
  },
  {
   "cell_type": "code",
   "execution_count": null,
   "id": "70d68ca2-285f-40fe-83df-900f884d5b68",
   "metadata": {},
   "outputs": [],
   "source": []
  },
  {
   "cell_type": "code",
   "execution_count": 33,
   "id": "a56ac72c-1c24-4ca9-b686-53a3d8c5e032",
   "metadata": {},
   "outputs": [],
   "source": [
    "fire_df1=df_raw.withColumnRenamed(\"Delay\",\"ResponseDelayedinMins\")"
   ]
  },
  {
   "cell_type": "code",
   "execution_count": 34,
   "id": "69545709-ea4b-45b3-bad8-9157a534badf",
   "metadata": {},
   "outputs": [
    {
     "ename": "AnalysisException",
     "evalue": "Column 'ResponseDelayedinMins' does not exist. Did you mean one of the following? [ResponseDtTm, ReceivedDtTm, FinalPriority, Location, OriginalPriority, ZipcodeofIncident, Battalion, CallDate, CallFinalDisposition, DispatchDtTm, HospitalDtTm, NumberofAlarms, OnSceneDtTm, RowID, StationArea, SupervisorDistrict, WatchDate, ALSUnit, Address, AvailableDtTm, CallType, CallTypeGroup, EntryDtTm, FirePreventionDistrict, IncidentNumber, NeighborhoodDistrict, Priority, TransportDtTm, UnitID, UnitType, Box, CallNumber, City, Unitsequenceincalldispatch];\n'Filter ('ResponseDelayedinMins > 5)\n+- Relation [CallNumber#68,UnitID#69,IncidentNumber#70,CallType#71,CallDate#72,WatchDate#73,ReceivedDtTm#74,EntryDtTm#75,DispatchDtTm#76,ResponseDtTm#77,OnSceneDtTm#78,TransportDtTm#79,HospitalDtTm#80,CallFinalDisposition#81,AvailableDtTm#82,Address#83,City#84,ZipcodeofIncident#85,Battalion#86,StationArea#87,Box#88,OriginalPriority#89,Priority#90,FinalPriority#91,... 10 more fields] parquet\n",
     "output_type": "error",
     "traceback": [
      "\u001b[0;31m---------------------------------------------------------------------------\u001b[0m",
      "\u001b[0;31mAnalysisException\u001b[0m                         Traceback (most recent call last)",
      "Input \u001b[0;32mIn [34]\u001b[0m, in \u001b[0;36m<cell line: 1>\u001b[0;34m()\u001b[0m\n\u001b[0;32m----> 1\u001b[0m delayed_response\u001b[38;5;241m=\u001b[39m\u001b[43mfire_df1\u001b[49m\u001b[38;5;241;43m.\u001b[39;49m\u001b[43mfilter\u001b[49m\u001b[43m(\u001b[49m\u001b[43mcol\u001b[49m\u001b[43m(\u001b[49m\u001b[38;5;124;43m\"\u001b[39;49m\u001b[38;5;124;43mResponseDelayedinMins\u001b[39;49m\u001b[38;5;124;43m\"\u001b[39;49m\u001b[43m)\u001b[49m\u001b[38;5;241;43m>\u001b[39;49m\u001b[38;5;241;43m5\u001b[39;49m\u001b[43m)\u001b[49m\n\u001b[1;32m      2\u001b[0m delayed_response\u001b[38;5;241m.\u001b[39mshow()\n",
      "File \u001b[0;32m/opt/spark/python/pyspark/sql/dataframe.py:2079\u001b[0m, in \u001b[0;36mDataFrame.filter\u001b[0;34m(self, condition)\u001b[0m\n\u001b[1;32m   2077\u001b[0m     jdf \u001b[38;5;241m=\u001b[39m \u001b[38;5;28mself\u001b[39m\u001b[38;5;241m.\u001b[39m_jdf\u001b[38;5;241m.\u001b[39mfilter(condition)\n\u001b[1;32m   2078\u001b[0m \u001b[38;5;28;01melif\u001b[39;00m \u001b[38;5;28misinstance\u001b[39m(condition, Column):\n\u001b[0;32m-> 2079\u001b[0m     jdf \u001b[38;5;241m=\u001b[39m \u001b[38;5;28;43mself\u001b[39;49m\u001b[38;5;241;43m.\u001b[39;49m\u001b[43m_jdf\u001b[49m\u001b[38;5;241;43m.\u001b[39;49m\u001b[43mfilter\u001b[49m\u001b[43m(\u001b[49m\u001b[43mcondition\u001b[49m\u001b[38;5;241;43m.\u001b[39;49m\u001b[43m_jc\u001b[49m\u001b[43m)\u001b[49m\n\u001b[1;32m   2080\u001b[0m \u001b[38;5;28;01melse\u001b[39;00m:\n\u001b[1;32m   2081\u001b[0m     \u001b[38;5;28;01mraise\u001b[39;00m \u001b[38;5;167;01mTypeError\u001b[39;00m(\u001b[38;5;124m\"\u001b[39m\u001b[38;5;124mcondition should be string or Column\u001b[39m\u001b[38;5;124m\"\u001b[39m)\n",
      "File \u001b[0;32m/opt/spark/python/lib/py4j-0.10.9.5-src.zip/py4j/java_gateway.py:1321\u001b[0m, in \u001b[0;36mJavaMember.__call__\u001b[0;34m(self, *args)\u001b[0m\n\u001b[1;32m   1315\u001b[0m command \u001b[38;5;241m=\u001b[39m proto\u001b[38;5;241m.\u001b[39mCALL_COMMAND_NAME \u001b[38;5;241m+\u001b[39m\\\n\u001b[1;32m   1316\u001b[0m     \u001b[38;5;28mself\u001b[39m\u001b[38;5;241m.\u001b[39mcommand_header \u001b[38;5;241m+\u001b[39m\\\n\u001b[1;32m   1317\u001b[0m     args_command \u001b[38;5;241m+\u001b[39m\\\n\u001b[1;32m   1318\u001b[0m     proto\u001b[38;5;241m.\u001b[39mEND_COMMAND_PART\n\u001b[1;32m   1320\u001b[0m answer \u001b[38;5;241m=\u001b[39m \u001b[38;5;28mself\u001b[39m\u001b[38;5;241m.\u001b[39mgateway_client\u001b[38;5;241m.\u001b[39msend_command(command)\n\u001b[0;32m-> 1321\u001b[0m return_value \u001b[38;5;241m=\u001b[39m \u001b[43mget_return_value\u001b[49m\u001b[43m(\u001b[49m\n\u001b[1;32m   1322\u001b[0m \u001b[43m    \u001b[49m\u001b[43manswer\u001b[49m\u001b[43m,\u001b[49m\u001b[43m \u001b[49m\u001b[38;5;28;43mself\u001b[39;49m\u001b[38;5;241;43m.\u001b[39;49m\u001b[43mgateway_client\u001b[49m\u001b[43m,\u001b[49m\u001b[43m \u001b[49m\u001b[38;5;28;43mself\u001b[39;49m\u001b[38;5;241;43m.\u001b[39;49m\u001b[43mtarget_id\u001b[49m\u001b[43m,\u001b[49m\u001b[43m \u001b[49m\u001b[38;5;28;43mself\u001b[39;49m\u001b[38;5;241;43m.\u001b[39;49m\u001b[43mname\u001b[49m\u001b[43m)\u001b[49m\n\u001b[1;32m   1324\u001b[0m \u001b[38;5;28;01mfor\u001b[39;00m temp_arg \u001b[38;5;129;01min\u001b[39;00m temp_args:\n\u001b[1;32m   1325\u001b[0m     temp_arg\u001b[38;5;241m.\u001b[39m_detach()\n",
      "File \u001b[0;32m/opt/spark/python/pyspark/sql/utils.py:196\u001b[0m, in \u001b[0;36mcapture_sql_exception.<locals>.deco\u001b[0;34m(*a, **kw)\u001b[0m\n\u001b[1;32m    192\u001b[0m converted \u001b[38;5;241m=\u001b[39m convert_exception(e\u001b[38;5;241m.\u001b[39mjava_exception)\n\u001b[1;32m    193\u001b[0m \u001b[38;5;28;01mif\u001b[39;00m \u001b[38;5;129;01mnot\u001b[39;00m \u001b[38;5;28misinstance\u001b[39m(converted, UnknownException):\n\u001b[1;32m    194\u001b[0m     \u001b[38;5;66;03m# Hide where the exception came from that shows a non-Pythonic\u001b[39;00m\n\u001b[1;32m    195\u001b[0m     \u001b[38;5;66;03m# JVM exception message.\u001b[39;00m\n\u001b[0;32m--> 196\u001b[0m     \u001b[38;5;28;01mraise\u001b[39;00m converted \u001b[38;5;28;01mfrom\u001b[39;00m \u001b[38;5;28mNone\u001b[39m\n\u001b[1;32m    197\u001b[0m \u001b[38;5;28;01melse\u001b[39;00m:\n\u001b[1;32m    198\u001b[0m     \u001b[38;5;28;01mraise\u001b[39;00m\n",
      "\u001b[0;31mAnalysisException\u001b[0m: Column 'ResponseDelayedinMins' does not exist. Did you mean one of the following? [ResponseDtTm, ReceivedDtTm, FinalPriority, Location, OriginalPriority, ZipcodeofIncident, Battalion, CallDate, CallFinalDisposition, DispatchDtTm, HospitalDtTm, NumberofAlarms, OnSceneDtTm, RowID, StationArea, SupervisorDistrict, WatchDate, ALSUnit, Address, AvailableDtTm, CallType, CallTypeGroup, EntryDtTm, FirePreventionDistrict, IncidentNumber, NeighborhoodDistrict, Priority, TransportDtTm, UnitID, UnitType, Box, CallNumber, City, Unitsequenceincalldispatch];\n'Filter ('ResponseDelayedinMins > 5)\n+- Relation [CallNumber#68,UnitID#69,IncidentNumber#70,CallType#71,CallDate#72,WatchDate#73,ReceivedDtTm#74,EntryDtTm#75,DispatchDtTm#76,ResponseDtTm#77,OnSceneDtTm#78,TransportDtTm#79,HospitalDtTm#80,CallFinalDisposition#81,AvailableDtTm#82,Address#83,City#84,ZipcodeofIncident#85,Battalion#86,StationArea#87,Box#88,OriginalPriority#89,Priority#90,FinalPriority#91,... 10 more fields] parquet\n"
     ]
    }
   ],
   "source": [
    "delayed_response=fire_df1.filter(col(\"ResponseDelayedinMins\")>5)\n",
    "delayed_response.show()"
   ]
  },
  {
   "cell_type": "code",
   "execution_count": null,
   "id": "ed214fde-1b63-4c64-96a6-afb287f00127",
   "metadata": {},
   "outputs": [],
   "source": []
  }
 ],
 "metadata": {
  "kernelspec": {
   "display_name": "Python 3 (ipykernel)",
   "language": "python",
   "name": "python3"
  },
  "language_info": {
   "codemirror_mode": {
    "name": "ipython",
    "version": 3
   },
   "file_extension": ".py",
   "mimetype": "text/x-python",
   "name": "python",
   "nbconvert_exporter": "python",
   "pygments_lexer": "ipython3",
   "version": "3.9.12"
  }
 },
 "nbformat": 4,
 "nbformat_minor": 5
}

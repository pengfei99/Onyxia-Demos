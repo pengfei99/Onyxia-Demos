{
 "cells": [
  {
   "cell_type": "markdown",
   "id": "e547c21d-1bfc-4fe4-9653-3db9dda2a5c1",
   "metadata": {},
   "source": [
    "# Spark eda\n",
    "\n",
    "In this demo, we will use spark to do EDA (Exploratory Data Analysis) on all 911 calls of san francisco of the last 10 year"
   ]
  },
  {
   "cell_type": "code",
   "execution_count": 2,
   "id": "f7c9563a-7328-40f6-bf0a-fc886a1eeff4",
   "metadata": {},
   "outputs": [
    {
     "data": {
      "text/html": [
       "        <script type=\"text/javascript\">\n",
       "        window.PlotlyConfig = {MathJaxConfig: 'local'};\n",
       "        if (window.MathJax && window.MathJax.Hub && window.MathJax.Hub.Config) {window.MathJax.Hub.Config({SVG: {font: \"STIX-Web\"}});}\n",
       "        if (typeof require !== 'undefined') {\n",
       "        require.undef(\"plotly\");\n",
       "        requirejs.config({\n",
       "            paths: {\n",
       "                'plotly': ['https://cdn.plot.ly/plotly-2.14.0.min']\n",
       "            }\n",
       "        });\n",
       "        require(['plotly'], function(Plotly) {\n",
       "            window._Plotly = Plotly;\n",
       "        });\n",
       "        }\n",
       "        </script>\n",
       "        "
      ]
     },
     "metadata": {},
     "output_type": "display_data"
    }
   ],
   "source": [
    "import os\n",
    "from pyspark.sql import SparkSession\n",
    "from pyspark.sql.functions import count, col, to_timestamp, round,unix_timestamp, sum, avg, min, max, year, weekofyear\n",
    "\n",
    "from pyspark.sql.types import IntegerType\n",
    "import numpy as np # linear algebra\n",
    "import chart_studio.plotly as py\n",
    "from plotly.offline import init_notebook_mode, iplot\n",
    "init_notebook_mode(connected=True)\n",
    "import plotly.graph_objs as go\n",
    "import pgeocode"
   ]
  },
  {
   "cell_type": "code",
   "execution_count": null,
   "id": "ec55e1c8-b909-4858-b1fd-fe4e0f137583",
   "metadata": {},
   "outputs": [],
   "source": [
    "! pip install pgeocode chart_studio"
   ]
  },
  {
   "cell_type": "code",
   "execution_count": 3,
   "id": "8973a496-e41a-4a70-bffc-8edbefa76db9",
   "metadata": {},
   "outputs": [
    {
     "name": "stderr",
     "output_type": "stream",
     "text": [
      "2022-10-27 06:59:36,607 WARN util.NativeCodeLoader: Unable to load native-hadoop library for your platform... using builtin-java classes where applicable\n",
      "2022-10-27 06:59:36,818 INFO spark.SparkContext: Running Spark version 3.3.0\n",
      "2022-10-27 06:59:36,865 INFO resource.ResourceUtils: ==============================================================\n",
      "2022-10-27 06:59:36,866 INFO resource.ResourceUtils: No custom resources configured for spark.driver.\n",
      "2022-10-27 06:59:36,866 INFO resource.ResourceUtils: ==============================================================\n",
      "2022-10-27 06:59:36,867 INFO spark.SparkContext: Submitted application: spark_data_eda\n",
      "2022-10-27 06:59:36,887 INFO resource.ResourceProfile: Default ResourceProfile created, executor resources: Map(cores -> name: cores, amount: 1, script: , vendor: , memory -> name: memory, amount: 2048, script: , vendor: , offHeap -> name: offHeap, amount: 0, script: , vendor: ), task resources: Map(cpus -> name: cpus, amount: 1.0)\n",
      "2022-10-27 06:59:36,909 INFO resource.ResourceProfile: Limiting resource is cpus at 1 tasks per executor\n",
      "2022-10-27 06:59:36,910 INFO resource.ResourceProfileManager: Added ResourceProfile id: 0\n",
      "2022-10-27 06:59:36,963 INFO spark.SecurityManager: Changing view acls to: jovyan\n",
      "2022-10-27 06:59:36,964 INFO spark.SecurityManager: Changing modify acls to: jovyan\n",
      "2022-10-27 06:59:36,964 INFO spark.SecurityManager: Changing view acls groups to: \n",
      "2022-10-27 06:59:36,964 INFO spark.SecurityManager: Changing modify acls groups to: \n",
      "2022-10-27 06:59:36,965 INFO spark.SecurityManager: SecurityManager: authentication disabled; ui acls disabled; users  with view permissions: Set(jovyan); groups with view permissions: Set(); users  with modify permissions: Set(jovyan); groups with modify permissions: Set()\n",
      "2022-10-27 06:59:37,220 INFO util.Utils: Successfully started service 'sparkDriver' on port 42115.\n",
      "2022-10-27 06:59:37,244 INFO spark.SparkEnv: Registering MapOutputTracker\n",
      "2022-10-27 06:59:37,278 INFO spark.SparkEnv: Registering BlockManagerMaster\n",
      "2022-10-27 06:59:37,294 INFO storage.BlockManagerMasterEndpoint: Using org.apache.spark.storage.DefaultTopologyMapper for getting topology information\n",
      "2022-10-27 06:59:37,294 INFO storage.BlockManagerMasterEndpoint: BlockManagerMasterEndpoint up\n",
      "2022-10-27 06:59:37,297 INFO spark.SparkEnv: Registering BlockManagerMasterHeartbeat\n",
      "2022-10-27 06:59:37,316 INFO storage.DiskBlockManager: Created local directory at /tmp/blockmgr-7dc042a7-4eb9-4356-9b6e-4ee2345aff28\n",
      "2022-10-27 06:59:37,328 INFO memory.MemoryStore: MemoryStore started with capacity 1048.8 MiB\n",
      "2022-10-27 06:59:37,342 INFO spark.SparkEnv: Registering OutputCommitCoordinator\n",
      "2022-10-27 06:59:37,385 INFO util.log: Logging initialized @2467ms to org.sparkproject.jetty.util.log.Slf4jLog\n",
      "2022-10-27 06:59:37,496 INFO server.Server: jetty-9.4.46.v20220331; built: 2022-03-31T16:38:08.030Z; git: bc17a0369a11ecf40bb92c839b9ef0a8ac50ea18; jvm 11.0.16+8-post-Ubuntu-0ubuntu120.04\n",
      "2022-10-27 06:59:37,520 INFO server.Server: Started @2603ms\n",
      "2022-10-27 06:59:37,562 INFO server.AbstractConnector: Started ServerConnector@69df3f3e{HTTP/1.1, (http/1.1)}{0.0.0.0:4040}\n",
      "2022-10-27 06:59:37,562 INFO util.Utils: Successfully started service 'SparkUI' on port 4040.\n",
      "2022-10-27 06:59:37,615 INFO handler.ContextHandler: Started o.s.j.s.ServletContextHandler@5a7e1678{/,null,AVAILABLE,@Spark}\n",
      "2022-10-27 06:59:37,702 INFO k8s.SparkKubernetesClientFactory: Auto-configuring K8S client using current context from users K8S config file\n",
      "2022-10-27 06:59:39,821 INFO util.Utils: Using initial executors = 4, max of spark.dynamicAllocation.initialExecutors, spark.dynamicAllocation.minExecutors and spark.executor.instances\n",
      "2022-10-27 06:59:40,016 INFO k8s.ExecutorPodsAllocator: Going to request 4 executors from Kubernetes for ResourceProfile Id: 0, target: 4, known: 0, sharedSlotFromPendingPods: 2147483647.\n",
      "2022-10-27 06:59:40,123 INFO submit.KubernetesClientUtils: Spark configuration files loaded from Some(/opt/spark/conf) : spark-env.sh\n",
      "2022-10-27 06:59:40,124 INFO submit.KubernetesClientUtils: Spark configuration files loaded from Some(/opt/spark/conf) : spark-env.sh\n",
      "2022-10-27 06:59:40,142 INFO features.BasicExecutorFeatureStep: Decommissioning not enabled, skipping shutdown script\n",
      "2022-10-27 06:59:40,218 INFO util.Utils: Successfully started service 'org.apache.spark.network.netty.NettyBlockTransferService' on port 35987.\n",
      "2022-10-27 06:59:40,218 INFO netty.NettyBlockTransferService: Server created on jupyter-662342-0.jupyter-662342.user-pengfei.svc.cluster.local:35987\n",
      "2022-10-27 06:59:40,220 INFO storage.BlockManager: Using org.apache.spark.storage.RandomBlockReplicationPolicy for block replication policy\n",
      "2022-10-27 06:59:40,228 INFO storage.BlockManagerMaster: Registering BlockManager BlockManagerId(driver, jupyter-662342-0.jupyter-662342.user-pengfei.svc.cluster.local, 35987, None)\n",
      "2022-10-27 06:59:40,239 INFO storage.BlockManagerMasterEndpoint: Registering block manager jupyter-662342-0.jupyter-662342.user-pengfei.svc.cluster.local:35987 with 1048.8 MiB RAM, BlockManagerId(driver, jupyter-662342-0.jupyter-662342.user-pengfei.svc.cluster.local, 35987, None)\n",
      "2022-10-27 06:59:40,248 INFO storage.BlockManagerMaster: Registered BlockManager BlockManagerId(driver, jupyter-662342-0.jupyter-662342.user-pengfei.svc.cluster.local, 35987, None)\n",
      "2022-10-27 06:59:40,249 INFO storage.BlockManager: Initialized BlockManager: BlockManagerId(driver, jupyter-662342-0.jupyter-662342.user-pengfei.svc.cluster.local, 35987, None)\n",
      "2022-10-27 06:59:40,268 INFO util.Utils: Using initial executors = 4, max of spark.dynamicAllocation.initialExecutors, spark.dynamicAllocation.minExecutors and spark.executor.instances\n",
      "2022-10-27 06:59:40,269 INFO spark.ExecutorAllocationManager: Dynamic allocation is enabled without a shuffle service.\n",
      "2022-10-27 06:59:40,312 INFO submit.KubernetesClientUtils: Spark configuration files loaded from Some(/opt/spark/conf) : spark-env.sh\n",
      "2022-10-27 06:59:40,314 INFO features.BasicExecutorFeatureStep: Decommissioning not enabled, skipping shutdown script\n",
      "2022-10-27 06:59:40,373 INFO handler.ContextHandler: Stopped o.s.j.s.ServletContextHandler@5a7e1678{/,null,STOPPED,@Spark}\n",
      "2022-10-27 06:59:40,374 INFO handler.ContextHandler: Started o.s.j.s.ServletContextHandler@aa68829{/jobs,null,AVAILABLE,@Spark}\n",
      "2022-10-27 06:59:40,375 INFO handler.ContextHandler: Started o.s.j.s.ServletContextHandler@46398a3f{/jobs/json,null,AVAILABLE,@Spark}\n",
      "2022-10-27 06:59:40,376 INFO handler.ContextHandler: Started o.s.j.s.ServletContextHandler@1ab79837{/jobs/job,null,AVAILABLE,@Spark}\n",
      "2022-10-27 06:59:40,384 INFO submit.KubernetesClientUtils: Spark configuration files loaded from Some(/opt/spark/conf) : spark-env.sh\n",
      "2022-10-27 06:59:40,388 INFO handler.ContextHandler: Started o.s.j.s.ServletContextHandler@6df2c235{/jobs/job/json,null,AVAILABLE,@Spark}\n",
      "2022-10-27 06:59:40,389 INFO handler.ContextHandler: Started o.s.j.s.ServletContextHandler@77c8555f{/stages,null,AVAILABLE,@Spark}\n",
      "2022-10-27 06:59:40,390 INFO handler.ContextHandler: Started o.s.j.s.ServletContextHandler@40dd844b{/stages/json,null,AVAILABLE,@Spark}\n",
      "2022-10-27 06:59:40,391 INFO handler.ContextHandler: Started o.s.j.s.ServletContextHandler@50ec277e{/stages/stage,null,AVAILABLE,@Spark}\n",
      "2022-10-27 06:59:40,392 INFO handler.ContextHandler: Started o.s.j.s.ServletContextHandler@6561410c{/stages/stage/json,null,AVAILABLE,@Spark}\n",
      "2022-10-27 06:59:40,393 INFO handler.ContextHandler: Started o.s.j.s.ServletContextHandler@5f0f801a{/stages/pool,null,AVAILABLE,@Spark}\n",
      "2022-10-27 06:59:40,394 INFO handler.ContextHandler: Started o.s.j.s.ServletContextHandler@4f066558{/stages/pool/json,null,AVAILABLE,@Spark}\n",
      "2022-10-27 06:59:40,395 INFO handler.ContextHandler: Started o.s.j.s.ServletContextHandler@4e8a41d5{/storage,null,AVAILABLE,@Spark}\n",
      "2022-10-27 06:59:40,396 INFO features.BasicExecutorFeatureStep: Decommissioning not enabled, skipping shutdown script\n",
      "2022-10-27 06:59:40,404 INFO handler.ContextHandler: Started o.s.j.s.ServletContextHandler@133086e1{/storage/json,null,AVAILABLE,@Spark}\n",
      "2022-10-27 06:59:40,405 INFO handler.ContextHandler: Started o.s.j.s.ServletContextHandler@524a1401{/storage/rdd,null,AVAILABLE,@Spark}\n",
      "2022-10-27 06:59:40,406 INFO handler.ContextHandler: Started o.s.j.s.ServletContextHandler@2ac2657f{/storage/rdd/json,null,AVAILABLE,@Spark}\n",
      "2022-10-27 06:59:40,407 INFO handler.ContextHandler: Started o.s.j.s.ServletContextHandler@75a295fc{/environment,null,AVAILABLE,@Spark}\n",
      "2022-10-27 06:59:40,408 INFO handler.ContextHandler: Started o.s.j.s.ServletContextHandler@66d7405b{/environment/json,null,AVAILABLE,@Spark}\n",
      "2022-10-27 06:59:40,409 INFO handler.ContextHandler: Started o.s.j.s.ServletContextHandler@23bd33f7{/executors,null,AVAILABLE,@Spark}\n",
      "2022-10-27 06:59:40,410 INFO handler.ContextHandler: Started o.s.j.s.ServletContextHandler@19aff8d9{/executors/json,null,AVAILABLE,@Spark}\n",
      "2022-10-27 06:59:40,418 INFO handler.ContextHandler: Started o.s.j.s.ServletContextHandler@1b47e362{/executors/threadDump,null,AVAILABLE,@Spark}\n",
      "2022-10-27 06:59:40,419 INFO handler.ContextHandler: Started o.s.j.s.ServletContextHandler@df332ef{/executors/threadDump/json,null,AVAILABLE,@Spark}\n",
      "2022-10-27 06:59:40,439 INFO handler.ContextHandler: Started o.s.j.s.ServletContextHandler@28e2ebd{/static,null,AVAILABLE,@Spark}\n",
      "2022-10-27 06:59:40,441 INFO handler.ContextHandler: Started o.s.j.s.ServletContextHandler@3167736b{/,null,AVAILABLE,@Spark}\n",
      "2022-10-27 06:59:40,442 INFO handler.ContextHandler: Started o.s.j.s.ServletContextHandler@4b58b2e1{/api,null,AVAILABLE,@Spark}\n",
      "2022-10-27 06:59:40,443 INFO handler.ContextHandler: Started o.s.j.s.ServletContextHandler@70d6fd53{/jobs/job/kill,null,AVAILABLE,@Spark}\n",
      "2022-10-27 06:59:40,445 INFO handler.ContextHandler: Started o.s.j.s.ServletContextHandler@7945b7d2{/stages/stage/kill,null,AVAILABLE,@Spark}\n",
      "2022-10-27 06:59:40,452 INFO submit.KubernetesClientUtils: Spark configuration files loaded from Some(/opt/spark/conf) : spark-env.sh\n",
      "2022-10-27 06:59:40,455 INFO features.BasicExecutorFeatureStep: Decommissioning not enabled, skipping shutdown script\n",
      "2022-10-27 06:59:40,470 INFO handler.ContextHandler: Started o.s.j.s.ServletContextHandler@42b078c{/metrics/json,null,AVAILABLE,@Spark}\n",
      "2022-10-27 06:59:44,916 INFO k8s.KubernetesClusterSchedulerBackend$KubernetesDriverEndpoint: Registered executor NettyRpcEndpointRef(spark-client://Executor) (10.233.116.88:39572) with ID 3,  ResourceProfileId 0\n",
      "2022-10-27 06:59:44,937 INFO dynalloc.ExecutorMonitor: New executor 3 has registered (new total is 1)\n",
      "2022-10-27 06:59:45,075 INFO storage.BlockManagerMasterEndpoint: Registering block manager 10.233.116.88:34755 with 1007.8 MiB RAM, BlockManagerId(3, 10.233.116.88, 34755, None)\n",
      "2022-10-27 06:59:45,897 INFO k8s.KubernetesClusterSchedulerBackend$KubernetesDriverEndpoint: Registered executor NettyRpcEndpointRef(spark-client://Executor) (10.233.110.123:53932) with ID 4,  ResourceProfileId 0\n",
      "2022-10-27 06:59:45,898 INFO dynalloc.ExecutorMonitor: New executor 4 has registered (new total is 2)\n",
      "2022-10-27 06:59:46,046 INFO storage.BlockManagerMasterEndpoint: Registering block manager 10.233.110.123:41747 with 1007.8 MiB RAM, BlockManagerId(4, 10.233.110.123, 41747, None)\n",
      "2022-10-27 06:59:50,090 INFO k8s.KubernetesClusterSchedulerBackend$KubernetesDriverEndpoint: Registered executor NettyRpcEndpointRef(spark-client://Executor) (10.233.103.106:43138) with ID 2,  ResourceProfileId 0\n",
      "2022-10-27 06:59:50,090 INFO dynalloc.ExecutorMonitor: New executor 2 has registered (new total is 3)\n",
      "2022-10-27 06:59:50,125 INFO k8s.KubernetesClusterSchedulerBackend$KubernetesDriverEndpoint: Registered executor NettyRpcEndpointRef(spark-client://Executor) (10.233.103.105:55656) with ID 1,  ResourceProfileId 0\n",
      "2022-10-27 06:59:50,125 INFO dynalloc.ExecutorMonitor: New executor 1 has registered (new total is 4)\n",
      "2022-10-27 06:59:50,203 INFO k8s.KubernetesClusterSchedulerBackend: SchedulerBackend is ready for scheduling beginning after reached minRegisteredResourcesRatio: 0.8\n",
      "2022-10-27 06:59:50,329 INFO storage.BlockManagerMasterEndpoint: Registering block manager 10.233.103.106:41077 with 1007.8 MiB RAM, BlockManagerId(2, 10.233.103.106, 41077, None)\n",
      "2022-10-27 06:59:50,421 INFO storage.BlockManagerMasterEndpoint: Registering block manager 10.233.103.105:35911 with 1007.8 MiB RAM, BlockManagerId(1, 10.233.103.105, 35911, None)\n"
     ]
    }
   ],
   "source": [
    "local=False\n",
    "if local:\n",
    "    spark=SparkSession.builder.master(\"local[4]\") \\\n",
    "                  .appName(\"spark_eda\").getOrCreate()\n",
    "else:\n",
    "    spark=SparkSession.builder \\\n",
    "                      .master(\"k8s://https://kubernetes.default.svc:443\") \\\n",
    "                      .appName(\"spark_eda\") \\\n",
    "                      .config(\"spark.kubernetes.container.image\",os.environ[\"IMAGE_NAME\"]) \\\n",
    "                      .config(\"spark.kubernetes.authenticate.driver.serviceAccountName\",os.environ['KUBERNETES_SERVICE_ACCOUNT']) \\\n",
    "                      .config(\"spark.kubernetes.namespace\", os.environ['KUBERNETES_NAMESPACE']) \\\n",
    "                      .config(\"spark.executor.instances\", \"4\") \\\n",
    "                      .config(\"spark.executor.memory\",\"2g\") \\\n",
    "                      .config(\"spark.driver.memory\",\"2g\") \\\n",
    "                      .enableHiveSupport() \\\n",
    "                      .getOrCreate()"
   ]
  },
  {
   "cell_type": "code",
   "execution_count": 4,
   "id": "543c89a7-940f-488d-824f-7444a002099a",
   "metadata": {},
   "outputs": [],
   "source": [
    "def set_log_level(spark_session,log_level:str):\n",
    "    logger = spark_session.sparkContext._jvm.org.apache.log4j\n",
    "    if log_level==\"INFO\":\n",
    "        logger_level = logger.Level.INFO\n",
    "    elif log_level==\"WARN\":\n",
    "        logger_level = logger.Level.WARN\n",
    "    elif log_level==\"ERROR\":\n",
    "        logger_level = logger.Level.ERROR\n",
    "    else:\n",
    "        raise ValueError(\"The log_level must be INFO, WARN or ERROR\")\n",
    "    logger.LogManager.getLogger(\"org\").setLevel(logger_level)\n",
    "    logger.LogManager.getLogger(\"akka\").setLevel(logger_level)\n",
    "    \n",
    "set_log_level(spark,\"ERROR\")"
   ]
  },
  {
   "cell_type": "markdown",
   "id": "97f50447-c1f2-4132-8c9a-fd0a2dec465a",
   "metadata": {},
   "source": [
    "## Check worker number\n",
    "\n",
    "### Check the worker number via Spark UI\n",
    "\n",
    "To check how many workers with gpu has been deoployed. You can use the spark UI to view the status of all the workers.\n",
    "\n",
    "### Check the worker number via kubectl\n",
    "You can also use below command to check your spark worker number"
   ]
  },
  {
   "cell_type": "code",
   "execution_count": 5,
   "id": "52597aa0-4e63-4266-972f-8acc24420fe1",
   "metadata": {},
   "outputs": [
    {
     "name": "stdout",
     "output_type": "stream",
     "text": [
      "NAME                                     READY   STATUS    RESTARTS   AGE\n",
      "spark-data-eda-a4347c84183d3e5b-exec-1   1/1     Running   0          29s\n",
      "spark-data-eda-a4347c84183d3e5b-exec-2   1/1     Running   0          29s\n",
      "spark-data-eda-a4347c84183d3e5b-exec-3   1/1     Running   0          29s\n",
      "spark-data-eda-a4347c84183d3e5b-exec-4   1/1     Running   0          29s\n"
     ]
    }
   ],
   "source": [
    "! kubectl get pods -l spark-role=executor"
   ]
  },
  {
   "cell_type": "markdown",
   "id": "4a4fe398-01ea-461f-9e7a-e1085791f9fb",
   "metadata": {},
   "source": [
    "## Do some analysis"
   ]
  },
  {
   "cell_type": "code",
   "execution_count": 6,
   "id": "969eea74-cf7a-48d0-837c-caf7a74c8e00",
   "metadata": {},
   "outputs": [],
   "source": [
    "work_dir=\"s3a://pengfei\"\n",
    "parquet_file_name=\"onyxia_demo/sf_fire\"\n",
    "data_path=f\"{work_dir}/{parquet_file_name}\""
   ]
  },
  {
   "cell_type": "code",
   "execution_count": 7,
   "id": "a55ed2ec-e866-4d75-ae67-99e98cb2cf5c",
   "metadata": {},
   "outputs": [
    {
     "name": "stderr",
     "output_type": "stream",
     "text": [
      "                                                                                \r"
     ]
    }
   ],
   "source": [
    "df_raw=spark.read.parquet(data_path)"
   ]
  },
  {
   "cell_type": "code",
   "execution_count": 8,
   "id": "6ed6a72e-9aac-45fd-918c-23ba2834ed14",
   "metadata": {},
   "outputs": [
    {
     "name": "stderr",
     "output_type": "stream",
     "text": [
      "[Stage 1:===============================================>           (4 + 1) / 5]\r"
     ]
    },
    {
     "name": "stdout",
     "output_type": "stream",
     "text": [
      "data frame has : 5500519 rows and 34 columns\n"
     ]
    },
    {
     "name": "stderr",
     "output_type": "stream",
     "text": [
      "                                                                                \r"
     ]
    }
   ],
   "source": [
    "row_nb=df_raw.count()\n",
    "col_nb=len(df_raw.columns)\n",
    "\n",
    "print(f\"data frame has : {row_nb} rows and {col_nb} columns\")"
   ]
  },
  {
   "cell_type": "code",
   "execution_count": 9,
   "id": "64c3d1c2-2d12-43be-a53e-471d0f43f8cb",
   "metadata": {},
   "outputs": [
    {
     "name": "stdout",
     "output_type": "stream",
     "text": [
      "root\n",
      " |-- CallNumber: integer (nullable = true)\n",
      " |-- UnitID: string (nullable = true)\n",
      " |-- IncidentNumber: integer (nullable = true)\n",
      " |-- CallType: string (nullable = true)\n",
      " |-- CallDate: string (nullable = true)\n",
      " |-- WatchDate: string (nullable = true)\n",
      " |-- ReceivedDtTm: string (nullable = true)\n",
      " |-- EntryDtTm: string (nullable = true)\n",
      " |-- DispatchDtTm: string (nullable = true)\n",
      " |-- ResponseDtTm: string (nullable = true)\n",
      " |-- OnSceneDtTm: string (nullable = true)\n",
      " |-- TransportDtTm: string (nullable = true)\n",
      " |-- HospitalDtTm: string (nullable = true)\n",
      " |-- CallFinalDisposition: string (nullable = true)\n",
      " |-- AvailableDtTm: string (nullable = true)\n",
      " |-- Address: string (nullable = true)\n",
      " |-- City: string (nullable = true)\n",
      " |-- ZipcodeofIncident: integer (nullable = true)\n",
      " |-- Battalion: string (nullable = true)\n",
      " |-- StationArea: string (nullable = true)\n",
      " |-- Box: string (nullable = true)\n",
      " |-- OriginalPriority: string (nullable = true)\n",
      " |-- Priority: string (nullable = true)\n",
      " |-- FinalPriority: integer (nullable = true)\n",
      " |-- ALSUnit: boolean (nullable = true)\n",
      " |-- CallTypeGroup: string (nullable = true)\n",
      " |-- NumberofAlarms: integer (nullable = true)\n",
      " |-- UnitType: string (nullable = true)\n",
      " |-- Unitsequenceincalldispatch: integer (nullable = true)\n",
      " |-- FirePreventionDistrict: string (nullable = true)\n",
      " |-- SupervisorDistrict: string (nullable = true)\n",
      " |-- NeighborhoodDistrict: string (nullable = true)\n",
      " |-- Location: string (nullable = true)\n",
      " |-- RowID: string (nullable = true)\n",
      "\n"
     ]
    }
   ],
   "source": [
    "df_raw.printSchema()"
   ]
  },
  {
   "cell_type": "code",
   "execution_count": 10,
   "id": "3fed31bc-44c4-4c39-98bf-708e1bc9c320",
   "metadata": {},
   "outputs": [
    {
     "name": "stderr",
     "output_type": "stream",
     "text": [
      "[Stage 4:>                                                          (0 + 1) / 1]\r"
     ]
    },
    {
     "name": "stdout",
     "output_type": "stream",
     "text": [
      "+----------+------+--------------+--------------------+----------+----------+--------------------+--------------------+--------------------+--------------------+--------------------+-------------+------------+--------------------+--------------------+--------------------+-------------+-----------------+---------+-----------+----+----------------+--------+-------------+-------+-------------+--------------+--------+--------------------------+----------------------+------------------+--------------------+-------------+--------------------+\n",
      "|CallNumber|UnitID|IncidentNumber|            CallType|  CallDate| WatchDate|        ReceivedDtTm|           EntryDtTm|        DispatchDtTm|        ResponseDtTm|         OnSceneDtTm|TransportDtTm|HospitalDtTm|CallFinalDisposition|       AvailableDtTm|             Address|         City|ZipcodeofIncident|Battalion|StationArea| Box|OriginalPriority|Priority|FinalPriority|ALSUnit|CallTypeGroup|NumberofAlarms|UnitType|Unitsequenceincalldispatch|FirePreventionDistrict|SupervisorDistrict|NeighborhoodDistrict|     Location|               RowID|\n",
      "+----------+------+--------------+--------------------+----------+----------+--------------------+--------------------+--------------------+--------------------+--------------------+-------------+------------+--------------------+--------------------+--------------------+-------------+-----------------+---------+-----------+----+----------------+--------+-------------+-------+-------------+--------------+--------+--------------------------+----------------------+------------------+--------------------+-------------+--------------------+\n",
      "| 210391607|   E19|      21017645|              Alarms|02/08/2021|02/08/2021|02/08/2021 01:00:...|02/08/2021 01:01:...|02/08/2021 01:01:...|02/08/2021 01:03:...|02/08/2021 01:05:...|         null|        null|                Fire|02/08/2021 01:18:...|400 Block of SERR...|San Francisco|            94132|      B08|         19|8581|               3|       3|            3|   true|        Alarm|             1|  ENGINE|                         1|                     8|                 7|           Lakeshore|210391607-E19|POINT (-122.48045...|\n",
      "| 210391164|   T04|      21017596|              Alarms|02/08/2021|02/08/2021|02/08/2021 10:54:...|02/08/2021 10:56:...|02/08/2021 10:56:...|02/08/2021 10:57:...|02/08/2021 10:59:...|         null|        null|                Fire|02/08/2021 11:06:...|600 Block of LONG...|San Francisco|            94158|      B03|         04|2264|               3|       3|            3|  false|        Alarm|             1|   TRUCK|                         1|                     3|                 6|         Mission Bay|210391164-T04|POINT (-122.39227...|\n",
      "| 210391034|   E16|      21017578|Citizen Assist / ...|02/08/2021|02/08/2021|02/08/2021 10:18:...|02/08/2021 10:19:...|02/08/2021 10:19:...|02/08/2021 10:20:...|02/08/2021 10:27:...|         null|        null|                Fire|02/08/2021 10:53:...|FRANKLIN ST/FILBE...|San Francisco|            94123|      B04|         16|3233|               3|       3|            3|   true|        Alarm|             1|  ENGINE|                         1|                     4|                 2|              Marina|210391034-E16|POINT (-122.42581...|\n",
      "| 210390767|   T19|      21017552|               Other|02/08/2021|02/08/2021|02/08/2021 08:50:...|02/08/2021 08:54:...|02/08/2021 08:55:...|02/08/2021 08:57:...|                null|         null|        null|                Fire|02/08/2021 09:02:...|CALL BOX: JOHN DA...|    Daly City|             null|      B09|         33|9922|               3|       3|            3|   true|         Fire|             1|   TRUCK|                         9|                  None|              None|                None|210390767-T19|POINT (-122.46239...|\n",
      "| 210382984|   B05|      21017398|              Alarms|02/07/2021|02/07/2021|02/07/2021 09:18:...|02/07/2021 09:20:...|02/07/2021 09:21:...|02/07/2021 09:21:...|02/07/2021 09:25:...|         null|        null|                Fire|02/07/2021 09:35:...|2100 Block of FEL...|San Francisco|            94117|      B05|         12|4554|               3|       3|            3|  false|        Alarm|             1|   CHIEF|                         2|                     5|                 5|   Lone Mountain/USF|210382984-B05|POINT (-122.45328...|\n",
      "+----------+------+--------------+--------------------+----------+----------+--------------------+--------------------+--------------------+--------------------+--------------------+-------------+------------+--------------------+--------------------+--------------------+-------------+-----------------+---------+-----------+----+----------------+--------+-------------+-------+-------------+--------------+--------+--------------------------+----------------------+------------------+--------------------+-------------+--------------------+\n",
      "only showing top 5 rows\n",
      "\n"
     ]
    },
    {
     "name": "stderr",
     "output_type": "stream",
     "text": [
      "                                                                                \r"
     ]
    }
   ],
   "source": [
    "df_raw.show(5)"
   ]
  },
  {
   "cell_type": "markdown",
   "id": "d2d166b9-cb0b-49d8-a798-0d9d6d5cc9ae",
   "metadata": {},
   "source": [
    "## Q1 How many distinct types of calls were made to the Fire Department?\n",
    "\n"
   ]
  },
  {
   "cell_type": "code",
   "execution_count": 11,
   "id": "214541c0-ae7d-4f59-b179-219a10913d58",
   "metadata": {},
   "outputs": [
    {
     "name": "stderr",
     "output_type": "stream",
     "text": [
      "[Stage 5:===============================================>           (4 + 1) / 5]\r"
     ]
    },
    {
     "name": "stdout",
     "output_type": "stream",
     "text": [
      "+--------------------------------------------+\n",
      "|CallType                                    |\n",
      "+--------------------------------------------+\n",
      "|Elevator / Escalator Rescue                 |\n",
      "|Marine Fire                                 |\n",
      "|Aircraft Emergency                          |\n",
      "|Confined Space / Structure Collapse         |\n",
      "|Administrative                              |\n",
      "|Alarms                                      |\n",
      "|Odor (Strange / Unknown)                    |\n",
      "|Citizen Assist / Service Call               |\n",
      "|HazMat                                      |\n",
      "|Watercraft in Distress                      |\n",
      "|Explosion                                   |\n",
      "|Oil Spill                                   |\n",
      "|Vehicle Fire                                |\n",
      "|Suspicious Package                          |\n",
      "|Train / Rail Fire                           |\n",
      "|Extrication / Entrapped (Machinery, Vehicle)|\n",
      "|Other                                       |\n",
      "|Outside Fire                                |\n",
      "|Traffic Collision                           |\n",
      "|Assist Police                               |\n",
      "+--------------------------------------------+\n",
      "only showing top 20 rows\n",
      "\n"
     ]
    },
    {
     "name": "stderr",
     "output_type": "stream",
     "text": [
      "                                                                                \r"
     ]
    }
   ],
   "source": [
    "all_call_type=df_raw.select(\"CallType\").filter(col(\"CallType\").isNotNull()).distinct()\n",
    "\n",
    "all_call_type.show(truncate=False)"
   ]
  },
  {
   "cell_type": "code",
   "execution_count": 12,
   "id": "150085c7-786f-4435-9ea7-5c3156f1a13a",
   "metadata": {},
   "outputs": [
    {
     "name": "stderr",
     "output_type": "stream",
     "text": [
      "[Stage 8:===============================================>           (4 + 1) / 5]\r"
     ]
    },
    {
     "name": "stdout",
     "output_type": "stream",
     "text": [
      "The total number of distinct call types are: 32\n"
     ]
    },
    {
     "name": "stderr",
     "output_type": "stream",
     "text": [
      "                                                                                \r"
     ]
    }
   ],
   "source": [
    "total_num=all_call_type.count()\n",
    "\n",
    "print(f\"The total number of distinct call types are: {total_num}\")"
   ]
  },
  {
   "cell_type": "markdown",
   "id": "773e776c-47e6-4b16-8364-8efec1987953",
   "metadata": {},
   "source": [
    "## Q2 What is the top 10 call type of San Francisco 911 service?"
   ]
  },
  {
   "cell_type": "code",
   "execution_count": 13,
   "id": "4d4cb9a1-6866-40a6-b01d-21067506b963",
   "metadata": {},
   "outputs": [
    {
     "name": "stderr",
     "output_type": "stream",
     "text": [
      "[Stage 14:==============================================>           (4 + 1) / 5]\r"
     ]
    },
    {
     "name": "stdout",
     "output_type": "stream",
     "text": [
      "+-------------------------------+---------------+\n",
      "|CallType                       |incident_number|\n",
      "+-------------------------------+---------------+\n",
      "|Medical Incident               |3596332        |\n",
      "|Structure Fire                 |681179         |\n",
      "|Alarms                         |599263         |\n",
      "|Traffic Collision              |224909         |\n",
      "|Other                          |87468          |\n",
      "|Citizen Assist / Service Call  |82173          |\n",
      "|Outside Fire                   |68491          |\n",
      "|Water Rescue                   |28253          |\n",
      "|Vehicle Fire                   |25512          |\n",
      "|Gas Leak (Natural and LP Gases)|22961          |\n",
      "+-------------------------------+---------------+\n",
      "\n"
     ]
    },
    {
     "name": "stderr",
     "output_type": "stream",
     "text": [
      "                                                                                \r"
     ]
    }
   ],
   "source": [
    "top10CallType=df_raw.groupBy(\"CallType\").agg(count(\"IncidentNumber\").alias(\"incident_number\")).orderBy(col(\"incident_number\").desc()).limit(10)\n",
    "top10CallType.show(20,truncate=False)"
   ]
  },
  {
   "cell_type": "code",
   "execution_count": 14,
   "id": "fb7d695f-0087-4cad-9d1f-a9bd79c12320",
   "metadata": {},
   "outputs": [
    {
     "name": "stderr",
     "output_type": "stream",
     "text": [
      "                                                                                \r"
     ]
    }
   ],
   "source": [
    "callPdf=top10CallType.toPandas()\n",
    "\n",
    "call=callPdf['CallType'].tolist()\n",
    "incident_count=callPdf['incident_number'].tolist()"
   ]
  },
  {
   "cell_type": "code",
   "execution_count": 15,
   "id": "a38a11e0-faa6-4f12-9a07-7e7441d40b6e",
   "metadata": {},
   "outputs": [
    {
     "data": {
      "application/vnd.plotly.v1+json": {
       "config": {
        "linkText": "Export to plot.ly",
        "plotlyServerURL": "https://plot.ly",
        "showLink": false
       },
       "data": [
        {
         "labels": [
          "Medical Incident",
          "Structure Fire",
          "Alarms",
          "Traffic Collision",
          "Other",
          "Citizen Assist / Service Call",
          "Outside Fire",
          "Water Rescue",
          "Vehicle Fire",
          "Gas Leak (Natural and LP Gases)"
         ],
         "marker": {
          "colors": [
           "#25e475",
           "#ee1c96"
          ]
         },
         "type": "pie",
         "values": [
          3596332,
          681179,
          599263,
          224909,
          87468,
          82173,
          68491,
          28253,
          25512,
          22961
         ]
        }
       ],
       "layout": {
        "height": 500,
        "template": {
         "data": {
          "bar": [
           {
            "error_x": {
             "color": "#2a3f5f"
            },
            "error_y": {
             "color": "#2a3f5f"
            },
            "marker": {
             "line": {
              "color": "#E5ECF6",
              "width": 0.5
             },
             "pattern": {
              "fillmode": "overlay",
              "size": 10,
              "solidity": 0.2
             }
            },
            "type": "bar"
           }
          ],
          "barpolar": [
           {
            "marker": {
             "line": {
              "color": "#E5ECF6",
              "width": 0.5
             },
             "pattern": {
              "fillmode": "overlay",
              "size": 10,
              "solidity": 0.2
             }
            },
            "type": "barpolar"
           }
          ],
          "carpet": [
           {
            "aaxis": {
             "endlinecolor": "#2a3f5f",
             "gridcolor": "white",
             "linecolor": "white",
             "minorgridcolor": "white",
             "startlinecolor": "#2a3f5f"
            },
            "baxis": {
             "endlinecolor": "#2a3f5f",
             "gridcolor": "white",
             "linecolor": "white",
             "minorgridcolor": "white",
             "startlinecolor": "#2a3f5f"
            },
            "type": "carpet"
           }
          ],
          "choropleth": [
           {
            "colorbar": {
             "outlinewidth": 0,
             "ticks": ""
            },
            "type": "choropleth"
           }
          ],
          "contour": [
           {
            "colorbar": {
             "outlinewidth": 0,
             "ticks": ""
            },
            "colorscale": [
             [
              0,
              "#0d0887"
             ],
             [
              0.1111111111111111,
              "#46039f"
             ],
             [
              0.2222222222222222,
              "#7201a8"
             ],
             [
              0.3333333333333333,
              "#9c179e"
             ],
             [
              0.4444444444444444,
              "#bd3786"
             ],
             [
              0.5555555555555556,
              "#d8576b"
             ],
             [
              0.6666666666666666,
              "#ed7953"
             ],
             [
              0.7777777777777778,
              "#fb9f3a"
             ],
             [
              0.8888888888888888,
              "#fdca26"
             ],
             [
              1,
              "#f0f921"
             ]
            ],
            "type": "contour"
           }
          ],
          "contourcarpet": [
           {
            "colorbar": {
             "outlinewidth": 0,
             "ticks": ""
            },
            "type": "contourcarpet"
           }
          ],
          "heatmap": [
           {
            "colorbar": {
             "outlinewidth": 0,
             "ticks": ""
            },
            "colorscale": [
             [
              0,
              "#0d0887"
             ],
             [
              0.1111111111111111,
              "#46039f"
             ],
             [
              0.2222222222222222,
              "#7201a8"
             ],
             [
              0.3333333333333333,
              "#9c179e"
             ],
             [
              0.4444444444444444,
              "#bd3786"
             ],
             [
              0.5555555555555556,
              "#d8576b"
             ],
             [
              0.6666666666666666,
              "#ed7953"
             ],
             [
              0.7777777777777778,
              "#fb9f3a"
             ],
             [
              0.8888888888888888,
              "#fdca26"
             ],
             [
              1,
              "#f0f921"
             ]
            ],
            "type": "heatmap"
           }
          ],
          "heatmapgl": [
           {
            "colorbar": {
             "outlinewidth": 0,
             "ticks": ""
            },
            "colorscale": [
             [
              0,
              "#0d0887"
             ],
             [
              0.1111111111111111,
              "#46039f"
             ],
             [
              0.2222222222222222,
              "#7201a8"
             ],
             [
              0.3333333333333333,
              "#9c179e"
             ],
             [
              0.4444444444444444,
              "#bd3786"
             ],
             [
              0.5555555555555556,
              "#d8576b"
             ],
             [
              0.6666666666666666,
              "#ed7953"
             ],
             [
              0.7777777777777778,
              "#fb9f3a"
             ],
             [
              0.8888888888888888,
              "#fdca26"
             ],
             [
              1,
              "#f0f921"
             ]
            ],
            "type": "heatmapgl"
           }
          ],
          "histogram": [
           {
            "marker": {
             "pattern": {
              "fillmode": "overlay",
              "size": 10,
              "solidity": 0.2
             }
            },
            "type": "histogram"
           }
          ],
          "histogram2d": [
           {
            "colorbar": {
             "outlinewidth": 0,
             "ticks": ""
            },
            "colorscale": [
             [
              0,
              "#0d0887"
             ],
             [
              0.1111111111111111,
              "#46039f"
             ],
             [
              0.2222222222222222,
              "#7201a8"
             ],
             [
              0.3333333333333333,
              "#9c179e"
             ],
             [
              0.4444444444444444,
              "#bd3786"
             ],
             [
              0.5555555555555556,
              "#d8576b"
             ],
             [
              0.6666666666666666,
              "#ed7953"
             ],
             [
              0.7777777777777778,
              "#fb9f3a"
             ],
             [
              0.8888888888888888,
              "#fdca26"
             ],
             [
              1,
              "#f0f921"
             ]
            ],
            "type": "histogram2d"
           }
          ],
          "histogram2dcontour": [
           {
            "colorbar": {
             "outlinewidth": 0,
             "ticks": ""
            },
            "colorscale": [
             [
              0,
              "#0d0887"
             ],
             [
              0.1111111111111111,
              "#46039f"
             ],
             [
              0.2222222222222222,
              "#7201a8"
             ],
             [
              0.3333333333333333,
              "#9c179e"
             ],
             [
              0.4444444444444444,
              "#bd3786"
             ],
             [
              0.5555555555555556,
              "#d8576b"
             ],
             [
              0.6666666666666666,
              "#ed7953"
             ],
             [
              0.7777777777777778,
              "#fb9f3a"
             ],
             [
              0.8888888888888888,
              "#fdca26"
             ],
             [
              1,
              "#f0f921"
             ]
            ],
            "type": "histogram2dcontour"
           }
          ],
          "mesh3d": [
           {
            "colorbar": {
             "outlinewidth": 0,
             "ticks": ""
            },
            "type": "mesh3d"
           }
          ],
          "parcoords": [
           {
            "line": {
             "colorbar": {
              "outlinewidth": 0,
              "ticks": ""
             }
            },
            "type": "parcoords"
           }
          ],
          "pie": [
           {
            "automargin": true,
            "type": "pie"
           }
          ],
          "scatter": [
           {
            "fillpattern": {
             "fillmode": "overlay",
             "size": 10,
             "solidity": 0.2
            },
            "type": "scatter"
           }
          ],
          "scatter3d": [
           {
            "line": {
             "colorbar": {
              "outlinewidth": 0,
              "ticks": ""
             }
            },
            "marker": {
             "colorbar": {
              "outlinewidth": 0,
              "ticks": ""
             }
            },
            "type": "scatter3d"
           }
          ],
          "scattercarpet": [
           {
            "marker": {
             "colorbar": {
              "outlinewidth": 0,
              "ticks": ""
             }
            },
            "type": "scattercarpet"
           }
          ],
          "scattergeo": [
           {
            "marker": {
             "colorbar": {
              "outlinewidth": 0,
              "ticks": ""
             }
            },
            "type": "scattergeo"
           }
          ],
          "scattergl": [
           {
            "marker": {
             "colorbar": {
              "outlinewidth": 0,
              "ticks": ""
             }
            },
            "type": "scattergl"
           }
          ],
          "scattermapbox": [
           {
            "marker": {
             "colorbar": {
              "outlinewidth": 0,
              "ticks": ""
             }
            },
            "type": "scattermapbox"
           }
          ],
          "scatterpolar": [
           {
            "marker": {
             "colorbar": {
              "outlinewidth": 0,
              "ticks": ""
             }
            },
            "type": "scatterpolar"
           }
          ],
          "scatterpolargl": [
           {
            "marker": {
             "colorbar": {
              "outlinewidth": 0,
              "ticks": ""
             }
            },
            "type": "scatterpolargl"
           }
          ],
          "scatterternary": [
           {
            "marker": {
             "colorbar": {
              "outlinewidth": 0,
              "ticks": ""
             }
            },
            "type": "scatterternary"
           }
          ],
          "surface": [
           {
            "colorbar": {
             "outlinewidth": 0,
             "ticks": ""
            },
            "colorscale": [
             [
              0,
              "#0d0887"
             ],
             [
              0.1111111111111111,
              "#46039f"
             ],
             [
              0.2222222222222222,
              "#7201a8"
             ],
             [
              0.3333333333333333,
              "#9c179e"
             ],
             [
              0.4444444444444444,
              "#bd3786"
             ],
             [
              0.5555555555555556,
              "#d8576b"
             ],
             [
              0.6666666666666666,
              "#ed7953"
             ],
             [
              0.7777777777777778,
              "#fb9f3a"
             ],
             [
              0.8888888888888888,
              "#fdca26"
             ],
             [
              1,
              "#f0f921"
             ]
            ],
            "type": "surface"
           }
          ],
          "table": [
           {
            "cells": {
             "fill": {
              "color": "#EBF0F8"
             },
             "line": {
              "color": "white"
             }
            },
            "header": {
             "fill": {
              "color": "#C8D4E3"
             },
             "line": {
              "color": "white"
             }
            },
            "type": "table"
           }
          ]
         },
         "layout": {
          "annotationdefaults": {
           "arrowcolor": "#2a3f5f",
           "arrowhead": 0,
           "arrowwidth": 1
          },
          "autotypenumbers": "strict",
          "coloraxis": {
           "colorbar": {
            "outlinewidth": 0,
            "ticks": ""
           }
          },
          "colorscale": {
           "diverging": [
            [
             0,
             "#8e0152"
            ],
            [
             0.1,
             "#c51b7d"
            ],
            [
             0.2,
             "#de77ae"
            ],
            [
             0.3,
             "#f1b6da"
            ],
            [
             0.4,
             "#fde0ef"
            ],
            [
             0.5,
             "#f7f7f7"
            ],
            [
             0.6,
             "#e6f5d0"
            ],
            [
             0.7,
             "#b8e186"
            ],
            [
             0.8,
             "#7fbc41"
            ],
            [
             0.9,
             "#4d9221"
            ],
            [
             1,
             "#276419"
            ]
           ],
           "sequential": [
            [
             0,
             "#0d0887"
            ],
            [
             0.1111111111111111,
             "#46039f"
            ],
            [
             0.2222222222222222,
             "#7201a8"
            ],
            [
             0.3333333333333333,
             "#9c179e"
            ],
            [
             0.4444444444444444,
             "#bd3786"
            ],
            [
             0.5555555555555556,
             "#d8576b"
            ],
            [
             0.6666666666666666,
             "#ed7953"
            ],
            [
             0.7777777777777778,
             "#fb9f3a"
            ],
            [
             0.8888888888888888,
             "#fdca26"
            ],
            [
             1,
             "#f0f921"
            ]
           ],
           "sequentialminus": [
            [
             0,
             "#0d0887"
            ],
            [
             0.1111111111111111,
             "#46039f"
            ],
            [
             0.2222222222222222,
             "#7201a8"
            ],
            [
             0.3333333333333333,
             "#9c179e"
            ],
            [
             0.4444444444444444,
             "#bd3786"
            ],
            [
             0.5555555555555556,
             "#d8576b"
            ],
            [
             0.6666666666666666,
             "#ed7953"
            ],
            [
             0.7777777777777778,
             "#fb9f3a"
            ],
            [
             0.8888888888888888,
             "#fdca26"
            ],
            [
             1,
             "#f0f921"
            ]
           ]
          },
          "colorway": [
           "#636efa",
           "#EF553B",
           "#00cc96",
           "#ab63fa",
           "#FFA15A",
           "#19d3f3",
           "#FF6692",
           "#B6E880",
           "#FF97FF",
           "#FECB52"
          ],
          "font": {
           "color": "#2a3f5f"
          },
          "geo": {
           "bgcolor": "white",
           "lakecolor": "white",
           "landcolor": "#E5ECF6",
           "showlakes": true,
           "showland": true,
           "subunitcolor": "white"
          },
          "hoverlabel": {
           "align": "left"
          },
          "hovermode": "closest",
          "mapbox": {
           "style": "light"
          },
          "paper_bgcolor": "white",
          "plot_bgcolor": "#E5ECF6",
          "polar": {
           "angularaxis": {
            "gridcolor": "white",
            "linecolor": "white",
            "ticks": ""
           },
           "bgcolor": "#E5ECF6",
           "radialaxis": {
            "gridcolor": "white",
            "linecolor": "white",
            "ticks": ""
           }
          },
          "scene": {
           "xaxis": {
            "backgroundcolor": "#E5ECF6",
            "gridcolor": "white",
            "gridwidth": 2,
            "linecolor": "white",
            "showbackground": true,
            "ticks": "",
            "zerolinecolor": "white"
           },
           "yaxis": {
            "backgroundcolor": "#E5ECF6",
            "gridcolor": "white",
            "gridwidth": 2,
            "linecolor": "white",
            "showbackground": true,
            "ticks": "",
            "zerolinecolor": "white"
           },
           "zaxis": {
            "backgroundcolor": "#E5ECF6",
            "gridcolor": "white",
            "gridwidth": 2,
            "linecolor": "white",
            "showbackground": true,
            "ticks": "",
            "zerolinecolor": "white"
           }
          },
          "shapedefaults": {
           "line": {
            "color": "#2a3f5f"
           }
          },
          "ternary": {
           "aaxis": {
            "gridcolor": "white",
            "linecolor": "white",
            "ticks": ""
           },
           "baxis": {
            "gridcolor": "white",
            "linecolor": "white",
            "ticks": ""
           },
           "bgcolor": "#E5ECF6",
           "caxis": {
            "gridcolor": "white",
            "linecolor": "white",
            "ticks": ""
           }
          },
          "title": {
           "x": 0.05
          },
          "xaxis": {
           "automargin": true,
           "gridcolor": "white",
           "linecolor": "white",
           "ticks": "",
           "title": {
            "standoff": 15
           },
           "zerolinecolor": "white",
           "zerolinewidth": 2
          },
          "yaxis": {
           "automargin": true,
           "gridcolor": "white",
           "linecolor": "white",
           "ticks": "",
           "title": {
            "standoff": 15
           },
           "zerolinecolor": "white",
           "zerolinewidth": 2
          }
         }
        },
        "title": {
         "text": "Types of Call"
        },
        "width": 800
       }
      },
      "image/png": "[encoded data removed]",
      "text/html": [
       "<div>                            <div id=\"a6e2cd82-31a9-4637-baf4-37704ced03f1\" class=\"plotly-graph-div\" style=\"height:500px; width:800px;\"></div>            <script type=\"text/javascript\">                require([\"plotly\"], function(Plotly) {                    window.PLOTLYENV=window.PLOTLYENV || {};                                    if (document.getElementById(\"a6e2cd82-31a9-4637-baf4-37704ced03f1\")) {                    Plotly.newPlot(                        \"a6e2cd82-31a9-4637-baf4-37704ced03f1\",                        [{\"labels\":[\"Medical Incident\",\"Structure Fire\",\"Alarms\",\"Traffic Collision\",\"Other\",\"Citizen Assist / Service Call\",\"Outside Fire\",\"Water Rescue\",\"Vehicle Fire\",\"Gas Leak (Natural and LP Gases)\"],\"marker\":{\"colors\":[\"#25e475\",\"#ee1c96\"]},\"values\":[3596332,681179,599263,224909,87468,82173,68491,28253,25512,22961],\"type\":\"pie\"}],                        {\"height\":500,\"template\":{\"data\":{\"barpolar\":[{\"marker\":{\"line\":{\"color\":\"#E5ECF6\",\"width\":0.5},\"pattern\":{\"fillmode\":\"overlay\",\"size\":10,\"solidity\":0.2}},\"type\":\"barpolar\"}],\"bar\":[{\"error_x\":{\"color\":\"#2a3f5f\"},\"error_y\":{\"color\":\"#2a3f5f\"},\"marker\":{\"line\":{\"color\":\"#E5ECF6\",\"width\":0.5},\"pattern\":{\"fillmode\":\"overlay\",\"size\":10,\"solidity\":0.2}},\"type\":\"bar\"}],\"carpet\":[{\"aaxis\":{\"endlinecolor\":\"#2a3f5f\",\"gridcolor\":\"white\",\"linecolor\":\"white\",\"minorgridcolor\":\"white\",\"startlinecolor\":\"#2a3f5f\"},\"baxis\":{\"endlinecolor\":\"#2a3f5f\",\"gridcolor\":\"white\",\"linecolor\":\"white\",\"minorgridcolor\":\"white\",\"startlinecolor\":\"#2a3f5f\"},\"type\":\"carpet\"}],\"choropleth\":[{\"colorbar\":{\"outlinewidth\":0,\"ticks\":\"\"},\"type\":\"choropleth\"}],\"contourcarpet\":[{\"colorbar\":{\"outlinewidth\":0,\"ticks\":\"\"},\"type\":\"contourcarpet\"}],\"contour\":[{\"colorbar\":{\"outlinewidth\":0,\"ticks\":\"\"},\"colorscale\":[[0.0,\"#0d0887\"],[0.1111111111111111,\"#46039f\"],[0.2222222222222222,\"#7201a8\"],[0.3333333333333333,\"#9c179e\"],[0.4444444444444444,\"#bd3786\"],[0.5555555555555556,\"#d8576b\"],[0.6666666666666666,\"#ed7953\"],[0.7777777777777778,\"#fb9f3a\"],[0.8888888888888888,\"#fdca26\"],[1.0,\"#f0f921\"]],\"type\":\"contour\"}],\"heatmapgl\":[{\"colorbar\":{\"outlinewidth\":0,\"ticks\":\"\"},\"colorscale\":[[0.0,\"#0d0887\"],[0.1111111111111111,\"#46039f\"],[0.2222222222222222,\"#7201a8\"],[0.3333333333333333,\"#9c179e\"],[0.4444444444444444,\"#bd3786\"],[0.5555555555555556,\"#d8576b\"],[0.6666666666666666,\"#ed7953\"],[0.7777777777777778,\"#fb9f3a\"],[0.8888888888888888,\"#fdca26\"],[1.0,\"#f0f921\"]],\"type\":\"heatmapgl\"}],\"heatmap\":[{\"colorbar\":{\"outlinewidth\":0,\"ticks\":\"\"},\"colorscale\":[[0.0,\"#0d0887\"],[0.1111111111111111,\"#46039f\"],[0.2222222222222222,\"#7201a8\"],[0.3333333333333333,\"#9c179e\"],[0.4444444444444444,\"#bd3786\"],[0.5555555555555556,\"#d8576b\"],[0.6666666666666666,\"#ed7953\"],[0.7777777777777778,\"#fb9f3a\"],[0.8888888888888888,\"#fdca26\"],[1.0,\"#f0f921\"]],\"type\":\"heatmap\"}],\"histogram2dcontour\":[{\"colorbar\":{\"outlinewidth\":0,\"ticks\":\"\"},\"colorscale\":[[0.0,\"#0d0887\"],[0.1111111111111111,\"#46039f\"],[0.2222222222222222,\"#7201a8\"],[0.3333333333333333,\"#9c179e\"],[0.4444444444444444,\"#bd3786\"],[0.5555555555555556,\"#d8576b\"],[0.6666666666666666,\"#ed7953\"],[0.7777777777777778,\"#fb9f3a\"],[0.8888888888888888,\"#fdca26\"],[1.0,\"#f0f921\"]],\"type\":\"histogram2dcontour\"}],\"histogram2d\":[{\"colorbar\":{\"outlinewidth\":0,\"ticks\":\"\"},\"colorscale\":[[0.0,\"#0d0887\"],[0.1111111111111111,\"#46039f\"],[0.2222222222222222,\"#7201a8\"],[0.3333333333333333,\"#9c179e\"],[0.4444444444444444,\"#bd3786\"],[0.5555555555555556,\"#d8576b\"],[0.6666666666666666,\"#ed7953\"],[0.7777777777777778,\"#fb9f3a\"],[0.8888888888888888,\"#fdca26\"],[1.0,\"#f0f921\"]],\"type\":\"histogram2d\"}],\"histogram\":[{\"marker\":{\"pattern\":{\"fillmode\":\"overlay\",\"size\":10,\"solidity\":0.2}},\"type\":\"histogram\"}],\"mesh3d\":[{\"colorbar\":{\"outlinewidth\":0,\"ticks\":\"\"},\"type\":\"mesh3d\"}],\"parcoords\":[{\"line\":{\"colorbar\":{\"outlinewidth\":0,\"ticks\":\"\"}},\"type\":\"parcoords\"}],\"pie\":[{\"automargin\":true,\"type\":\"pie\"}],\"scatter3d\":[{\"line\":{\"colorbar\":{\"outlinewidth\":0,\"ticks\":\"\"}},\"marker\":{\"colorbar\":{\"outlinewidth\":0,\"ticks\":\"\"}},\"type\":\"scatter3d\"}],\"scattercarpet\":[{\"marker\":{\"colorbar\":{\"outlinewidth\":0,\"ticks\":\"\"}},\"type\":\"scattercarpet\"}],\"scattergeo\":[{\"marker\":{\"colorbar\":{\"outlinewidth\":0,\"ticks\":\"\"}},\"type\":\"scattergeo\"}],\"scattergl\":[{\"marker\":{\"colorbar\":{\"outlinewidth\":0,\"ticks\":\"\"}},\"type\":\"scattergl\"}],\"scattermapbox\":[{\"marker\":{\"colorbar\":{\"outlinewidth\":0,\"ticks\":\"\"}},\"type\":\"scattermapbox\"}],\"scatterpolargl\":[{\"marker\":{\"colorbar\":{\"outlinewidth\":0,\"ticks\":\"\"}},\"type\":\"scatterpolargl\"}],\"scatterpolar\":[{\"marker\":{\"colorbar\":{\"outlinewidth\":0,\"ticks\":\"\"}},\"type\":\"scatterpolar\"}],\"scatter\":[{\"fillpattern\":{\"fillmode\":\"overlay\",\"size\":10,\"solidity\":0.2},\"type\":\"scatter\"}],\"scatterternary\":[{\"marker\":{\"colorbar\":{\"outlinewidth\":0,\"ticks\":\"\"}},\"type\":\"scatterternary\"}],\"surface\":[{\"colorbar\":{\"outlinewidth\":0,\"ticks\":\"\"},\"colorscale\":[[0.0,\"#0d0887\"],[0.1111111111111111,\"#46039f\"],[0.2222222222222222,\"#7201a8\"],[0.3333333333333333,\"#9c179e\"],[0.4444444444444444,\"#bd3786\"],[0.5555555555555556,\"#d8576b\"],[0.6666666666666666,\"#ed7953\"],[0.7777777777777778,\"#fb9f3a\"],[0.8888888888888888,\"#fdca26\"],[1.0,\"#f0f921\"]],\"type\":\"surface\"}],\"table\":[{\"cells\":{\"fill\":{\"color\":\"#EBF0F8\"},\"line\":{\"color\":\"white\"}},\"header\":{\"fill\":{\"color\":\"#C8D4E3\"},\"line\":{\"color\":\"white\"}},\"type\":\"table\"}]},\"layout\":{\"annotationdefaults\":{\"arrowcolor\":\"#2a3f5f\",\"arrowhead\":0,\"arrowwidth\":1},\"autotypenumbers\":\"strict\",\"coloraxis\":{\"colorbar\":{\"outlinewidth\":0,\"ticks\":\"\"}},\"colorscale\":{\"diverging\":[[0,\"#8e0152\"],[0.1,\"#c51b7d\"],[0.2,\"#de77ae\"],[0.3,\"#f1b6da\"],[0.4,\"#fde0ef\"],[0.5,\"#f7f7f7\"],[0.6,\"#e6f5d0\"],[0.7,\"#b8e186\"],[0.8,\"#7fbc41\"],[0.9,\"#4d9221\"],[1,\"#276419\"]],\"sequential\":[[0.0,\"#0d0887\"],[0.1111111111111111,\"#46039f\"],[0.2222222222222222,\"#7201a8\"],[0.3333333333333333,\"#9c179e\"],[0.4444444444444444,\"#bd3786\"],[0.5555555555555556,\"#d8576b\"],[0.6666666666666666,\"#ed7953\"],[0.7777777777777778,\"#fb9f3a\"],[0.8888888888888888,\"#fdca26\"],[1.0,\"#f0f921\"]],\"sequentialminus\":[[0.0,\"#0d0887\"],[0.1111111111111111,\"#46039f\"],[0.2222222222222222,\"#7201a8\"],[0.3333333333333333,\"#9c179e\"],[0.4444444444444444,\"#bd3786\"],[0.5555555555555556,\"#d8576b\"],[0.6666666666666666,\"#ed7953\"],[0.7777777777777778,\"#fb9f3a\"],[0.8888888888888888,\"#fdca26\"],[1.0,\"#f0f921\"]]},\"colorway\":[\"#636efa\",\"#EF553B\",\"#00cc96\",\"#ab63fa\",\"#FFA15A\",\"#19d3f3\",\"#FF6692\",\"#B6E880\",\"#FF97FF\",\"#FECB52\"],\"font\":{\"color\":\"#2a3f5f\"},\"geo\":{\"bgcolor\":\"white\",\"lakecolor\":\"white\",\"landcolor\":\"#E5ECF6\",\"showlakes\":true,\"showland\":true,\"subunitcolor\":\"white\"},\"hoverlabel\":{\"align\":\"left\"},\"hovermode\":\"closest\",\"mapbox\":{\"style\":\"light\"},\"paper_bgcolor\":\"white\",\"plot_bgcolor\":\"#E5ECF6\",\"polar\":{\"angularaxis\":{\"gridcolor\":\"white\",\"linecolor\":\"white\",\"ticks\":\"\"},\"bgcolor\":\"#E5ECF6\",\"radialaxis\":{\"gridcolor\":\"white\",\"linecolor\":\"white\",\"ticks\":\"\"}},\"scene\":{\"xaxis\":{\"backgroundcolor\":\"#E5ECF6\",\"gridcolor\":\"white\",\"gridwidth\":2,\"linecolor\":\"white\",\"showbackground\":true,\"ticks\":\"\",\"zerolinecolor\":\"white\"},\"yaxis\":{\"backgroundcolor\":\"#E5ECF6\",\"gridcolor\":\"white\",\"gridwidth\":2,\"linecolor\":\"white\",\"showbackground\":true,\"ticks\":\"\",\"zerolinecolor\":\"white\"},\"zaxis\":{\"backgroundcolor\":\"#E5ECF6\",\"gridcolor\":\"white\",\"gridwidth\":2,\"linecolor\":\"white\",\"showbackground\":true,\"ticks\":\"\",\"zerolinecolor\":\"white\"}},\"shapedefaults\":{\"line\":{\"color\":\"#2a3f5f\"}},\"ternary\":{\"aaxis\":{\"gridcolor\":\"white\",\"linecolor\":\"white\",\"ticks\":\"\"},\"baxis\":{\"gridcolor\":\"white\",\"linecolor\":\"white\",\"ticks\":\"\"},\"bgcolor\":\"#E5ECF6\",\"caxis\":{\"gridcolor\":\"white\",\"linecolor\":\"white\",\"ticks\":\"\"}},\"title\":{\"x\":0.05},\"xaxis\":{\"automargin\":true,\"gridcolor\":\"white\",\"linecolor\":\"white\",\"ticks\":\"\",\"title\":{\"standoff\":15},\"zerolinecolor\":\"white\",\"zerolinewidth\":2},\"yaxis\":{\"automargin\":true,\"gridcolor\":\"white\",\"linecolor\":\"white\",\"ticks\":\"\",\"title\":{\"standoff\":15},\"zerolinecolor\":\"white\",\"zerolinewidth\":2}}},\"title\":{\"text\":\"Types of Call\"},\"width\":800},                        {\"responsive\": true}                    ).then(function(){\n",
       "                            \n",
       "var gd = document.getElementById('a6e2cd82-31a9-4637-baf4-37704ced03f1');\n",
       "var x = new MutationObserver(function (mutations, observer) {{\n",
       "        var display = window.getComputedStyle(gd).display;\n",
       "        if (!display || display === 'none') {{\n",
       "            console.log([gd, 'removed!']);\n",
       "            Plotly.purge(gd);\n",
       "            observer.disconnect();\n",
       "        }}\n",
       "}});\n",
       "\n",
       "// Listen for the removal of the full notebook cells\n",
       "var notebookContainer = gd.closest('#notebook-container');\n",
       "if (notebookContainer) {{\n",
       "    x.observe(notebookContainer, {childList: true});\n",
       "}}\n",
       "\n",
       "// Listen for the clearing of the current output cell\n",
       "var outputEl = gd.closest('.output');\n",
       "if (outputEl) {{\n",
       "    x.observe(outputEl, {childList: true});\n",
       "}}\n",
       "\n",
       "                        })                };                });            </script>        </div>"
      ]
     },
     "metadata": {},
     "output_type": "display_data"
    }
   ],
   "source": [
    "pie_visual = go.Pie(labels=call, values=incident_count, marker=dict(colors=['#25e475', '#ee1c96',]))\n",
    "\n",
    "layout = go.Layout(title='Types of Call', width=800, height=500)\n",
    "fig = go.Figure(data=[pie_visual], layout=layout)\n",
    "iplot(fig)"
   ]
  },
  {
   "cell_type": "markdown",
   "id": "12fe5419-09ee-49c6-abd4-c194adbb99c7",
   "metadata": {},
   "source": [
    "## Q3 Find out all response or delayed times greater than 5 mins?\n",
    "\n",
    "1. Rename the column Delay - > ReponseDelayedinMins\n",
    "2. Returns a new DataFrame\n",
    "3. Find out all calls where the response time to the fire site was delayed for more than 5 mins\n",
    "\n",
    "We don't have a column `Delay`, so we need to use \n",
    "- ReceivedDtTm\n",
    "- EntryDtTm\n",
    "- DispatchDtTm\n",
    "- ResponseDtTm\n",
    "- OnSceneDtTm"
   ]
  },
  {
   "cell_type": "code",
   "execution_count": 16,
   "id": "01f89c5f-ad91-4bd7-a1ba-d0f4706ee036",
   "metadata": {},
   "outputs": [
    {
     "name": "stdout",
     "output_type": "stream",
     "text": [
      "+--------------+----------------------+----------------------+----------------------+----------------------+----------------------+\n",
      "|IncidentNumber|ReceivedDtTm          |EntryDtTm             |DispatchDtTm          |ResponseDtTm          |OnSceneDtTm           |\n",
      "+--------------+----------------------+----------------------+----------------------+----------------------+----------------------+\n",
      "|21017645      |02/08/2021 01:00:14 PM|02/08/2021 01:01:36 PM|02/08/2021 01:01:40 PM|02/08/2021 01:03:21 PM|02/08/2021 01:05:44 PM|\n",
      "|21017596      |02/08/2021 10:54:56 AM|02/08/2021 10:56:50 AM|02/08/2021 10:56:57 AM|02/08/2021 10:57:07 AM|02/08/2021 10:59:34 AM|\n",
      "+--------------+----------------------+----------------------+----------------------+----------------------+----------------------+\n",
      "only showing top 2 rows\n",
      "\n"
     ]
    },
    {
     "name": "stderr",
     "output_type": "stream",
     "text": [
      "                                                                                \r"
     ]
    }
   ],
   "source": [
    "df_raw.select(\"IncidentNumber\",\"ReceivedDtTm\",\"EntryDtTm\",\"DispatchDtTm\",\"ResponseDtTm\",\"OnSceneDtTm\").show(2,truncate=False)"
   ]
  },
  {
   "cell_type": "markdown",
   "id": "b9e252cc-02da-45aa-8339-5a1b56e7893c",
   "metadata": {},
   "source": [
    "We could use `OnSeneDtTm-ReceivedDtTm` to evaluate the deplay between a call received by the fire departement and fire fighter on scene. The problem here is they are all in String, we need to convert them into timestamp first."
   ]
  },
  {
   "cell_type": "code",
   "execution_count": 17,
   "id": "70d68ca2-285f-40fe-83df-900f884d5b68",
   "metadata": {},
   "outputs": [],
   "source": [
    "incident_receive_time_col=\"ReceivedTime\"\n",
    "incident_on_sene_time_col=\"OnSeneTime\""
   ]
  },
  {
   "cell_type": "code",
   "execution_count": 18,
   "id": "a56ac72c-1c24-4ca9-b686-53a3d8c5e032",
   "metadata": {},
   "outputs": [],
   "source": [
    "date_format=\"MM/dd/yyyy\"\n",
    "time_format=\"MM/dd/yyyy hh:mm:ss a\"\n",
    "fire_df1=df_raw.withColumn(incident_receive_time_col,to_timestamp(col(\"ReceivedDtTm\"),time_format)) \\\n",
    ".drop(\"ReceivedDtTm\") \\\n",
    ".withColumn(incident_on_sene_time_col,to_timestamp(col(\"OnSceneDtTm\"),time_format)) \\\n",
    ".drop(\"OnSceneDtTm\") \\\n",
    ".withColumn(\"CallDateTs\",to_timestamp(col(\"CallDate\"),date_format)) \\\n",
    ".drop(\"CallDate\")"
   ]
  },
  {
   "cell_type": "code",
   "execution_count": 19,
   "id": "a81e83a9-0f8a-4d78-bb15-4b25e7d79fd9",
   "metadata": {},
   "outputs": [
    {
     "name": "stdout",
     "output_type": "stream",
     "text": [
      "+-------------------+-------------------+\n",
      "|       ReceivedTime|         OnSeneTime|\n",
      "+-------------------+-------------------+\n",
      "|2021-02-08 13:00:14|2021-02-08 13:05:44|\n",
      "|2021-02-08 10:54:56|2021-02-08 10:59:34|\n",
      "|2021-02-08 10:18:53|2021-02-08 10:27:42|\n",
      "|2021-02-08 08:50:27|               null|\n",
      "|2021-02-07 21:18:38|2021-02-07 21:25:11|\n",
      "|2021-02-07 17:24:48|2021-02-07 17:30:04|\n",
      "|2021-02-07 15:09:02|2021-02-07 15:11:32|\n",
      "|2021-02-07 13:07:40|2021-02-07 13:11:29|\n",
      "|2021-02-07 12:00:39|2021-02-07 12:12:28|\n",
      "|2021-02-07 05:41:18|2021-02-07 05:46:20|\n",
      "|2021-02-07 02:11:22|2021-02-07 02:17:16|\n",
      "|2021-02-06 18:50:12|2021-02-06 18:56:34|\n",
      "|2021-02-06 06:44:40|2021-02-06 06:57:06|\n",
      "|2021-02-06 05:33:10|2021-02-06 05:40:11|\n",
      "|2021-02-06 03:24:29|2021-02-06 03:36:59|\n",
      "|2021-02-05 17:04:25|               null|\n",
      "|2021-02-05 08:01:17|2021-02-05 08:13:31|\n",
      "|2021-02-05 05:22:23|               null|\n",
      "|2021-02-05 19:29:12|               null|\n",
      "|2021-02-08 08:09:24|2021-02-08 08:49:44|\n",
      "+-------------------+-------------------+\n",
      "only showing top 20 rows\n",
      "\n"
     ]
    }
   ],
   "source": [
    "fire_df1.select(incident_receive_time_col,incident_on_sene_time_col).show()"
   ]
  },
  {
   "cell_type": "markdown",
   "id": "767735c6-eb18-4ec7-b3f8-e313f8dbdca7",
   "metadata": {},
   "source": [
    "Now we have new problems?\n",
    "1. You can notice that we have many null values in OnSeneTime, what should we do?\n",
    "2. How to calculate timestamp difference in minutes?"
   ]
  },
  {
   "cell_type": "code",
   "execution_count": 20,
   "id": "4003ca1e-89fa-4b7c-9562-836ad7ab1160",
   "metadata": {},
   "outputs": [],
   "source": [
    "delay_df=fire_df1.withColumn(\"Delay\",round((unix_timestamp(incident_on_sene_time_col) - unix_timestamp(incident_receive_time_col))/60))"
   ]
  },
  {
   "cell_type": "code",
   "execution_count": 21,
   "id": "b9d10f71-a34b-4476-859d-c14ef65e880a",
   "metadata": {},
   "outputs": [
    {
     "name": "stdout",
     "output_type": "stream",
     "text": [
      "+--------------+-----+\n",
      "|IncidentNumber|Delay|\n",
      "+--------------+-----+\n",
      "|      21017645|  6.0|\n",
      "|      21017596|  5.0|\n",
      "|      21017578|  9.0|\n",
      "|      21017552| null|\n",
      "|      21017398|  7.0|\n",
      "|      21017307|  5.0|\n",
      "|      21017263|  3.0|\n",
      "|      21017206|  4.0|\n",
      "|      21017173| 12.0|\n",
      "|      21017065|  5.0|\n",
      "|      21017021|  6.0|\n",
      "|      21016911|  6.0|\n",
      "|      21016646| 12.0|\n",
      "|      21016635|  7.0|\n",
      "|      21016610| 13.0|\n",
      "|      21016433| null|\n",
      "|      21016151| 12.0|\n",
      "|      21016122| null|\n",
      "|      21016489| null|\n",
      "|      21017540| 40.0|\n",
      "+--------------+-----+\n",
      "only showing top 20 rows\n",
      "\n"
     ]
    }
   ],
   "source": [
    "delay_df.select(\"IncidentNumber\",\"Delay\").show()"
   ]
  },
  {
   "cell_type": "code",
   "execution_count": 22,
   "id": "69545709-ea4b-45b3-bad8-9157a534badf",
   "metadata": {},
   "outputs": [
    {
     "name": "stderr",
     "output_type": "stream",
     "text": [
      "[Stage 23:>                                                         (0 + 1) / 1]\r"
     ]
    },
    {
     "name": "stdout",
     "output_type": "stream",
     "text": [
      "+----------+------+--------------+--------------------+----------+--------------------+--------------------+--------------------+-------------+------------+--------------------+--------------------+--------------------+-------------+-----------------+---------+-----------+----+----------------+--------+-------------+-------+-------------+--------------+--------+--------------------------+----------------------+------------------+--------------------+-------------+--------------------+-------------------+-------------------+-------------------+-----+\n",
      "|CallNumber|UnitID|IncidentNumber|            CallType| WatchDate|           EntryDtTm|        DispatchDtTm|        ResponseDtTm|TransportDtTm|HospitalDtTm|CallFinalDisposition|       AvailableDtTm|             Address|         City|ZipcodeofIncident|Battalion|StationArea| Box|OriginalPriority|Priority|FinalPriority|ALSUnit|CallTypeGroup|NumberofAlarms|UnitType|Unitsequenceincalldispatch|FirePreventionDistrict|SupervisorDistrict|NeighborhoodDistrict|     Location|               RowID|       ReceivedTime|         OnSeneTime|         CallDateTs|Delay|\n",
      "+----------+------+--------------+--------------------+----------+--------------------+--------------------+--------------------+-------------+------------+--------------------+--------------------+--------------------+-------------+-----------------+---------+-----------+----+----------------+--------+-------------+-------+-------------+--------------+--------+--------------------------+----------------------+------------------+--------------------+-------------+--------------------+-------------------+-------------------+-------------------+-----+\n",
      "| 210391607|   E19|      21017645|              Alarms|02/08/2021|02/08/2021 01:01:...|02/08/2021 01:01:...|02/08/2021 01:03:...|         null|        null|                Fire|02/08/2021 01:18:...|400 Block of SERR...|San Francisco|            94132|      B08|         19|8581|               3|       3|            3|   true|        Alarm|             1|  ENGINE|                         1|                     8|                 7|           Lakeshore|210391607-E19|POINT (-122.48045...|2021-02-08 13:00:14|2021-02-08 13:05:44|2021-02-08 00:00:00|  6.0|\n",
      "| 210391034|   E16|      21017578|Citizen Assist / ...|02/08/2021|02/08/2021 10:19:...|02/08/2021 10:19:...|02/08/2021 10:20:...|         null|        null|                Fire|02/08/2021 10:53:...|FRANKLIN ST/FILBE...|San Francisco|            94123|      B04|         16|3233|               3|       3|            3|   true|        Alarm|             1|  ENGINE|                         1|                     4|                 2|              Marina|210391034-E16|POINT (-122.42581...|2021-02-08 10:18:53|2021-02-08 10:27:42|2021-02-08 00:00:00|  9.0|\n",
      "+----------+------+--------------+--------------------+----------+--------------------+--------------------+--------------------+-------------+------------+--------------------+--------------------+--------------------+-------------+-----------------+---------+-----------+----+----------------+--------+-------------+-------+-------------+--------------+--------+--------------------------+----------------------+------------------+--------------------+-------------+--------------------+-------------------+-------------------+-------------------+-----+\n",
      "only showing top 2 rows\n",
      "\n"
     ]
    },
    {
     "name": "stderr",
     "output_type": "stream",
     "text": [
      "                                                                                \r"
     ]
    }
   ],
   "source": [
    "delayed_response=delay_df.filter(col(\"Delay\")>5)\n",
    "delayed_response.show(2)"
   ]
  },
  {
   "cell_type": "markdown",
   "id": "05f4ae60-eae2-4608-ad0d-01cd5559024d",
   "metadata": {},
   "source": [
    "## Q4. Who(zip codes) calls the most?\n",
    "\n",
    "Let's investigate what zip codes in San Francisco calls the most and what type where they.\n",
    "\n",
    "- Group them by Zip code\n",
    "- Count them and display them in descending order\n",
    "- View them on a map"
   ]
  },
  {
   "cell_type": "code",
   "execution_count": 40,
   "id": "872916b6-f8c0-4e19-a0b7-3f2b01f3b0fa",
   "metadata": {},
   "outputs": [],
   "source": [
    "topCallZone=df_raw.groupBy(\"ZipcodeofIncident\").agg(count(\"IncidentNumber\").alias(\"incident_number\")).orderBy(col(\"incident_number\").desc()).limit(20)"
   ]
  },
  {
   "cell_type": "code",
   "execution_count": 41,
   "id": "5d7a13d4-5d4e-4082-b78e-7219489e00a3",
   "metadata": {},
   "outputs": [
    {
     "name": "stderr",
     "output_type": "stream",
     "text": [
      "[Stage 48:==============================================>           (4 + 1) / 5]\r"
     ]
    },
    {
     "name": "stdout",
     "output_type": "stream",
     "text": [
      "+-----------------+---------------+\n",
      "|ZipcodeofIncident|incident_number|\n",
      "+-----------------+---------------+\n",
      "|            94102|         697419|\n",
      "|            94103|         668617|\n",
      "|            94109|         462364|\n",
      "|            94110|         461606|\n",
      "|            94124|         286960|\n",
      "|            94112|         257640|\n",
      "|            94115|         242599|\n",
      "|            94107|         218105|\n",
      "|            94122|         194590|\n",
      "|            94133|         192968|\n",
      "|            94117|         183151|\n",
      "|            94114|         163557|\n",
      "|            94118|         161704|\n",
      "|            94134|         151536|\n",
      "|            94121|         145369|\n",
      "|            94132|         132563|\n",
      "|            94105|         131931|\n",
      "|            94108|         126418|\n",
      "|            94116|         117388|\n",
      "|            94123|         115148|\n",
      "+-----------------+---------------+\n",
      "\n"
     ]
    },
    {
     "name": "stderr",
     "output_type": "stream",
     "text": [
      "                                                                                \r"
     ]
    }
   ],
   "source": [
    "topCallZone.show(20)"
   ]
  },
  {
   "cell_type": "code",
   "execution_count": 25,
   "id": "b9f8877d-8673-4ef4-9b13-19353f935404",
   "metadata": {},
   "outputs": [
    {
     "name": "stdout",
     "output_type": "stream",
     "text": [
      "<class 'pandas.core.series.Series'>\n",
      "postal_code                                  94133\n",
      "country_code                                    US\n",
      "place_name                           San Francisco\n",
      "state_name                              California\n",
      "state_code                                      CA\n",
      "county_name       City and County of San Francisco\n",
      "county_code                                   75.0\n",
      "community_name                                None\n",
      "community_code                                 NaN\n",
      "latitude                                   37.8002\n",
      "longitude                                -122.4091\n",
      "accuracy                                       4.0\n",
      "Name: 0, dtype: object\n"
     ]
    }
   ],
   "source": [
    "us_map=pgeocode.Nominatim(\"US\")\n",
    "address=us_map.query_postal_code(\"94133\")\n",
    "print(type(address))\n",
    "print(address)"
   ]
  },
  {
   "cell_type": "code",
   "execution_count": 26,
   "id": "2f39f2c1-d536-47d7-9edc-89bb8c6021e1",
   "metadata": {},
   "outputs": [
    {
     "name": "stdout",
     "output_type": "stream",
     "text": [
      "latitude: 37.8002, longitude : -122.4091\n"
     ]
    }
   ],
   "source": [
    "print(f\"latitude: {address['latitude']}, longitude : {address['longitude']}\")"
   ]
  },
  {
   "cell_type": "code",
   "execution_count": null,
   "id": "d8c10c73-da48-437e-9f7f-afe96a9ec285",
   "metadata": {},
   "outputs": [],
   "source": [
    "# todo dataviz of incident_number on a map with zipcode"
   ]
  },
  {
   "cell_type": "markdown",
   "id": "3dd1658e-8547-42d2-a0dd-e7526e505d0f",
   "metadata": {},
   "source": [
    "## Q5. What San Francisco neighborhoods are in the zip codes 94102 and 94103\n",
    "\n",
    "Let's find out the neighborhoods associated with these two zip codes. In all likelihood, these are some of the contested neighborhood with high reported crimes."
   ]
  },
  {
   "cell_type": "code",
   "execution_count": 27,
   "id": "d3b437bd-dd59-46db-94d6-b2035f320196",
   "metadata": {},
   "outputs": [
    {
     "name": "stderr",
     "output_type": "stream",
     "text": [
      "[Stage 27:==============================================>           (4 + 1) / 5]\r"
     ]
    },
    {
     "name": "stdout",
     "output_type": "stream",
     "text": [
      "+------------------------------+-----------------+\n",
      "|NeighborhoodDistrict          |ZipcodeofIncident|\n",
      "+------------------------------+-----------------+\n",
      "|Potrero Hill                  |94103            |\n",
      "|Western Addition              |94102            |\n",
      "|Tenderloin                    |94102            |\n",
      "|Nob Hill                      |94102            |\n",
      "|Castro/Upper Market           |94103            |\n",
      "|South of Market               |94102            |\n",
      "|South of Market               |94103            |\n",
      "|Hayes Valley                  |94103            |\n",
      "|Financial District/South Beach|94102            |\n",
      "|Mission Bay                   |94103            |\n",
      "|Tenderloin                    |94103            |\n",
      "|Financial District/South Beach|94103            |\n",
      "|Hayes Valley                  |94102            |\n",
      "|Mission                       |94103            |\n",
      "|Mission                       |94102            |\n",
      "+------------------------------+-----------------+\n",
      "\n"
     ]
    },
    {
     "name": "stderr",
     "output_type": "stream",
     "text": [
      "                                                                                \r"
     ]
    }
   ],
   "source": [
    "zipcode_col=\"ZipcodeofIncident\"\n",
    "df_raw.select(\"NeighborhoodDistrict\",zipcode_col).filter((col(zipcode_col)==94102)|(col(zipcode_col)==94103)).distinct().show(truncate=False)"
   ]
  },
  {
   "cell_type": "markdown",
   "id": "62aea66b-045d-45f6-a2bd-982931cfe68e",
   "metadata": {},
   "source": [
    "## Q6. What was the sum of all calls, average, min and max of the response times for calls?\n",
    "\n",
    "Let's use the built-in Spark SQL functions to compute the sum, avg, min, and max of few columns:\n",
    "\n",
    "- Number of Total Alarms\n",
    "- What were the min and max the delay in response time before the Fire Dept arrived at the scene of the call"
   ]
  },
  {
   "cell_type": "code",
   "execution_count": 28,
   "id": "350b76a4-f00c-4beb-8b8c-b14c58ec7389",
   "metadata": {},
   "outputs": [
    {
     "name": "stderr",
     "output_type": "stream",
     "text": [
      "[Stage 30:>                                                         (0 + 1) / 1]\r"
     ]
    },
    {
     "name": "stdout",
     "output_type": "stream",
     "text": [
      "+--------------+-----+\n",
      "|NumberofAlarms|Delay|\n",
      "+--------------+-----+\n",
      "|             1|  6.0|\n",
      "|             1|  5.0|\n",
      "|             1|  9.0|\n",
      "|             1| null|\n",
      "|             1|  7.0|\n",
      "|             1|  5.0|\n",
      "|             1|  3.0|\n",
      "|             1|  4.0|\n",
      "|             1| 12.0|\n",
      "|             1|  5.0|\n",
      "|             1|  6.0|\n",
      "|             1|  6.0|\n",
      "|             1| 12.0|\n",
      "|             1|  7.0|\n",
      "|             1| 13.0|\n",
      "|             1| null|\n",
      "|             1| 12.0|\n",
      "|             1| null|\n",
      "|             1| null|\n",
      "|             1| 40.0|\n",
      "+--------------+-----+\n",
      "only showing top 20 rows\n",
      "\n"
     ]
    },
    {
     "name": "stderr",
     "output_type": "stream",
     "text": [
      "                                                                                \r"
     ]
    }
   ],
   "source": [
    "delay_df.select(\"NumberofAlarms\",\"Delay\").show()"
   ]
  },
  {
   "cell_type": "code",
   "execution_count": 29,
   "id": "c982fac8-8fcf-44a9-af48-cbdb462af0eb",
   "metadata": {},
   "outputs": [
    {
     "name": "stderr",
     "output_type": "stream",
     "text": [
      "[Stage 31:=======================>                                  (2 + 3) / 5]\r"
     ]
    },
    {
     "name": "stdout",
     "output_type": "stream",
     "text": [
      "+-------------------+----------------+----------+----------+\n",
      "|sum(NumberofAlarms)|      avg(Delay)|min(Delay)|max(Delay)|\n",
      "+-------------------+----------------+----------+----------+\n",
      "|            5529669|8.75188972043176| -132759.0|    2562.0|\n",
      "+-------------------+----------------+----------+----------+\n",
      "\n"
     ]
    },
    {
     "name": "stderr",
     "output_type": "stream",
     "text": [
      "                                                                                \r"
     ]
    }
   ],
   "source": [
    "delay_df.select(sum(\"NumberofAlarms\"), avg(\"Delay\"),min(\"Delay\"),max(\"Delay\")).show()"
   ]
  },
  {
   "cell_type": "markdown",
   "id": "7d1eb4f6-1927-44f4-96a4-17c2c3ad1b06",
   "metadata": {},
   "source": [
    "## Q7. How many distinct years of data is in the dataset?\n",
    "\n",
    "In question 3, we already convert the `CallDate (string)` column to `CallDateTs(timestamp)`.\n",
    "Now we can use the `year()` function to get the year of all `CallDateTs`.\n"
   ]
  },
  {
   "cell_type": "code",
   "execution_count": 31,
   "id": "fe455b49-647f-4153-8a66-759ec7bbffe6",
   "metadata": {},
   "outputs": [
    {
     "name": "stderr",
     "output_type": "stream",
     "text": [
      "[Stage 35:>                                                         (0 + 1) / 1]\r"
     ]
    },
    {
     "name": "stdout",
     "output_type": "stream",
     "text": [
      "+-------------------+\n",
      "|         CallDateTs|\n",
      "+-------------------+\n",
      "|2021-02-08 00:00:00|\n",
      "+-------------------+\n",
      "only showing top 1 row\n",
      "\n"
     ]
    },
    {
     "name": "stderr",
     "output_type": "stream",
     "text": [
      "                                                                                \r"
     ]
    }
   ],
   "source": [
    "delay_df.select(\"CallDateTs\").show(1)"
   ]
  },
  {
   "cell_type": "code",
   "execution_count": 32,
   "id": "680c0817-9ad3-493c-8b73-52cad280f671",
   "metadata": {},
   "outputs": [
    {
     "name": "stderr",
     "output_type": "stream",
     "text": [
      "[Stage 36:==============================================>           (4 + 1) / 5]\r"
     ]
    },
    {
     "name": "stdout",
     "output_type": "stream",
     "text": [
      "+----------------+\n",
      "|year(CallDateTs)|\n",
      "+----------------+\n",
      "|            2000|\n",
      "|            2001|\n",
      "|            2002|\n",
      "|            2003|\n",
      "|            2004|\n",
      "|            2005|\n",
      "|            2006|\n",
      "|            2007|\n",
      "|            2008|\n",
      "|            2009|\n",
      "|            2010|\n",
      "|            2011|\n",
      "|            2012|\n",
      "|            2013|\n",
      "|            2014|\n",
      "|            2015|\n",
      "|            2016|\n",
      "|            2017|\n",
      "|            2018|\n",
      "|            2019|\n",
      "|            2020|\n",
      "|            2021|\n",
      "+----------------+\n",
      "\n"
     ]
    },
    {
     "name": "stderr",
     "output_type": "stream",
     "text": [
      "                                                                                \r"
     ]
    }
   ],
   "source": [
    "delay_df.select(year(\"CallDateTs\")).distinct().orderBy(year(\"CallDateTs\")).show(30)"
   ]
  },
  {
   "cell_type": "markdown",
   "id": "6857b90d-da9d-4e26-a499-697a6d24b70c",
   "metadata": {},
   "source": [
    "## Q8. Which week of the year 2018 had the most calls?\n",
    "\n",
    "Note: Week 1 is the New Years' week and week 25 is the week of the July 4. Loads of fireworks, so it makes sense the higher number of calls."
   ]
  },
  {
   "cell_type": "code",
   "execution_count": 34,
   "id": "1cb0382f-0ae5-4c13-b942-b2f3f9db1427",
   "metadata": {},
   "outputs": [],
   "source": [
    "top20Week=delay_df.filter(year(\"CallDateTs\")==2018).groupBy(weekofyear(\"CallDateTs\")).agg(count(\"IncidentNumber\").alias(\"incident_number\")).orderBy(col(\"incident_number\").desc()).limit(20)"
   ]
  },
  {
   "cell_type": "code",
   "execution_count": 35,
   "id": "a5549c84-e317-401f-b410-1ec02c0c37a9",
   "metadata": {},
   "outputs": [
    {
     "name": "stderr",
     "output_type": "stream",
     "text": [
      "[Stage 39:==================================>                       (3 + 2) / 5]\r"
     ]
    },
    {
     "name": "stdout",
     "output_type": "stream",
     "text": [
      "+----------------------+---------------+\n",
      "|weekofyear(CallDateTs)|incident_number|\n",
      "+----------------------+---------------+\n",
      "|                     1|           7545|\n",
      "|                    25|           6425|\n",
      "|                    49|           6354|\n",
      "|                    22|           6328|\n",
      "|                    13|           6321|\n",
      "|                    27|           6289|\n",
      "|                    40|           6252|\n",
      "|                    44|           6250|\n",
      "|                    16|           6217|\n",
      "|                    46|           6209|\n",
      "+----------------------+---------------+\n",
      "only showing top 10 rows\n",
      "\n"
     ]
    },
    {
     "name": "stderr",
     "output_type": "stream",
     "text": [
      "                                                                                \r"
     ]
    }
   ],
   "source": [
    "top20Week.show(10)"
   ]
  },
  {
   "cell_type": "markdown",
   "id": "82cd47de-4636-44e2-9aef-7e277dbd91ac",
   "metadata": {},
   "source": [
    "## Q9 What neighborhoods in San Francisco had the worst response time in 2018?\n",
    "\n",
    "It appears that the average response time for `Lincoln Park` is more than 13, while `Haight Ashbury` only took 8 mins."
   ]
  },
  {
   "cell_type": "code",
   "execution_count": 36,
   "id": "ef2d5b6e-2ec5-4c62-8224-0a964ca80e83",
   "metadata": {},
   "outputs": [],
   "source": [
    "delay_time_by_neighborhood_desc=delay_df.filter(year(\"CallDateTs\")==2018).groupBy(\"NeighborhoodDistrict\").agg(avg(\"Delay\").alias(\"avg_delay\")).orderBy(col(\"avg_delay\").desc())"
   ]
  },
  {
   "cell_type": "code",
   "execution_count": 37,
   "id": "1452599c-e26a-4a41-bc5e-2b38646d125b",
   "metadata": {},
   "outputs": [
    {
     "name": "stderr",
     "output_type": "stream",
     "text": [
      "[Stage 42:==============================================>           (4 + 1) / 5]\r"
     ]
    },
    {
     "name": "stdout",
     "output_type": "stream",
     "text": [
      "+------------------------------+------------------+\n",
      "|NeighborhoodDistrict          |avg_delay         |\n",
      "+------------------------------+------------------+\n",
      "|Lincoln Park                  |13.192708333333334|\n",
      "|Treasure Island               |13.04574332909784 |\n",
      "|Presidio                      |12.169702780441035|\n",
      "|Visitacion Valley             |11.416916416916417|\n",
      "|Lakeshore                     |11.385576672741474|\n",
      "|Twin Peaks                    |10.587329780935464|\n",
      "|Bayview Hunters Point         |10.434967012252592|\n",
      "|Golden Gate Park              |10.28022759601707 |\n",
      "|Sunset/Parkside               |10.263134609003428|\n",
      "|Portola                       |10.253227821740941|\n",
      "|Bernal Heights                |10.179090029041626|\n",
      "|Financial District/South Beach|10.11780910711392 |\n",
      "|Excelsior                     |9.974632843791722 |\n",
      "|Glen Park                     |9.93956043956044  |\n",
      "|West of Twin Peaks            |9.901357978121464 |\n",
      "|Chinatown                     |9.862294432336041 |\n",
      "|None                          |9.77889447236181  |\n",
      "|Marina                        |9.756541762612517 |\n",
      "|Oceanview/Merced/Ingleside    |9.75476262473541  |\n",
      "|Outer Richmond                |9.741219963031423 |\n",
      "+------------------------------+------------------+\n",
      "only showing top 20 rows\n",
      "\n"
     ]
    },
    {
     "name": "stderr",
     "output_type": "stream",
     "text": [
      "                                                                                \r"
     ]
    }
   ],
   "source": [
    "delay_time_by_neighborhood_desc.show(20,False)"
   ]
  },
  {
   "cell_type": "code",
   "execution_count": 38,
   "id": "e4b6c2d9-108e-40fb-8525-7c9853e85333",
   "metadata": {},
   "outputs": [],
   "source": [
    "delay_time_by_neighborhood_asc=delay_df.filter(year(\"CallDateTs\")==2018).groupBy(\"NeighborhoodDistrict\").agg(avg(\"Delay\").alias(\"avg_delay\")).orderBy(col(\"avg_delay\").asc())"
   ]
  },
  {
   "cell_type": "code",
   "execution_count": 39,
   "id": "2d0d337d-31d9-4cb8-b93a-a56f36f4acf6",
   "metadata": {},
   "outputs": [
    {
     "name": "stderr",
     "output_type": "stream",
     "text": [
      "[Stage 45:==============================================>           (4 + 1) / 5]\r"
     ]
    },
    {
     "name": "stdout",
     "output_type": "stream",
     "text": [
      "+--------------------+-----------------+\n",
      "|NeighborhoodDistrict|avg_delay        |\n",
      "+--------------------+-----------------+\n",
      "|Haight Ashbury      |8.196945337620578|\n",
      "|Nob Hill            |8.27028404024965 |\n",
      "|Pacific Heights     |8.308811959087333|\n",
      "|Castro/Upper Market |8.641526578827806|\n",
      "|Hayes Valley        |8.650371087447564|\n",
      "|Mission             |8.660104928030133|\n",
      "|Inner Richmond      |8.877721443483448|\n",
      "|Noe Valley          |8.912113106610622|\n",
      "|Western Addition    |9.05             |\n",
      "|Tenderloin          |9.05721863273425 |\n",
      "|Lone Mountain/USF   |9.146173969914978|\n",
      "|Russian Hill        |9.342880978865406|\n",
      "|Presidio Heights    |9.361811391223156|\n",
      "|Japantown           |9.392931392931393|\n",
      "|Outer Mission       |9.54729160819534 |\n",
      "|Seacliff            |9.55045871559633 |\n",
      "|Potrero Hill        |9.58690397714788 |\n",
      "|South of Market     |9.62836233407295 |\n",
      "|Inner Sunset        |9.633784142137364|\n",
      "|McLaren Park        |9.669039145907472|\n",
      "+--------------------+-----------------+\n",
      "only showing top 20 rows\n",
      "\n"
     ]
    },
    {
     "name": "stderr",
     "output_type": "stream",
     "text": [
      "                                                                                \r"
     ]
    }
   ],
   "source": [
    "delay_time_by_neighborhood_asc.show(20,False)"
   ]
  },
  {
   "cell_type": "code",
   "execution_count": null,
   "id": "1bfd69a0-40ff-4712-ac14-19b4a7d9e8e9",
   "metadata": {},
   "outputs": [],
   "source": []
  }
 ],
 "metadata": {
  "kernelspec": {
   "display_name": "Python 3 (ipykernel)",
   "language": "python",
   "name": "python3"
  },
  "language_info": {
   "codemirror_mode": {
    "name": "ipython",
    "version": 3
   },
   "file_extension": ".py",
   "mimetype": "text/x-python",
   "name": "python",
   "nbconvert_exporter": "python",
   "pygments_lexer": "ipython3",
   "version": "3.9.12"
  }
 },
 "nbformat": 4,
 "nbformat_minor": 5
}

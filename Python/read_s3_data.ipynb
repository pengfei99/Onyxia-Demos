{
 "cells": [
  {
   "cell_type": "markdown",
   "id": "625116bd-9ba9-4da8-a84c-397847af8b93",
   "metadata": {},
   "source": [
    "# Read data from object storage (minio)\n",
    "\n",
    "In this example, we will use Pyarrow and s3fs to Read Parquet file. In the next spark demo, we will show how to use spark."
   ]
  },
  {
   "cell_type": "code",
   "execution_count": 1,
   "id": "2baeb243-0a07-4f59-b770-2792d206b28d",
   "metadata": {},
   "outputs": [],
   "source": [
    "import pyarrow.parquet as pq\n",
    "import s3fs\n",
    "from pyarrow import fs\n",
    "import os\n",
    "import time"
   ]
  },
  {
   "cell_type": "code",
   "execution_count": 2,
   "id": "32abfdda-5465-4469-a612-6c9c67c503db",
   "metadata": {},
   "outputs": [],
   "source": [
    "# This function reads a parquet data set (partitioned partque files) from s3, and returns an arrow table\n",
    "def read_parquet_from_s3(endpoint: str, bucket_name, path):\n",
    "    url = f\"https://{endpoint}\"\n",
    "    fs = s3fs.S3FileSystem(client_kwargs={'endpoint_url': url})\n",
    "    file_uri = f\"{bucket_name}/{path}\"\n",
    "    str_info = fs.info(file_uri)\n",
    "    print(f\"input file metadata: {str_info}\")\n",
    "    dataset = pq.ParquetDataset(file_uri, filesystem=fs)\n",
    "    table = dataset.read()\n",
    "    return table"
   ]
  },
  {
   "cell_type": "code",
   "execution_count": 6,
   "id": "fbcc3a95-e4a2-4022-87f2-f401d2863206",
   "metadata": {},
   "outputs": [],
   "source": [
    "endpoint = os.environ['AWS_S3_ENDPOINT']\n",
    "bucket = \"pengfei\"\n",
    "data_path = \"diffusion/data_format/sf_fire/parquet/raw\""
   ]
  },
  {
   "cell_type": "markdown",
   "id": "7c4c9e99-ac15-4621-8a93-4073c25875bc",
   "metadata": {},
   "source": [
    "At this step, only metadata is loaded."
   ]
  },
  {
   "cell_type": "code",
   "execution_count": 7,
   "id": "63060618-1e05-4b09-92fc-222899249e5f",
   "metadata": {},
   "outputs": [
    {
     "name": "stdout",
     "output_type": "stream",
     "text": [
      "input file metadata: {'name': 'pengfei/diffusion/data_format/sf_fire/parquet/raw', 'type': 'directory', 'size': 0, 'StorageClass': 'DIRECTORY'}\n"
     ]
    }
   ],
   "source": [
    "arrow_table=read_parquet_from_s3(endpoint, bucket, data_path)"
   ]
  },
  {
   "cell_type": "code",
   "execution_count": null,
   "id": "d44914f8-97ea-4361-8ae1-082e9a1a2ef1",
   "metadata": {},
   "outputs": [],
   "source": [
    "When we convert the arrow_table to pandas dataframe, we will load actual data."
   ]
  },
  {
   "cell_type": "code",
   "execution_count": 16,
   "id": "42e6122f-ff70-4c54-94d1-863ba72db946",
   "metadata": {},
   "outputs": [],
   "source": [
    "raw = arrow_table.to_pandas()"
   ]
  },
  {
   "cell_type": "code",
   "execution_count": 17,
   "id": "1679de77-1a22-454e-9400-45e9f2674fb2",
   "metadata": {},
   "outputs": [
    {
     "name": "stdout",
     "output_type": "stream",
     "text": [
      "shape of the data set: (5500519, 34)\n",
      "schema of the data set: CallNumber                      int32\n",
      "UnitID                         object\n",
      "IncidentNumber                  int32\n",
      "CallType                       object\n",
      "CallDate                       object\n",
      "WatchDate                      object\n",
      "ReceivedDtTm                   object\n",
      "EntryDtTm                      object\n",
      "DispatchDtTm                   object\n",
      "ResponseDtTm                   object\n",
      "OnSceneDtTm                    object\n",
      "TransportDtTm                  object\n",
      "HospitalDtTm                   object\n",
      "CallFinalDisposition           object\n",
      "AvailableDtTm                  object\n",
      "Address                        object\n",
      "City                           object\n",
      "ZipcodeofIncident             float64\n",
      "Battalion                      object\n",
      "StationArea                    object\n",
      "Box                            object\n",
      "OriginalPriority               object\n",
      "Priority                       object\n",
      "FinalPriority                   int32\n",
      "ALSUnit                          bool\n",
      "CallTypeGroup                  object\n",
      "NumberofAlarms                  int32\n",
      "UnitType                       object\n",
      "Unitsequenceincalldispatch    float64\n",
      "FirePreventionDistrict         object\n",
      "SupervisorDistrict             object\n",
      "NeighborhoodDistrict           object\n",
      "Location                       object\n",
      "RowID                          object\n",
      "dtype: object\n"
     ]
    }
   ],
   "source": [
    "print(f\"shape of the data set: {raw.shape}\")\n",
    "print(f\"schema of the data set: {raw.dtypes}\")"
   ]
  },
  {
   "cell_type": "code",
   "execution_count": 18,
   "id": "0104c775-259b-461b-95dc-8da642aebd2d",
   "metadata": {},
   "outputs": [
    {
     "data": {
      "text/html": [
       "<div>\n",
       "<style scoped>\n",
       "    .dataframe tbody tr th:only-of-type {\n",
       "        vertical-align: middle;\n",
       "    }\n",
       "\n",
       "    .dataframe tbody tr th {\n",
       "        vertical-align: top;\n",
       "    }\n",
       "\n",
       "    .dataframe thead th {\n",
       "        text-align: right;\n",
       "    }\n",
       "</style>\n",
       "<table border=\"1\" class=\"dataframe\">\n",
       "  <thead>\n",
       "    <tr style=\"text-align: right;\">\n",
       "      <th></th>\n",
       "      <th>IncidentNumber</th>\n",
       "      <th>CallType</th>\n",
       "      <th>CallDate</th>\n",
       "      <th>City</th>\n",
       "      <th>NeighborhoodDistrict</th>\n",
       "    </tr>\n",
       "  </thead>\n",
       "  <tbody>\n",
       "    <tr>\n",
       "      <th>0</th>\n",
       "      <td>21017645</td>\n",
       "      <td>Alarms</td>\n",
       "      <td>02/08/2021</td>\n",
       "      <td>San Francisco</td>\n",
       "      <td>Lakeshore</td>\n",
       "    </tr>\n",
       "    <tr>\n",
       "      <th>1</th>\n",
       "      <td>21017596</td>\n",
       "      <td>Alarms</td>\n",
       "      <td>02/08/2021</td>\n",
       "      <td>San Francisco</td>\n",
       "      <td>Mission Bay</td>\n",
       "    </tr>\n",
       "    <tr>\n",
       "      <th>2</th>\n",
       "      <td>21017578</td>\n",
       "      <td>Citizen Assist / Service Call</td>\n",
       "      <td>02/08/2021</td>\n",
       "      <td>San Francisco</td>\n",
       "      <td>Marina</td>\n",
       "    </tr>\n",
       "    <tr>\n",
       "      <th>3</th>\n",
       "      <td>21017552</td>\n",
       "      <td>Other</td>\n",
       "      <td>02/08/2021</td>\n",
       "      <td>Daly City</td>\n",
       "      <td>None</td>\n",
       "    </tr>\n",
       "    <tr>\n",
       "      <th>4</th>\n",
       "      <td>21017398</td>\n",
       "      <td>Alarms</td>\n",
       "      <td>02/07/2021</td>\n",
       "      <td>San Francisco</td>\n",
       "      <td>Lone Mountain/USF</td>\n",
       "    </tr>\n",
       "  </tbody>\n",
       "</table>\n",
       "</div>"
      ],
      "text/plain": [
       "   IncidentNumber                       CallType    CallDate           City  \\\n",
       "0        21017645                         Alarms  02/08/2021  San Francisco   \n",
       "1        21017596                         Alarms  02/08/2021  San Francisco   \n",
       "2        21017578  Citizen Assist / Service Call  02/08/2021  San Francisco   \n",
       "3        21017552                          Other  02/08/2021      Daly City   \n",
       "4        21017398                         Alarms  02/07/2021  San Francisco   \n",
       "\n",
       "  NeighborhoodDistrict  \n",
       "0            Lakeshore  \n",
       "1          Mission Bay  \n",
       "2               Marina  \n",
       "3                 None  \n",
       "4    Lone Mountain/USF  "
      ]
     },
     "execution_count": 18,
     "metadata": {},
     "output_type": "execute_result"
    }
   ],
   "source": [
    "df=raw[[\"IncidentNumber\", \"CallType\", \"CallDate\",\"City\",\"NeighborhoodDistrict\"]]\n",
    "df.head()"
   ]
  },
  {
   "cell_type": "code",
   "execution_count": 19,
   "id": "aa1939f3-704d-4359-a03b-24a83b7a3796",
   "metadata": {},
   "outputs": [
    {
     "data": {
      "image/png": "[encoded data removed]",
      "text/plain": [
       "<Figure size 432x288 with 1 Axes>"
      ]
     },
     "metadata": {
      "needs_background": "light"
     },
     "output_type": "display_data"
    }
   ],
   "source": [
    "top10CallType=df['CallType'].value_counts().head(10).plot.bar()"
   ]
  },
  {
   "cell_type": "code",
   "execution_count": 20,
   "id": "ef9529de-a86d-4169-b234-a6108b8f94de",
   "metadata": {},
   "outputs": [
    {
     "data": {
      "image/png": "[encoded data removed]",
      "text/plain": [
       "<Figure size 432x288 with 1 Axes>"
      ]
     },
     "metadata": {
      "needs_background": "light"
     },
     "output_type": "display_data"
    }
   ],
   "source": [
    "top10District=df['NeighborhoodDistrict'].value_counts().head(10).plot.bar()"
   ]
  },
  {
   "cell_type": "code",
   "execution_count": null,
   "id": "b1eb3270-a2a1-4010-8fc3-912dcd1ce636",
   "metadata": {},
   "outputs": [],
   "source": []
  }
 ],
 "metadata": {
  "kernelspec": {
   "display_name": "Python 3 (ipykernel)",
   "language": "python",
   "name": "python3"
  },
  "language_info": {
   "codemirror_mode": {
    "name": "ipython",
    "version": 3
   },
   "file_extension": ".py",
   "mimetype": "text/x-python",
   "name": "python",
   "nbconvert_exporter": "python",
   "pygments_lexer": "ipython3",
   "version": "3.9.12"
  }
 },
 "nbformat": 4,
 "nbformat_minor": 5
}

{
 "cells": [
  {
   "cell_type": "markdown",
   "id": "231bed11-5e6d-4f43-8df3-1b59c9412dbc",
   "metadata": {},
   "source": [
    "# Trevas Jupyter\n",
    "\n",
    "Welcome to the Jupyter Notebook including VTL support.\n",
    "Let's script!"
   ]
  },
  {
   "cell_type": "code",
   "execution_count": 1,
   "id": "f8585c47-a8d9-4fe4-82d5-48470b377b41",
   "metadata": {},
   "outputs": [
    {
     "data": {},
     "execution_count": 1,
     "metadata": {},
     "output_type": "execute_result"
    }
   ],
   "source": [
    "a := 100;\n",
    "b := 2;\n",
    "c := a * b;"
   ]
  },
  {
   "cell_type": "markdown",
   "id": "b5abbd03-bf13-4b49-b5c2-ba16bca7fc2c",
   "metadata": {},
   "source": [
    "## Visualization\n",
    "\n",
    "To interact with data, you can also use dedicated functions:\n",
    "- `show`: params: Variable v\n",
    "- `showMetadata`: params: Dataset ds"
   ]
  },
  {
   "cell_type": "code",
   "execution_count": 2,
   "id": "1174435f-567c-41e0-b8d0-4efc68297c69",
   "metadata": {},
   "outputs": [
    {
     "data": {
      "text/plain": [
       "200"
      ]
     },
     "execution_count": 2,
     "metadata": {},
     "output_type": "execute_result"
    }
   ],
   "source": [
    "res := show(c);"
   ]
  },
  {
   "cell_type": "markdown",
   "id": "954362c8-aa1f-46b0-9e86-a4d261c99e17",
   "metadata": {},
   "source": [
    "## Datasource integration\n",
    "\n",
    "- `loadS3`: params: String url\n",
    "- `writeS3`: params: String url, Dataset ds"
   ]
  },
  {
   "cell_type": "markdown",
   "id": "b6cba382-3917-45a5-b61e-ef5ba80fcb89",
   "metadata": {},
   "source": [
    "## Load dataset"
   ]
  },
  {
   "cell_type": "code",
   "execution_count": 3,
   "id": "70d581d6-bc2b-4dc7-8833-b9609b0f4a2f",
   "metadata": {},
   "outputs": [
    {
     "name": "stderr",
     "output_type": "stream",
     "text": [
      "ANTLR Tool version 4.8 used for code generation does not match the current runtime version 4.9.3\n",
      "ANTLR Runtime version 4.8 used for parser compilation does not match the current runtime version 4.9.3\n",
      "ANTLR Tool version 4.8 used for code generation does not match the current runtime version 4.9.3\n",
      "ANTLR Runtime version 4.8 used for parser compilation does not match the current runtime version 4.9.3\n"
     ]
    },
    {
     "data": {},
     "execution_count": 3,
     "metadata": {},
     "output_type": "execute_result"
    }
   ],
   "source": [
    "ds := loadS3(\"../data/fideli\");"
   ]
  },
  {
   "cell_type": "markdown",
   "id": "1ccd75ab-df9f-4c69-b6cb-7eda08cb9342",
   "metadata": {},
   "source": [
    "## Show the metadata of the data frame"
   ]
  },
  {
   "cell_type": "code",
   "execution_count": 4,
   "id": "44fab037-909c-42f5-b0e0-14f302b086b0",
   "metadata": {},
   "outputs": [
    {
     "data": {
      "text/plain": [
       "dirindik (IDENTIFIER - String)\n",
       "dirindicsu (IDENTIFIER - String)\n",
       "dirindia (IDENTIFIER - String)\n",
       "ind_fisc (MEASURE - String)\n",
       "id_fisc (MEASURE - String)\n",
       "sexe (MEASURE - Long)\n",
       "pren_1 (MEASURE - String)\n",
       "nais_ind1 (MEASURE - String)\n",
       "anais (MEASURE - Long)\n",
       "mnais (MEASURE - Long)\n",
       "jnais (MEASURE - Long)\n",
       "numero (MEASURE - Long)\n",
       "numero1 (MEASURE - Long)\n",
       "regroup (MEASURE - String)\n"
      ]
     },
     "execution_count": 4,
     "metadata": {},
     "output_type": "execute_result"
    }
   ],
   "source": [
    "show := showMetadata(ds);"
   ]
  },
  {
   "cell_type": "code",
   "execution_count": 5,
   "id": "6c7f5a50-5da6-4a08-baba-1459c1f8a91c",
   "metadata": {},
   "outputs": [
    {
     "data": {
      "text/html": [
       "<table id='dataset_1905279881' class='display'><thead><tr><th>dirindik</th><th>dirindicsu</th><th>dirindia</th><th>ind_fisc</th><th>id_fisc</th><th>sexe</th><th>pren_1</th><th>nais_ind1</th><th>anais</th><th>mnais</th><th>jnais</th><th>numero</th><th>numero1</th><th>regroup</th></tr></thead><tbody><tr><td>4e58630aeb82d258326c3de83a4a8404a584e92c64d52790d1365a865a1182522fa542b2e5834977f22e8168163925497c2d0f6638000e793da0eee4922e00a3</td><td>null</td><td>8124c78cd8b3393bf84c2e5f58c33ce824e1ee4e5c152368c337ea12fb287df81b8e922dabb068e854ad856e85409490680a41784c65e4498054e71ae8cdc8d5</td><td>40f867d5de89a971f91446a0fbfbb6dc0544cf2474e5b744adb7d2a32af8a871fef307e8d59c868e3466b18ee4a9b1f34f18119e1c90592b3d62c428c3e4f11c</td><td>8a9a5c097d6de8de5fc057451b218a840f9b5b0fac608005c74b3ef3cc57de31838266bc36907cd0004cd27ac51f440da13e68cee7c51d48fdcb5ffbe1263399</td><td>2</td><td>INALYA</td><td>LABERTY</td><td>1921</td><td>10</td><td>6</td><td>2080499</td><td>2622492</td><td>100000</td></tr><tr><td>727153285090fc65fbac127a2b40724012f7ed9a25e4d4019f9961beaa3b2d845ceab5d568f40bccdb5b2f98a0ea6b2c866259cb05c134d28845bd12a1bf1254</td><td>null</td><td>d23a6fd8c9e8a82b1e0f56561d7315539cd386aa43f78d54ca84b163451380c522d5ce5ab7b14d30c924928a0bc96a8ba2febe9d499fbf32fd2975af17ab66eb</td><td>1dd9b5345eddfce00b5ad1d70c5b82bc09ee55daeb5125248ecfbf93668307a1fadbd99ccbd7750fab5c880db9cf433b755143286a0eae05a5257c7c2e5fc86f</td><td>5f38283db3ed150afab8080391f0bd2f7d70a94ce40d921c4ec2d126ecfabbb95487078b13f7352a5c8d698393d95ec8b318662b430015367cd0a693f92d8f0e</td><td>2</td><td>CIRE</td><td>DIVERNET</td><td>1996</td><td>8</td><td>30</td><td>2750243</td><td>2238150</td><td>100000</td></tr><tr><td>88f0a6889aee8a1af423918bff8777a41293bc8639d40dcecace87ec0ec4b29deb524cdedbbc73dd9288f53f25e45f22c29710afe2fc31d761fa059dd23b80e2</td><td>null</td><td>7b7fc8a8f437e6ff861456da3da84175cee60d9b26862424013bf637baa613d5468e8343c27ba9a34c5be7f3091148e17fc4ede474ce22ecab4b6c01219e573c</td><td>4debb6879d52b95ad370d284f99d5460cd156e9d751c0f9839bf897a566a80b0da6f7877c455aea8da499e6ddb5ceaa49b1e7773926bd8159723c72e2003bc2a</td><td>fcbafadcdbcdf1227c250c821ee6fd5efe0d1480434b4150d3724f07c8d8d4f3ea17f14ef8b26597b6a269baf11b0c863743d898cddffce74b0d05943dc9124a</td><td>2</td><td>VALMOND</td><td>ROPARTZ</td><td>1979</td><td>null</td><td>29</td><td>4003856</td><td>4256905</td><td>100000</td></tr><tr><td>28895b253b43ba534f83a8c111c8591095f9f7c016820b49683addb1ca80536ae33ae1a5455541579072debd80c3d995971a49823dd2094e21ea9c1c3268c804</td><td>null</td><td>8d0e1b81d78567c92992f9c3e7c7747576b1487ee37afd72269332aaf17bf8ed637f515cd9371f1ead6cf5770ae13107a7c41ef9fe85d27c8ffd6cf33f14a29d</td><td>96ae64750202a4d55de03cf12f7ce899db0654b944637bfad407b57b9ace6b90c1a8163b82911043caae42601950c7db0aaca36c074835e9ef3b6bcafc4a8142</td><td>2fc1c965b11b65182b3225473cf7ebc61458c744593b73f93706dd1fb9bea82ff9f3f89891a7db00012c9ed3b4bdbd33786c1915318ee34d29af4e225f51b5e9</td><td>2</td><td>RENO</td><td>BRUYERES</td><td>1969</td><td>7</td><td>19</td><td>9932632</td><td>9994596</td><td>100000</td></tr><tr><td>02fe5560d4a1f260ba295c3fd27de2ee7a740fa362dab6264206d226d06584ce83dfee6ddfd984aa2c39c7805359ebfc88cf0872793140be5fa7dbf1b1fd472f</td><td>null</td><td>9fef0d8a010e6abb9a7570392e27a6dbfce783ec6d1e71889a0483d00dba597db3c7517e0ed9cf1127bf81fa4f7db419e1f33bc9743f5bf0d9ed218b6ab93d7c</td><td>92aecc5032de97efa7f6e841b7a87e1dc7cb445836a8ca8a507b3f182b8a252e3ca97c7b13126084174ffdbfa08eb12d724f00866133d938d0dde795ae8af7f3</td><td>7b13ffb97c0f1385e930d257f4b1d604b791e7f9e93d765401d16e340057e374a5d588eb37663496a9cc5d2f6e52ecc83fa1aee1d9b132dac79ff24214b7b428</td><td>2</td><td>GÜLER</td><td>BOUILLERET</td><td>1965</td><td>12</td><td>10</td><td>13908255</td><td>13782743</td><td>100000</td></tr><tr><td>126b1114555ed1a471ac55a36b1d86da725b1538cd0619e8a96019168f091352077e62392a228ca502d868f3ec6d66cced05b2c7086cffb3bfba18ffd78d2db7</td><td>null</td><td>a5db49e4d4cac13351f51d404ab3beb84a9857328850f64ccee7d82183e3f7330e32eb6c9683a66ee7ca6fdf310ed18efc490d6fad92a676915b1fc2c0944573</td><td>a027c52cc158bf4e2f881017d1c60bfe23fe007bb394d0efa3bca8f8d4eb875bbbddc2b56170589a1d7f45120040ed61efa7e1de02c81c42f799b48578bec76a</td><td>96dce2f8f86f0072ce74036c01f7c084a860b4590faa576fab488dd5887425792e097bd41956a990023914fbb43c0f6ed4abfb6a62e74b2a6240f53e829225ef</td><td>2</td><td>YOUSRA</td><td>STEPANIAN</td><td>1979</td><td>7</td><td>29</td><td>21919545</td><td>21867453</td><td>100000</td></tr><tr><td>217a55493a5f0570a30ead92c2e60cc29463e8a8be35771fcfa65ce581057fa37a77c2788a4de27d449be1b6d1dc903f1fde49212ef1b4af0db1e5c52a3c1a7b</td><td>null</td><td>d0842642a5dd73b910a92b1f8a3a58f471df617457b45cc0dac3eb8a776cefdb8a3a6bf5c601b02f09caa5bc7b88b5bef14c65ed4a462c0f05ef28baccd107c5</td><td>5119c0f0b1ad5a9147e779b7616b6fcb647845d442c0fca232ecb513116e57e4a4a412f2eaf03808215d4aeea36409c0a5b7154f905e62125a168f22c97034ed</td><td>b74826fbed405e096e11378c03f6f0ba7f005bd4375e9c8c1aae0346ed8bb0e3660a2af870af059edfac41c31c3a7c71693250a4710b3202a9170ec3f7394457</td><td>2</td><td>ROMULUS</td><td>LASSALAS</td><td>1984</td><td>10</td><td>9</td><td>28626036</td><td>28732708</td><td>100000</td></tr><tr><td>4879154428a64986237d9c8187829301acace6deafd5751f1d970de501dd45525c3ec068e76cd2328da11f78297f63727b868446a2fda13829443e1feea1a2a2</td><td>null</td><td>07df943c10ee671c328990410561c700060b817cfc46a1824932f595db164b50b2e2487d148cbb2ef9f080a673577073d858ce3b7ac292a252b422cbd6a4bf24</td><td>c4489fdce0900f13c5975b156afea9a4e0d1bbe32cf7a18a1924a66a8382c6df7be2243ff72241de240547fb06fb016708235f109fa8305f37bb346943bdd8fe</td><td>55c7ed6a926d9b56a677b4e8b03dcedc68bb1ae9572aed56888c5ea746e3a1bed94486dd8c97d428cafd1834530b949dac86391dff05fc716c8673651f05b831</td><td>1</td><td>SHADE</td><td>POUDENS</td><td>1944</td><td>0</td><td>10</td><td>30878004</td><td>30960109</td><td>100000</td></tr><tr><td>374fcb714a6602383cac17c207c3d79a4449961289bf952e2f3383c8cc9bc9b7f9a927220e4b1dbd9af1fb6ae38195caedea31d4320f3cfe7a0081563cfafbeb</td><td>null</td><td>789887e4479e33e417aff8dbe126abf71e0f2f094fd2f4217bfd28ca528341ec297e7c092dfc942c25abc495b86ee34d5bab20709f4855649669a25131a2a8aa</td><td>88c549bc9bc9a6ee123cb45aad5ee07dbe4553a8c21ae1aeb51b404e36311465ffe2ba2ef37ac95c969686201bb1d62b17e3a7f7201e6925dbc40ba38c5066d0</td><td>13f2e88bc4fccf6dda00b28238c6961970e70ddfa295456b3e3c7764f08c45d3ec35e72e4f7839ee04ec91a84277a9c9f33aab451970684e5c48343be3bd89d4</td><td>2</td><td>MARIANNIC</td><td>GAS</td><td>1999</td><td>8</td><td>31</td><td>35404134</td><td>35523442</td><td>100000</td></tr><tr><td>817b4f4505025860f447d7fdc6786d887d59ebd4adace1d8ed3e6662ed56d815a76741f9780d5c0c3c29baf3198682042447ede9905a45a37b42834a5b4b60cd</td><td>null</td><td>8d9a29edbba71c583ff145221e144d68c29d735221d189e1dcef64fa74c137fb5fb4efc1fc7abb1a01e767beae92aab7f788811d4140b447071d456620ce714d</td><td>738f6e18d0e831b5eed27bc458cbf0a39145a59c0851c67895f101f181c19c59fb4019a44409e2b1251d634fbe9bdd9aae2c5399c9eef43b9d19ade01929396c</td><td>f5cdb07cec5ac793dc8b1ade235465778dcc2a8f3ebf7b62d459d1e42917034ccad08e90328f563b430331a94cd77c5d908178b5d5c104eff93fd33fbbfd3772</td><td>2</td><td>INESSE</td><td>KORZEC</td><td>1994</td><td>2</td><td>6</td><td>36723559</td><td>36682119</td><td>100000</td></tr><tr><td>3e27c7451a5b012f9df8b1ca335e21baa5de9acc87c0c782e57946dbd044cd23386da34af0eccaa7404bd967e24480d776066d3b80d6671e3601aa4ea41b13ac</td><td>null</td><td>3afae433d254ff4bd0e06b2b6be8388df9c6b6dc66f31613cd6c4b0b97989a11ad9eb851f0128cf3e296f36f184076633b7c23e79cb4f3cc094a387a2bc4537f</td><td>46f2e98726c71d24983a42edc798d94a1d7f26c9a47a016e73fecfa35892cc95fb624f6e164d6f52e462609619cc631e45ac4aa0d1ea394b656beedc415e32bf</td><td>38ec905eaa46822df4df8f5a4de3c0c70efa6afe82242d73c42e1ceb33517af7019776c5a0567138eec451deeb8e412c219363241c9c4fa765ad71ec8c2f5844</td><td>1</td><td>KHADIDIATOU</td><td>MALET</td><td>1955</td><td>null</td><td>4</td><td>38942616</td><td>39513223</td><td>100000</td></tr><tr><td>38713ebbfc8bad338a4c0c60bb223997357b3f64149d899d266ba8afb2d8eafebc67911e3eea349d169c1dc5aaa826138f3d5a464feb25dc99267ec90c44f6f6</td><td>null</td><td>0ad300eeb0ef1a543eba6044a1a27fd59086869d8be687be0d298df53740dea1cdaf63b2cec5420500ac7f47094e6bdd3cf64397e71dba12c4250cab6afa77b3</td><td>6b36b0f73d55dc4a408655adb6bb1fcc82f37d4b60e10db300028010f7fc053ca7a3c0599e81e86716da0d8649d617120d982e2cc2689701d1236305eda4cd8e</td><td>dddd405ca119f89189554a8d43155f726482bfd9b3f421f27b417d4336248b9239e098598378ae377f7283b086f7510134e63182ca61d9b5492fbe8278dfa278</td><td>1</td><td>RODOUANE</td><td>TRAN NGOC</td><td>2000</td><td>0</td><td>26</td><td>45332777</td><td>45318450</td><td>100000</td></tr><tr><td>5303e34b3246066d89fa20c27a6ca7fda6588bcdc74c0015de5865514f1c5825e85cda33ba5830e399c4347af54fc70df67cd0b0c4ff0c2f52d306deb0b563f2</td><td>null</td><td>056ed6bc6f733ba11b882f62654cea7cf8ece60bf18ff549d0ce119731f3a5c52deb48f8c6a5287f4463c25f638c8471d1e0eb89d1ac6b188bcbf5407b82c46b</td><td>45ff5539ac8c1b1b12a4bc310ede62ab98096d296a876bc57fdc420649fa07caa414e5acb5189dc974f524a8237675cd86d7ac25c58ca389a1f73bd4121f6182</td><td>67ff7e0a6fc36d2943ca3d11b9d70fb772671e6e2e976c4c294b46202a615b2c131ae9259431d573150039bf5a52602e96f14f9a8fdf1a2d84a571c707419457</td><td>2</td><td>TIFENNE</td><td>PARANTHOEN</td><td>1966</td><td>4</td><td>9</td><td>49460482</td><td>49529309</td><td>100000</td></tr><tr><td>d9bfec572ab373572f4237e46b7147405f1ea4e711c0a2362322943fc83a35787194e7ab5fa8eeabeebd142a27f92483cacb8913837f09bb5087295883690b48</td><td>null</td><td>19d2edc1571b48a8e6a69b478d8f7331deeef60a3445774915ae857c5b6b9f9819c93034971b1b11fef6ba5b7e6bbc82b73c93c1c7602fe27371bd6d3890118e</td><td>0131ae8a4464d0653fb8b260ee8ec26d44f8aca75188422c87f6f85a98dec1c16dad7ec3dfeaad792e2d9334c003abd2cdb5d8b1bd540fec7ace3e15592b5eae</td><td>8c5d01a3bdda46454cd26ec6781ed191365274fa2b5c22c3f2bd4c8a668540af99dcd2aa5bc51d66e6c18899d082ddc81ec01a60d69b64b1942fd5baf66099ca</td><td>1</td><td>MAËLWENN</td><td>OUERGHEMI</td><td>1969</td><td>0</td><td>1</td><td>63965807</td><td>62805712</td><td>100000</td></tr><tr><td>633358f9cb371ce1fbbc531172a1098db010b8b4b4f0c7578e5d69866d901fbe23b4b8bdace60624ff98b4f1f30c02becf14cca449d39227fdd6151cf9ce2c2e</td><td>null</td><td>a8ff3b07092f1d6ee3989800f21f7cb9595d3dacb51c64a0bb37a5baa271610c28b5263951299105cdd25bb5b5aebe676d943d220c4128a889817160a7e88ba6</td><td>938a37e514e2c776c7391d21a5d0f2fd66ee8a5bb70ed6c0d45d4637cec82b882cd14341bbae857d48d4326a22d2c39c1a326e68628a7daea9ecc441cb533253</td><td>7e5dfda13cdbae4285f18fa8227c0b11850eda4270573bb3dcd1cdd94043e6d8e41ec98e67e96a9ba5ba3cb7f7659f4e2c0abaa06eb2d049421ef87dc71895d5</td><td>1</td><td>MARIE-MADELEINE</td><td>GHISLAIN</td><td>1977</td><td>4</td><td>16</td><td>66534734</td><td>65885527</td><td>100000</td></tr><tr><td>84e10778fd7a2fbfa0d87051e7a39751a6b36257a247c1506884292c38b73ce84adb16df00992ff10ab408659c22022544f56f73220b4dbe16b3883387f4ffbc</td><td>null</td><td>ccc3fb549bf20c91bb5cdc0326034a262697c82186704a55707c8e557b0e74053fb09a3a50847afec0f44c5efdf5a771c6d0b4ed2a5dc5e6ceae51c4fe54c86f</td><td>cded5f9186328a6d12f200d2f753d7e82441c5ac715b8d719c2c24996055acc936819dc73c2aa053eef45f722f09065ce7a83958612d80437ba8bc74dd4e2b56</td><td>fcef0dc71e5aea83ccd0ebcb01e1f40e45a49ced8f832ec8aa84a84bc683e738c5746fff04cf78f1a14f4c25e3d5a5bad2bb8eb2d808dba096ee260e30664a5b</td><td>1</td><td>ADAMS</td><td>WETTLE</td><td>1986</td><td>4</td><td>17</td><td>5837671</td><td>5385725</td><td>100000</td></tr><tr><td>30123953b3a7c57974ca13ff6d0b72b692fdc3eb26562c322e47c891c44da2979150c3a51a8ffb597f019bc3292bf4191305d5c93868b5a5f6860a620b0aba0a</td><td>null</td><td>c51c6a72cf10c0929db4d89e9b3d27d9fa8cc939fc3254f8cb03e458b238b33bbea1484a270a9f7f9fb033126a128ec2ed4b4047e942432beca5d2e2d3797585</td><td>8fc1f8243f6d9ce6d2fa18a85595bb8a3406031286bfbd0ea1ff3b419ab21880e4d466b0251891f53e3eb9c59904948dae28b3f4d7c1280250a7b6ad942e55f6</td><td>63acd44c2ff5c08e15fc9405692060f36a279dda6e5260a2b565708c0ee44be62701414adee14546907e1053241e26203154c40bef9638bf7af57079b3e3f408</td><td>1</td><td>THAILYS</td><td>TULLOUE</td><td>1938</td><td>6</td><td>12</td><td>9758687</td><td>9980150</td><td>100000</td></tr><tr><td>193e8ec02ff9003a9644620355714c1c3ae90f47fefca17c755a5a14444b46e4cbf48babf5ca752288ecc23f3a775d64f054c5d9c86e00f8be481f2aa8f5295f</td><td>null</td><td>0010f6dbecc8af7c97f2653a0e2b71aef3f5f7bcd3e9bb6652b95f7a2673a4e033ea0154b7dfcfae505e2288143365c285b7cb55f8064487d1e0862cf1ad9b97</td><td>cd6ae235fdc9d519bcbd4b2860555893608d2c3fca6d7e5c87901ac7ccc43a0542486b0130b98eb706937a6ebdeb239b876f19be2d38500dfa72e84ba5327d7b</td><td>97b23256db4bc59de9023622bcce696d978dac783219be66de0cac3b4af20b584954a321895cfa4ec138d99234c78c5aa2bf4072dd4b9d0016e843da2549fd1b</td><td>2</td><td>TIJANIA</td><td>THIRRIARD</td><td>1986</td><td>7</td><td>31</td><td>16231477</td><td>16171478</td><td>100000</td></tr><tr><td>2c107ed9b5adf64710cc76939e6e21d612e6d2ae1ff455cd636e31242107941c539a44a1096cf12e7583d44ac9aeadb6f227e931efaee81a883c1df018c5ac68</td><td>null</td><td>226dbeaba1fb64204582b1c1b032927de21e3edb2d55a412c8ae986e1670af54541ff23800b6a534b978fb36dcefd69033d338d6836de48f9f47aa7355d3e9dc</td><td>a6eb6e5d544fa746ac29734a3e827090ae4e00261da4d7dd565a52db39513270ce7b4ec7c2d2a4ae41fd68e5add9331b2fea60ebcc7d45bf4508c2c2b8f24a95</td><td>da0404a61f16491b31f74c05a71ec67d8e716cbbc961f5177d4a64dee72077ffc590241aab1c68850de75618318d5bfe21750f4b42cf9d21642e97011ffce4e7</td><td>1</td><td>PASQUALINE</td><td>ARTIGUELONGUE</td><td>1933</td><td>null</td><td>9</td><td>16619848</td><td>16471059</td><td>100000</td></tr><tr><td>650f03d81d497bfe0d50b41328b59943e03329e0ac56dfc67c47fde2daaf08d1a08b9c4683269360d2d81d1c68670ead1b078512ee6542cbaebf54773aee3852</td><td>null</td><td>77385a80b81f92c3a7cdfbfa70ebc39de8626b8c2d641e40730ec9067d8e7cc7801841c27501cf2307132f5faae191b3df8d996285b7c26d0742512baf313d00</td><td>4eb1db4f7fb2db434ee1b9fdb6263a4f005952fe81c8fc185325c4f88171186924247fcf56226ac81d31027fd2490ed5563d3d7e6b841053bdc5d8faf904d2a8</td><td>ac95bd25cadabb77b2e83d4969ff9ef7cec8ea5731590eae5bf0e9a9c6cf0f2880bf807bf4b52ee949cdbd12bb41c06adf1bd2b098bc7957abf9b9a49b4d11f5</td><td>2</td><td>ROMANA</td><td>CADE</td><td>1946</td><td>6</td><td>4</td><td>19539147</td><td>18811724</td><td>100000</td></tr><tr><td>08a815b8b4416a5e3c6a646f45785e161d5e9735fb0123cbee681942b5343745418974f405055b71d743d6e9ad89bb2fadab5db0dc2d5790092a7dead9dd46e4</td><td>null</td><td>03fb6d17851afd916920392cc396cce079ea4361ec62423af16c3bfac5d832252e4478eec87549861c6c52ca3d37d38d1ce5362a5f917197b3136e2e2396d4e3</td><td>9df00a7eff8c19a3b0953ef511f186b8972baa8f3be5e3eca236c33b7808dd3979c00706fb0dc2df181e1579828d8109f3f92c30e09fd8910862be1df65d07c6</td><td>676c41f265d57ef987e270612c1d5f2afb419c078ef319978125958ae70600af67c4ddc7b3a3a22079e32f7efba9a2235249f2598327e4eb3239b8bdff16e2e0</td><td>2</td><td>LAURY-ANN</td><td>HILAND</td><td>1964</td><td>null</td><td>18</td><td>23067780</td><td>22989261</td><td>100000</td></tr><tr><td>41aa703cf8bc0ffa428c51b42c66586f7792dd77bd36f691a40a87fd7813111e14526179961ee92772cf5db4c83cebd998b84dfe0ad5d6870bdf7d4418e84ce5</td><td>null</td><td>ccde356632301edc93fb762152b135624463ba1840295a8e324a927ddeab1da856601de1bd20d318a9c3637add864b0e38f7c81b6474ab696ab6a2772c2c41ce</td><td>ca461d3a1ede560d1b2182a1f7ee0b5c1ac1a69ab8e95112dbc1d7449b004d8042b4e79b0ef7d2dbce5d7bad62ce1d6d06d153986582485a1d50daa5c90beb47</td><td>4d883d0110fdb1c654da62c3b71edf670110dda96c66787ae8eacd5e4a2c78c462971719081f4ba73df7c3a81dd9aecedf83774c05cf39c423d9c236f4a2ac00</td><td>2</td><td>BABOU</td><td>BOBOT</td><td>1985</td><td>10</td><td>0</td><td>38197434</td><td>38311956</td><td>100000</td></tr><tr><td>24be97da5cf8841e3d7afefa80ccf98d332c38e01376fbaedc66e0ad2f50cf2a95e1eca006f25e8f55c5eee2ee76ffa30a68897e4f18218d07c081407880d8d3</td><td>null</td><td>542950e9fb0327c3f18b79daef71687cc35f6d08cf6bb5e9fd2dd5edbcb044b356ac3451b54fbff6705e54e398ad721a3fcdc8076cd7b9f894f07a4c76c388dd</td><td>625227c0f2fb9e5c27563aebb417352bdf1471018cb36c8d97e5172e86f627b198b49e3174109d05ff002c6182087d09e0b376c94593fb6d99398d51e1a5f307</td><td>4eb0a78286164a0e4392590860aed492ccf8bb5ec4d803fe3dc9c90bf2f2358e32a7c910599c50ffa13c523f32af9c473921c6d1460028a73298c1a8a32907ba</td><td>1</td><td>MESSALI</td><td>LAZZERI</td><td>1971</td><td>6</td><td>6</td><td>39137468</td><td>39479673</td><td>100000</td></tr><tr><td>3f39ff5095369d0b0e20f6541c18743fd640ca165df3b37dcab5301b058a02eb74f3c00f912306ae99241b52e64776f7ff99cb9a82064079ac0fc7427cc00f4f</td><td>null</td><td>cd9a547d0598f805946ed113f3f0f1e792309eb706f5ccd52d85e41ed55ab71991aa184f38499a87ec68581c0b60defb34f8b336928102b3a8f4158cea40a2b7</td><td>20e069d560f28835603137a88045f7d3418a9c76b3ad407727c3b936bcf85559d2d39751be8c5ccb3b129c3602a627a7eb1f08eeb68dfd710ae9e13f7f4ba66c</td><td>46b4a5288f6ee684c9449140f3ca1a5d352a3ae8fa352bd2c8e1f313d736f14b3beba80fba663c7a45a781b226dca585ac6ff12f69371843511f97a2bd5ceebf</td><td>2</td><td>JAILSON</td><td>TABONI</td><td>1938</td><td>12</td><td>16</td><td>42216454</td><td>42909763</td><td>100000</td></tr><tr><td>afb2a87ea3d46080e20c0dc42d5ac972cf89bd549eed251203d1b493684c650a8a511c46f542abc9ba941fabe23f648a58e657729827364dc4be3b8c20fe1055</td><td>null</td><td>0d94692b9450ecec7c38add4855d9dff0e1b0873e91d6470d34c25f11f184e0214d398e074813f45ac86b2271a557ad129698f3f024e2b2104581232304f23f6</td><td>1a2221b917019bfd2409ce4fc455545c34e48f70364066116414a1c10f6b35adfe523e076949d9a14c197ff68e922c823779de2e5f710e7099057992d367d782</td><td>30c96a031b738e6664d623192e591db8bf341ff2d14f8b7b9a58e7a4501f6e0e0a6b78f53539cb0cec8b23f012c3ee50e9f6e742dfc37d14e43e8a7f93e02ac7</td><td>1</td><td>ALTAIR</td><td>SODIANT</td><td>1946</td><td>4</td><td>27</td><td>42666793</td><td>42524944</td><td>100000</td></tr><tr><td>ae90255e9dac2c215a0dcf04b093891e89b18b807152963ed964ca7cb448d3a7537ebc8cce639ba8ca4eb1f1e838969208f932c148d7c4e13d7abbb37f89bf73</td><td>null</td><td>2c798224910f631fdf2aae27309231f55e8b7148505a3750f3188260dc8db07b19054814f01fde7f47b30023a5367452c45b21c720b66b84da5aec5f5a0ccdde</td><td>e9ae064076a42cc27b8154632e8d2ff96a7b22c5f22d5bef2c01d32c9cc3aff0b75f2023eb0a81aa325298a8c2a9172f401920001b0c1d44fa16225a184e3150</td><td>011c64e76a57ef9e1b03978fb41a12c591821dfc9f07c0db812954bce269356d1c9346518d3fc9144a1b5b2cf0241979a9c1bb200fcc4d30d3edf0044f70f80f</td><td>1</td><td>VERONIKA</td><td>MICAUD</td><td>1984</td><td>7</td><td>25</td><td>47479317</td><td>47414914</td><td>100000</td></tr><tr><td>697c8239b68e641d7f3b5f892db6d716a9f1ebfd8f614da1be5fe47a76c778f27044f67726c664f1192c67ec597938595867827f8a13d53bae2bc37fe2b0280c</td><td>null</td><td>f5a1831f9bf284b455e8bf7394012ee7d72de83b13fcc8b3f6e7eec44f33d1960f304f0c22b7dc493accc740020d85c1024b349e1e4ff32e13ec3862d167869c</td><td>17986acaa3b2a2edc327640f539b108f0f209a1bd987313ee5875da1c6c91434aef19683c1abd79723d5530d31ad87161b35a39fa5efde9826ab880e327426dd</td><td>328775fadeb586927a90e3bdd3128a6e3792162f4dfe7946d64df8f45b7364cf5ffc31b43f51e3d42e07f516e0d5565632946c3905b81a9d73fdd0a0e5aeef18</td><td>1</td><td>LAURENA</td><td>DOCHER</td><td>1977</td><td>4</td><td>null</td><td>48273874</td><td>48355548</td><td>100000</td></tr><tr><td>df40c380f57d69897625c018ef60d9993f9594a5a79f02a964c47fee693b7694053ec84b09c3f83d51a68079e9711f30d4f726e292a6dcb53b38187f932c0287</td><td>null</td><td>256bd45945fcb658689aa5d37299eaa4620c5332fdc4363cd242b600b4dac3fbb97d4484abc27f867050b3c7f19ea193b24ba33f5ecbbcacd05c04e43fa4013f</td><td>ed4d6a3463bdfb1600816c802ea3ec4e01651d061df7155249c2a62638727c3ce6e59b594d3eff5214bccfde1efecf71571fa30a009497be195173e13fcaa00d</td><td>7d898c6d1ecf3e3bbc8d04d0f8d8d55c0860f39e171ae11b1b85b3aa2ff2923cdaaa6fc469b3d30e9064bed169f0a339f12fcbdce2cb28cb1807940ccc1d9aa6</td><td>1</td><td>BIBIANA</td><td>NULLANS</td><td>1991</td><td>null</td><td>0</td><td>58084930</td><td>58013280</td><td>100000</td></tr><tr><td>9c4ac97d4140c54b36043ff60e310968a303478000464df51351958a708bd95a95c264f4309836a0d24600b122cdbae2f6181fc147f8ed7d4775eeac54fdd044</td><td>null</td><td>ba2ad7b6ef7328c856214e292809a0ecf620f52d0dbd6989c2b24721fb6a14fe6cc22de411e2abccb7b53a6faa76c8edb99e0a56751c1abc44fcb7278e8633ab</td><td>ebcebf30f9d56d732ca0032f69afd1f84b35d5152e90eabd33c43bafdb11b914893dbc7121921dd59861680f2acbcf22068a75a7c8fe63cf93a5eaa56a8c5c76</td><td>b09438e3412d019e18e3c5cfe607acf540d7c890a6d0508402bea1d3d382015c36f87cde29f8f770400d2a1cae618806044d30a549dfd3e947665c5984ea92d5</td><td>1</td><td>BADIAA</td><td>MOSCADELLI</td><td>1931</td><td>4</td><td>29</td><td>63473900</td><td>62679558</td><td>100000</td></tr><tr><td>2c77fbc65c1524c698d8c7d4fa0032a3ab1db965e6a12db7f2ff4696b402d996ec3def0eb9bca6979d769f1f40f0bb6412a41a2f36e403230843fe53f54cdbc4</td><td>null</td><td>4b9ecdbbded1925c08c49c9589e08ff2b88f24ad1540433726b250a81938b09ec9fe3a31c24028ac3f9a3de7b7ce0ecf22790e882a32a800f1d2f2bf008a9532</td><td>413f402b3f047f53035baaef16328d4805fd0d90008b2a0d4f4d2a337396567db257412912d9ed79f159e9d455940da5ff579261112b69a60683343c1a7afcb1</td><td>b0be3860e01d71372103ec655c4a61a09f8655cef2f69fc878692e5c8024325c5d0fa5632d9fb9c5f4b805b0204408873ccd25cb239a74ec53242dfda732306a</td><td>2</td><td>JELANI</td><td>MOMOT</td><td>1990</td><td>11</td><td>17</td><td>2672939</td><td>2319155</td><td>100000</td></tr><tr><td>834fb1046dd049103099700ae5fc1d137c0efe3c0aec899ac6781a7a9ba0c62966dc6363ca29842ea8610489bd6c746958de6fa41537bd7a42c733063af0a3cd</td><td>null</td><td>2a584a35bd13801bc98934d6528bb2c8989fabe4d9b3dc3981d4aedc256f40b7b27362d3185f9f871f59950888acd334b0989a404d92c1b782222995cbc39788</td><td>450b9a04aa02acae9bf6be385e9f9323bb48871925e4eb2fd2bba64861dbd3557fd38d9b078031a3d5c286495e1cbe795c4d876542bef416e7c4c385a2267f34</td><td>7e40a5778cfe2a94aba6b64d1b041543111bcfd124708b7e4b3c45670a8158856445d827d91056bee7ec2e64e84ef29de6ec8ab56f22a5dc96c788fabd517dcf</td><td>2</td><td>JON</td><td>BOULLEMANT</td><td>1982</td><td>4</td><td>14</td><td>3817544</td><td>3844578</td><td>100000</td></tr><tr><td>12a7757058cfac0895e2b207240d2a4954a31d11cf50374c9ed915a363982da328820e70a542dc93be0fc490a5de27e267d30247841c01797949774304c94ce9</td><td>null</td><td>fa950dfd6a411513bbc99da875bb35654e835a4c36181499ab0f200ce2aa23972cde1fc570048836d8db158fd6d17408655c8ecec243dd30a260f3aba5deebce</td><td>69afac5c716a4f1466052e545229825391332341e7aed213eb05de004e112d204877e1d03ddaea310cb1c36ab96b7ef4010795006eec0b3ea9b578c7145b42b5</td><td>cd92e5f897d5a41d6fff51b5e06bea625689ef84e6111b3c374103e0fbe9f4fe074df55579ffd52eeccca24135dc2d8f107f4c597d00b20376f29ae7173ecee8</td><td>2</td><td>JAILSON</td><td>GRUWIER</td><td>2000</td><td>4</td><td>6</td><td>17659181</td><td>18512339</td><td>100000</td></tr><tr><td>b98ef950b55b32930fdad5600588d2a38a5cc33fa64a3afe3ff2e77831cdca126432e00bbb271c9d46a905fb4f51e316d123818434bde57173af152f25687077</td><td>null</td><td>d3a82828eb291252c110f916e4c94b8f22e957af4e9a99dad95fd59cb7217d117919755bcb10215ba1062d8d1824869833071808634ecb763702e8d457df95a4</td><td>d5abed26c106fb103ee9caa0905538b6d8df7e56256d46f0079271624586a2f93c13bc39c861fb3fed82055e24f40b7f7617dfeb3d58cbe7253f709b96fe1780</td><td>6ac2b64153331e4b99f93a8db6624ec72fa3c16e3f5ff466aeb1de2d77aa4f629a095513fbaac195c698f2f0360756cee0f2c2999984c906756c1e65d9b50644</td><td>2</td><td>NICKIE</td><td>DJAKER</td><td>1924</td><td>null</td><td>29</td><td>21983377</td><td>22913763</td><td>100000</td></tr><tr><td>365beedcc954b9c59336e71bedff7f8d0c7b71356d04ff5a0d2c7d11a4d41f59fe3ae92f7e7437c70a2465d49c372150e0cc32a3b8d4cd1d949a0ca059eac322</td><td>null</td><td>9556cd687abd417a7b674fcfe1b213c492d5ba2d3a099b13784710e71c3f34b0eff980fcd9be0b2316646742a13585a22d7b3465be578e52e8b3b2eee1a1325b</td><td>2b1f20585e189f3e3f3186861e615d7e862258f33338228caa652e42826be25eec997ef57aa68580b948e36fccc50c6941bd6b6a7c4e97745bf6ca8c737b8025</td><td>1680680c5a8e5bb456984944644aee966034c337b1831be9ea0fea7599cf3c134cb7f7a0f9f41141cfd0813d58532fab017147ea6eb7c373de08294ff8b11f08</td><td>1</td><td>MARIJANE</td><td>BELLETTINI</td><td>1975</td><td>4</td><td>26</td><td>30106214</td><td>29954659</td><td>100000</td></tr><tr><td>e6496e5a498d76ae2caf998ab293a8b942a51f294ec2e78d7663df449709edb9d007d8d15fde238227288d950f9b11140ab487cee270ceed44f49375dd18da83</td><td>null</td><td>63f0b5c91397db05650d7b5ff9cc88094de061d4aa878ea2527406260ac07440d584b7abeaea5b33a052c59bd2c9d7db2e8495381c9d54811f3b1f87de8eaf2f</td><td>0a1e38461cc2d7b99f332c5c265bba05bca791c665c08b30cbe64c556e4811de6cfd354e8339a7d0f28962f969838d085b854fd2f9e72c6231dfe7d4ec943f1d</td><td>6550be179ba048b54298a61b80bad1e5902899d90d0e3bddfb66b9a8c82d002119251409664c8673a28c0b6d035e10c66955602244eaa0c2e633c7ebcf94b043</td><td>2</td><td>MEDERIK</td><td>RECAZENS</td><td>1985</td><td>6</td><td>28</td><td>30993556</td><td>30804273</td><td>100000</td></tr><tr><td>3a5a83b958d58181b3f295a23ea3dd498a1a7d479863915755ee1784d61fa3224eccd03f8221db92f8042e086775a0467739356e503941c261e96fccdcd18889</td><td>null</td><td>71ed2ef1d00ef24724429de304a863b0a180ecc5ec1bd57dcd28c1c15e339dc342744068204b18091a2fb8b411b8607efa7f797d71109e69c221f693980ce132</td><td>00b6525d321048c4a2464fa6f12971148332a70dd326ae9554decd0973081f07be345ecc4185f8790b03df6e1e5827760e04e8c34680ba8b57cbe84c6ca85a18</td><td>c2f2bd8b4cef03e117edf386b6d1d0427f6f30635ef686af49544f34503bbc76f6b2b23ad4ed59fbad931ada2952ec68fa15e00c6a8f2ad21d552058debb1d9f</td><td>2</td><td>ÉLIE</td><td>ANILA</td><td>null</td><td>2</td><td>26</td><td>31005335</td><td>31108776</td><td>100000</td></tr><tr><td>350de30f85fd59b1696a01aab4aaf321bb83f8ec9d6342b9f5d53a65c618de783d84325de904b95b78a180dc28428f2cead668d401980ede8cc09b10a450d15e</td><td>null</td><td>c29fa09b2a2fa411c5a7377ae7a7d964bdf9bd6a77dae5f3a7a3d8eef1f9970b28f66dd9a8e88bc77b356cd26908a84b016e739022521ad62905fbe16bee4016</td><td>4b03caa7a6f63d68e7b2f9249661b345ba054a12d6f80d28f1983abb420d6bed910731ce45ade69cdd575bba0ad7c87dd789c593b62c5dcf34ef765dfd5e0e30</td><td>a8826d104922240aff5425e5f2d95965a331530134acdb424a2d724dc6b34c9ff8269049d622175c1a50dbd7b95501814828bfedc803f85a0c9b2028b2ad8b5d</td><td>2</td><td>YVANE</td><td>HOLLER</td><td>1924</td><td>8</td><td>12</td><td>32528068</td><td>32913786</td><td>100000</td></tr><tr><td>3615da996fcbd5691313aaa4a80a97e4e0f60b44a951f87df3d723e01583ba00e78b339719be91cab30151d3e7cd34462c8a465b81b843f6b37e35ba01138622</td><td>null</td><td>6ebcf5074b372390ba887543399116d8d2aa158f4fa4ed90076e97e0a55f543807e8513aae13567fa428bc544b8c30e51018ab0f05537c904cf58d6788376320</td><td>0e25406787d8c86a3b6dce6662388f5b35de423308b7c559ea837f5c5b21e4e2444e4b555eef9095f18b559a2a745ee44ab7a3e0013eefab7ed623ca9d73d1fe</td><td>8b1de896322d37267a0336224539ad61e130751dfcc5c4e035b614d3f41d97f68e3bd89343ed3cd8698dff1f6f95090f5e3135773f10f95c5982e297679912cf</td><td>2</td><td>CASPER</td><td>CREBASSA</td><td>1988</td><td>11</td><td>27</td><td>32621639</td><td>32187565</td><td>100000</td></tr><tr><td>dd8f254739ccf4c734536d8bfb93a9b3e48da41ff2035b8e922701eb97722c7de7ab53eafca3c740dce9d37e736848d5713b1e2a5cc0acda437b499e3dd124f1</td><td>null</td><td>c99b075743a715420c81f6a1a1b1bb417083a2a1352a447c3e66a36b14812f75548beaca64f6b4e4c7f277ef0c7af3aed46ea8684bf6c04a49bb116e5a2104d7</td><td>119d77e1c50b2fcdfdd385bc3e9c03369c634d4dc8518790b92f0dc31b80b4e124f963760b79cdb849b4e6af02e0316e7d2dfbf199e937ba2b10115bee15a021</td><td>618072e389960053bc5714e7f4cb0d6e7b31a810fad6bf4431a0b9fed379f32aa5050b04d6484e7806c3cb1357837afd26ea3dd36ad0fd6ea322a23b8fad3bfd</td><td>1</td><td>LATCHIMY</td><td>TOUTET</td><td>1944</td><td>12</td><td>20</td><td>32743205</td><td>32740136</td><td>100000</td></tr><tr><td>1d2fedb053c900518f27b4a9633297b9bc1046f96581f86afd5e0a5d031bb36b85caa23ae799e32ea80482293622076817ca9011ee763f3b8cf458eb090af5a0</td><td>null</td><td>3879918721195d78359ccc9f84ea007ac2bb84fc10a42fd8b1dc8a94c69b787aa940d0a683fb0b866e9f53438b89b35002a52791c70e5bf9f9dc2556deb7715d</td><td>67b46e3b39116aa71fd76a23b235393f23a751a2f141f664432aa512f57bfcf14c68dde2a5e34dcc709041694e4bf5eee9f80f818e904979ea42246ec0e2735d</td><td>5512da400279477f48305140aac34f4ea8e32b6015af811f05ee0b686f2359532dd90648f39beff4d456271e9d4ce63eb25577d05e3813d190e2e867ffbb7f13</td><td>1</td><td>CHRISTELLE</td><td>PIRRAUD</td><td>2000</td><td>0</td><td>18</td><td>36435035</td><td>36512692</td><td>100000</td></tr><tr><td>4ec82bad265bcabe9e0ec4f10f3a5c9cd143b8f1b05f77441edcdeaa2a48086b0a8bdaae9adec38b15f94abf98b5e753c03739ea2d2440509169e3ffe207de22</td><td>null</td><td>e4736ac7f9d8630155bd03cb16ec4b5a35ef6428cd02a3df9820514cf6a842c472373343d7ce18aab2d16d4739c3d527355d1ae4fbf836b07956d65612f76328</td><td>c7091bd224c7b77b1c82e568f8f42c8f1781165b61fcae21b06704df142c6066b7deb72b073d0fcfd74f597d45f9e684a748b53978deb0bd665743bdbb15810a</td><td>a1549287b351a006369884bc8f1dcbb5f385cf17f8975f153eae78c9d5e863a1f103c83b9c21125423bff7bd5f2052f4e05fb41f04ecd462cd0d5137382af491</td><td>2</td><td>KEZIO</td><td>OUAZANA</td><td>1963</td><td>8</td><td>9</td><td>39184199</td><td>39237614</td><td>100000</td></tr><tr><td>a7013e12f2e3b2fad91f089aef443781740f4963eddf8aad715b272e5161ec0ac3e171742385324a2c4d0c5ecc846b993e77f1be952d31dbded8945d1ec62fc8</td><td>null</td><td>af72cd3c583adc3509b613a538306ef31ae00a4aeb20de64ba54b761a7281ce8ed675a24395c93737175f717dd0d8087a13fb8c0122ea2831684445bcaf51b13</td><td>25b6026eca28c6c2d1ac2f7c3bd4e23cb6fca5ca3cfe5827bc8371e9aebb05632e2c2bc216549805fe6c89dc136479a2f0e63ea0cc0793b4c75556c0c1f66745</td><td>aa4467d19781375171109cb0eca94f6af6d1e00b5105061f6b2156bba26b51124a33f872d4e939b2f8fc00eace2a25542f83e39d3290663095fbd491060e5e43</td><td>2</td><td>NELO</td><td>GUENAF</td><td>1942</td><td>null</td><td>3</td><td>43409781</td><td>43787293</td><td>100000</td></tr><tr><td>c29874b6085ab817239d16113ad9dcd31f1019e1d9f0eae4e6d815f680ce36cdcd10a63450c3a2798e8bdf403c7ff5523c9e6c36bad02e43c3fc27ec1a049ea1</td><td>null</td><td>2aee7076caa997118c16ba9b502ff4fd01fb844904f188977891f9a4b87585fa997b26791811abb6de73fecb5160d54d87431b1afeafd95d53d2bdf14421e1c3</td><td>5ce867974a186e45957c17a0bebc8632a70c950a62172147ec6d85aebe316411214aa7bf0c91a671249bc1166552a767dcdd06c866cd64173a86e171b230ae09</td><td>b2f7ac3536bb6d8f9dcf41378358dfcb1f9d977c84b5e9d44a53c3ec15d281e44c96ca9b6c26185c4cf9869d8bef0810ff34f5430cad71bdae5041680c204ef5</td><td>2</td><td>SHÉRAZADE</td><td>NIOLET</td><td>1968</td><td>5</td><td>14</td><td>44323485</td><td>44598685</td><td>100000</td></tr><tr><td>26e0d3693404590463c57e4e7815eb0990ca42613f3e20165921e595326207a0619362a6e190832cbfb31df5ee3bf5224a6fff4fd1b8c90e2f35a0dc25694769</td><td>null</td><td>5a50ad3443758cd5e4f9014b2b464e9796fed863c50256426808fde8be2731ddda8ac360f53b4a07250508f531d151a5b3bad4bece8f31a0a8a41a4aea73f417</td><td>fdf0253731b055655d166ea6e23f876eb892b39292b80601f2c32ebd74ee022d282cf1da628cc06f97120e3fb84e8b6c75ca89d71427fa832ef83d5a3c46f07a</td><td>e77b0d29bb6fcefa892d55b539c8edaaf410ae5c3ab14beabac98d2bb95416b7ea96d94d5ab348a5a6b296fe6c643dd65358e6c3f7fb7832f3f2581994572964</td><td>1</td><td>LUDINE</td><td>GIFFARD-BOUVIER</td><td>1926</td><td>null</td><td>19</td><td>48547694</td><td>48930569</td><td>100000</td></tr><tr><td>a174a2a4025a5b626f907c9085103391d5a29e19fe9eefc1fed83384a349439bd812c92d0b25a5966c596887424886c0a0e4d7df2630d3418646254bed35a4fb</td><td>null</td><td>88a0e23014bf8b63bd8cb28040a2d38003cc279854d5fcecebab8b4559c6c60a64adefbbd423c6bc2592fdaaf53fae18952a4dd0a83331bd908efe8825925e7a</td><td>35a96fd9b06025d66ddfd262e7549171e3f1015ae4d4e3d7ceab4bee5c7fea1193388782756eeed33d1843dd987017555b2804e9ca4de643be832ff80a731521</td><td>e1c3b3bf73c97aef41b8de0ab8d04b42ec7a078d430a7576ecbb00c509cca57b5fbfd0ee7fad24f6591f4f698d001b78ad8d8d1a0046a38dc884374603f541ae</td><td>1</td><td>JHOVANY</td><td>POPLIN</td><td>1933</td><td>2</td><td>16</td><td>55196153</td><td>55126517</td><td>100000</td></tr><tr><td>9cf651f3320112f0f3ebca4d173ba9bfeea6b7b27c2922d9eb7d2af1cbc91629ebb7aacc697bf793418fd829776cfe35c6e62458bf080f0c873a10868c3971b4</td><td>null</td><td>8b4b5e8f5e20cd1a00df28cef905dc5597a065b85cfa1ed98fa2a6c440e430b011d6e9ebf45684bbaa59269854a664e1bc71666e6cd01286c8b80d270a5ddc5c</td><td>cd49cfd8f1c40016c0fc9c9d680d7781e6a625ca6b21f35b70e790371038a87eb46dffd4120a21aa7eb36255d4010074f07f5bc089096f3d06a0800a430a3399</td><td>c866b95b4995b1a540c5268437ad1326676059ce1534e7fd1bc14034071989991e6e57310beece169eb5fe9328302eade3ceda1444229cf4253cbdfc9eb30421</td><td>1</td><td>SOISIK</td><td>DARENCOURT</td><td>1985</td><td>7</td><td>12</td><td>65879711</td><td>65703109</td><td>100000</td></tr><tr><td>e1eef19e439c5b1634acc5cc171c795d81c51f88dab76a4ea0466f4e448644486d3780a27c0b77fb26d7989c5917b9c1621cd53ed9f4701c85e3fdb62337534f</td><td>null</td><td>db94274e5a8cda7abb5f2571fe5b52596fb1de43e2b13936f4e280a5b617ae90b793c2314a6964157923565059f392b26eb2fc48e40f1e64d81f83f06215e5fb</td><td>ba7784b56b5954c1637579a8e9c8dc095f4b8d4c09e84a094e7939292919a1ec9b5b2e53a1cb93f4ee0cfcd8923b4c113330fd1f06907106201419ca40bb1bd7</td><td>1f11007943ff4f69fe3c12d41ba4fc5443427e562bcd1c691482a9af96818821960c8d569a843a3c920aeff7a9a0dce46a1d3ed387d256e13ebad318907e3940</td><td>1</td><td>BLAKE</td><td>SPOSITO</td><td>1996</td><td>2</td><td>1</td><td>68895853</td><td>68802602</td><td>100000</td></tr><tr><td>a77fda6462586388b029eae25a4cd01b97e797f50279fd5124668114a38cfadb72cf3fb629bb00c0ec55c8eb62999f78c3d9e1a5d172649a252c4f5f49a34a47</td><td>null</td><td>c750a0298bcaaf75c278c04c89e67748babc498a53232a12f95f0fbd30609ec0c2901b18e5fe05167b2769c5a5fee373993da29907d7f73323fe8ea707d5b961</td><td>43cfe273365c04f61dcb98ec2df0dd7d66aece0b349d9998c13e8da69253115678c4912887c4bb84e5f84fe56e84a1e86979843c929d064b64d6b3100d24ef44</td><td>2d205a2df76834f5f90aa0eb3b3bc928a18222319b68e91e7f334da161d35a657f5bad10aa02a75c4328abb27cfed63fe33a8cf04e0b4bff3ab2e098b513c154</td><td>2</td><td>JEAN-RENAUD</td><td>LUNEL</td><td>1951</td><td>null</td><td>22</td><td>2486122</td><td>2764983</td><td>100000</td></tr><tr><td>bef444fa91f09dd2c62dba225204703f15e2607f83c555907f90104e70c20e96c70fe0e9db8252361a149858ad771b61b9598566efae4f5a0961c2407c6c0695</td><td>null</td><td>ff4ed2d5b8573a5783993d10e2dc6ca9b99105a385dcd32b15675207b4bd281305a77191b4d825d2308ce68e81f1b94b6f98cec77bf8c0914d6c7ecc5248057c</td><td>b088cb4af7f5256d4fe967d38e6d5a3a492f8f6d698d733036093cc9244a645cd614f999171990291272d5273bac2a2ddf5a793b73ed61aa21ab910e1d3c9112</td><td>2b2f71822ce18a97a005ad9ba8f3a6453cfa6523282ea1bdb792591e2c5e0bc48b6c2e5bae45eb147bd728b97a5fe43f550fc6520e3452fcfecaf773e0d2e364</td><td>1</td><td>GEORGINETTE</td><td>ASTESANO</td><td>1933</td><td>11</td><td>23</td><td>7631211</td><td>7620831</td><td>100000</td></tr><tr><td>a14a61676aae3a419c7d9244f4749b92e81108a6422ec975abf2981013876edfd287780e08351cc0bb21497b371ef38d79d414bac2effc914b730c60d25930bd</td><td>null</td><td>6d2eacfb000f4965427614b07ff0fd6c9ae7f777fee7398f2f59454a28085ad42cb9841cdb6f4fb636d55fd0e9f170ddc62d7ad13211c771a910694bfadb5206</td><td>965f29a77da81d224757941f7d76867217b3dfcccd14c6e200e1ead0087f3ccf0a2f0110cbac0badc4d97cce9571b3e7b1bc9381b469045721dfc34b036c2f3a</td><td>bead169f8f89b9473c5745492a6b7bcec5f93103769dbd68e64c86b5d08613a4c0ad443c3910dc0a83225db84714e22ccd840b23958451fe28ec1653fd180c6a</td><td>1</td><td>HINDOU</td><td>CHRISTOUD</td><td>1986</td><td>10</td><td>17</td><td>10561315</td><td>10627443</td><td>100000</td></tr></tbody></table>"
      ]
     },
     "execution_count": 5,
     "metadata": {},
     "output_type": "execute_result"
    }
   ],
   "source": [
    "show := show(ds);"
   ]
  },
  {
   "cell_type": "markdown",
   "id": "316770cd-0cce-449e-8017-8d90f6a3304c",
   "metadata": {},
   "source": [
    "# Show ds"
   ]
  },
  {
   "cell_type": "markdown",
   "id": "c3217cd6-abc1-4893-9079-f176754e98b8",
   "metadata": {},
   "source": [
    "## Play with VTL\n",
    "\n",
    "Count the number of users group by their birth year.  "
   ]
  },
  {
   "cell_type": "code",
   "execution_count": 8,
   "id": "54233a4d-3cf7-4a40-a69d-a1bbaa91e702",
   "metadata": {},
   "outputs": [
    {
     "data": {},
     "execution_count": 8,
     "metadata": {},
     "output_type": "execute_result"
    }
   ],
   "source": [
    "ds1 := ds[aggr ctn := count() group by anais];"
   ]
  },
  {
   "cell_type": "code",
   "execution_count": 9,
   "id": "9cb649e5-978b-49a2-8f4d-32a568d80adb",
   "metadata": {},
   "outputs": [
    {
     "data": {
      "text/html": [
       "<table id='dataset_1353702257' class='display'><thead><tr><th>anais</th><th>ctn</th></tr></thead><tbody><tr><td>1950</td><td>13</td></tr><tr><td>1936</td><td>11</td></tr><tr><td>1951</td><td>15</td></tr><tr><td>1958</td><td>26</td></tr><tr><td>1921</td><td>11</td></tr><tr><td>1983</td><td>8</td></tr><tr><td>1972</td><td>7</td></tr><tr><td>1979</td><td>18</td></tr><tr><td>1988</td><td>11</td></tr><tr><td>1986</td><td>15</td></tr><tr><td>1949</td><td>4</td></tr><tr><td>1969</td><td>25</td></tr><tr><td>1930</td><td>11</td></tr><tr><td>1964</td><td>18</td></tr><tr><td>1967</td><td>8</td></tr><tr><td>1956</td><td>3</td></tr><tr><td>1937</td><td>13</td></tr><tr><td>1924</td><td>14</td></tr><tr><td>1991</td><td>13</td></tr><tr><td>1940</td><td>11</td></tr><tr><td>1975</td><td>12</td></tr><tr><td>1945</td><td>6</td></tr><tr><td>1942</td><td>15</td></tr><tr><td>1935</td><td>5</td></tr><tr><td>null</td><td>14</td></tr><tr><td>1960</td><td>11</td></tr><tr><td>1934</td><td>20</td></tr><tr><td>1994</td><td>9</td></tr><tr><td>1923</td><td>16</td></tr><tr><td>1955</td><td>9</td></tr><tr><td>1987</td><td>4</td></tr><tr><td>1999</td><td>15</td></tr><tr><td>1997</td><td>2</td></tr><tr><td>1948</td><td>20</td></tr><tr><td>1963</td><td>11</td></tr><tr><td>1953</td><td>8</td></tr><tr><td>1944</td><td>17</td></tr><tr><td>1928</td><td>14</td></tr><tr><td>1926</td><td>16</td></tr><tr><td>1947</td><td>9</td></tr><tr><td>1920</td><td>1</td></tr><tr><td>1970</td><td>13</td></tr><tr><td>1998</td><td>10</td></tr><tr><td>1959</td><td>6</td></tr><tr><td>1968</td><td>4</td></tr><tr><td>1925</td><td>16</td></tr><tr><td>1976</td><td>9</td></tr><tr><td>1984</td><td>14</td></tr><tr><td>1977</td><td>20</td></tr><tr><td>1931</td><td>18</td></tr></tbody></table>"
      ]
     },
     "execution_count": 9,
     "metadata": {},
     "output_type": "execute_result"
    }
   ],
   "source": [
    "show := show(ds1);"
   ]
  },
  {
   "cell_type": "markdown",
   "id": "9198964b-cfe1-4336-8c19-e2935df6c34a",
   "metadata": {},
   "source": [
    "## Persist ds1 on storage"
   ]
  },
  {
   "cell_type": "code",
   "execution_count": 10,
   "id": "51705eb4-601b-47e3-8e28-32ab7f894e3c",
   "metadata": {},
   "outputs": [
    {
     "data": {},
     "execution_count": 10,
     "metadata": {},
     "output_type": "execute_result"
    }
   ],
   "source": [
    "res:=writeS3(\"/tmp/vtl_demo/output\", ds1);"
   ]
  },
  {
   "cell_type": "markdown",
   "id": "a34d56cb-cc56-4d2a-b1e0-3cf517fd9b2c",
   "metadata": {},
   "source": [
    "## Print result"
   ]
  },
  {
   "cell_type": "code",
   "execution_count": 11,
   "id": "d1b15164-4aee-4363-b687-30fd0921e948",
   "metadata": {},
   "outputs": [
    {
     "data": {
      "text/plain": [
       "Dataset written: '/tmp/vtl_demo/output'"
      ]
     },
     "execution_count": 11,
     "metadata": {},
     "output_type": "execute_result"
    }
   ],
   "source": [
    "show:=show(res);"
   ]
  },
  {
   "cell_type": "code",
   "execution_count": null,
   "id": "69353a98-5844-4ad5-b1ae-93a93ce2169b",
   "metadata": {},
   "outputs": [],
   "source": []
  }
 ],
 "metadata": {
  "kernelspec": {
   "display_name": "Trevas VTL",
   "language": "vtl",
   "name": "trevas"
  },
  "language_info": {
   "file_extension": ".txt",
   "mimetype": "text/plain",
   "name": "Trevas VTL engine"
  }
 },
 "nbformat": 4,
 "nbformat_minor": 5
}
